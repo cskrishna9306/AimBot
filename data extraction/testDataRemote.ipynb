{
 "cells": [
  {
   "cell_type": "code",
   "execution_count": 133,
   "id": "initial_id",
   "metadata": {
    "collapsed": true,
    "ExecuteTime": {
     "end_time": "2024-09-29T00:52:33.713660Z",
     "start_time": "2024-09-29T00:52:33.240003Z"
    }
   },
   "outputs": [],
   "source": [
    "import boto3\n",
    "from botocore.exceptions import NoCredentialsError, PartialCredentialsError\n",
    "import gzip\n",
    "import io\n",
    "import json\n",
    "\n",
    "# Initialize the S3 client\n",
    "s3 = boto3.client('s3')\n",
    "\n",
    "# Specify the bucket name and object key\n",
    "bucket_name = 'vcthackathonbucket1'\n",
    "object_key = 'game-changers/games/2022/val:0429689c-85fa-4448-bbfb-10a099864809.json.gz'"
   ]
  },
  {
   "cell_type": "code",
   "outputs": [],
   "source": [
    "def getUnzippedData(bucket_name, object_key):\n",
    "    try:\n",
    "        # Retrieve the object\n",
    "        response = s3.get_object(Bucket=bucket_name, Key=object_key)\n",
    "    \n",
    "        # Read the object's content into memory\n",
    "        data = response['Body'].read()\n",
    "    \n",
    "        # Unzip the gzipped content\n",
    "        with gzip.GzipFile(fileobj=io.BytesIO(data)) as gz:\n",
    "            unzipped_data = (gz.read())\n",
    "    \n",
    "        return json.loads(unzipped_data)\n",
    "    \n",
    "    except NoCredentialsError:\n",
    "        print(\"Credentials not available.\")\n",
    "    except PartialCredentialsError:\n",
    "        print(\"Incomplete credentials provided.\")\n",
    "    except Exception as e:\n",
    "        print(f\"An error occurred: {e}\")"
   ],
   "metadata": {
    "collapsed": false,
    "ExecuteTime": {
     "end_time": "2024-09-29T00:52:33.751332Z",
     "start_time": "2024-09-29T00:52:33.634317Z"
    }
   },
   "id": "406b6f84cea17ffb",
   "execution_count": 134
  },
  {
   "cell_type": "code",
   "outputs": [],
   "source": [
    "# A cohesive dictionary which will contain all the information we want to feed into the LLM \n",
    "players = {}"
   ],
   "metadata": {
    "collapsed": false,
    "ExecuteTime": {
     "end_time": "2024-09-29T00:52:33.967589Z",
     "start_time": "2024-09-29T00:52:33.752556Z"
    }
   },
   "id": "5813bf2bb3b1369a",
   "execution_count": 135
  },
  {
   "cell_type": "markdown",
   "source": [
    "PARSE LEAGUES"
   ],
   "metadata": {
    "collapsed": false
   },
   "id": "c76c9c2347f07b0c"
  },
  {
   "cell_type": "code",
   "outputs": [],
   "source": [
    "# Specify the bucket name and object key\n",
    "bucket_name = 'vcthackathon-data'\n",
    "object_key = 'game-changers/esports-data/leagues.json.gz'\n",
    "\n",
    "leagues = {}\n",
    "leaguesJSON = getUnzippedData(bucket_name, object_key)"
   ],
   "metadata": {
    "collapsed": false,
    "ExecuteTime": {
     "end_time": "2024-09-29T00:52:34.411675Z",
     "start_time": "2024-09-29T00:52:33.949511Z"
    }
   },
   "id": "6765605626d69e76",
   "execution_count": 136
  },
  {
   "cell_type": "code",
   "outputs": [
    {
     "name": "stdout",
     "output_type": "stream",
     "text": [
      "11\n"
     ]
    }
   ],
   "source": [
    "league = {}\n",
    "#print(leaguesJSON[:2])\n",
    "for league in leaguesJSON:\n",
    "    leagues[league['league_id']] = {'name': league['name'], 'region': league['region']}\n",
    "\n",
    "print(len(leagues))"
   ],
   "metadata": {
    "collapsed": false,
    "ExecuteTime": {
     "end_time": "2024-09-29T00:52:34.413644Z",
     "start_time": "2024-09-29T00:52:34.397701Z"
    }
   },
   "id": "b57c300f25ee5d4",
   "execution_count": 137
  },
  {
   "cell_type": "markdown",
   "source": [
    "PARSE TEAMS"
   ],
   "metadata": {
    "collapsed": false
   },
   "id": "ec91c9fc37db40cd"
  },
  {
   "cell_type": "code",
   "outputs": [
    {
     "name": "stdout",
     "output_type": "stream",
     "text": [
      "283\n"
     ]
    }
   ],
   "source": [
    "# Specify the bucket name and object key\n",
    "bucket_name = 'vcthackathon-data'\n",
    "object_key = 'game-changers/esports-data/teams.json.gz'\n",
    "\n",
    "teams = {}\n",
    "teamsJSON = getUnzippedData(bucket_name, object_key)\n",
    "for team in teamsJSON:\n",
    "        teams[team['id']] = {'name': team['name'], 'acronym': team['acronym'], 'home_league_id': team['home_league_id']}\n",
    "print(len(teams))"
   ],
   "metadata": {
    "collapsed": false,
    "ExecuteTime": {
     "end_time": "2024-09-29T00:52:34.679704Z",
     "start_time": "2024-09-29T00:52:34.405361Z"
    }
   },
   "id": "a3581053559dc044",
   "execution_count": 138
  },
  {
   "cell_type": "markdown",
   "source": [
    "PARSE TOURNAMENTS"
   ],
   "metadata": {
    "collapsed": false
   },
   "id": "681eebb6da010678"
  },
  {
   "cell_type": "code",
   "outputs": [
    {
     "name": "stdout",
     "output_type": "stream",
     "text": [
      "57\n"
     ]
    }
   ],
   "source": [
    "# Specify the bucket name and object key\n",
    "bucket_name = 'vcthackathon-data'\n",
    "object_key = 'game-changers/esports-data/tournaments.json.gz'\n",
    "\n",
    "tournaments = {}\n",
    "tournamentsJSON = getUnzippedData(bucket_name, object_key)\n",
    "for tournament in tournamentsJSON:\n",
    "    tournaments[tournament['id']] = {'league_id': tournament['league_id'], 'name': tournament['name']}\n",
    "\n",
    "print(len(tournaments))"
   ],
   "metadata": {
    "collapsed": false,
    "ExecuteTime": {
     "end_time": "2024-09-29T00:52:34.717127Z",
     "start_time": "2024-09-29T00:52:34.498396Z"
    }
   },
   "id": "1bff1c5c236aa6a3",
   "execution_count": 139
  },
  {
   "cell_type": "markdown",
   "source": [
    "PARSE PLAYERS"
   ],
   "metadata": {
    "collapsed": false
   },
   "id": "35d44b89903c6954"
  },
  {
   "cell_type": "code",
   "outputs": [
    {
     "name": "stdout",
     "output_type": "stream",
     "text": [
      "1498\n"
     ]
    }
   ],
   "source": [
    "from datetime import datetime\n",
    "\n",
    "bucket_name = 'vcthackathon-data'\n",
    "object_key = 'game-changers/esports-data/players.json.gz'\n",
    "\n",
    "players = {}\n",
    "playersJSON = getUnzippedData(bucket_name, object_key)\n",
    "\n",
    "date_object = datetime.strptime(playersJSON[0]['updated_at'], \"%Y-%m-%dT%H:%M:%SZ\")\n",
    "# print(f'# of players in JSON: {len(playersJSON)}')\n",
    "for player in playersJSON:\n",
    "    currentDate = datetime.strptime(player['updated_at'], \"%Y-%m-%dT%H:%M:%SZ\")\n",
    "    if player['id'] in players:\n",
    "\n",
    "        #if a duplicate entry, keep the most recent update\n",
    "        if currentDate > players[player['id']]['updated_at']:\n",
    "            \n",
    "            # if most recent is archived, remove them\n",
    "            if player['status']==\"archived\":\n",
    "                # if most recent status of a player is archived\n",
    "                del players[player['id']]\n",
    "                \n",
    "            #otherwise, update them\n",
    "            else:\n",
    "                players[player['id']]['handle'] = player['handle']\n",
    "                players[player['id']]['updated_at'] = currentDate\n",
    "                players[player['id']]['first_name'] = player['first_name']\n",
    "                players[player['id']]['last_name'] = player['last_name']\n",
    "                players[player['id']]['home_team_id'] = player['home_team_id']\n",
    "                \n",
    "    else:\n",
    "        if player['status'] == 'archived':\n",
    "            continue\n",
    "        players[player['id']] = {}\n",
    "        players[player['id']]['handle'] = player['handle']\n",
    "        players[player['id']]['updated_at'] = currentDate\n",
    "        players[player['id']]['first_name'] = player['first_name']\n",
    "        players[player['id']]['last_name'] = player['last_name']\n",
    "        players[player['id']]['home_team_id'] = player['home_team_id']\n",
    "\n",
    "print(len(players))"
   ],
   "metadata": {
    "collapsed": false,
    "ExecuteTime": {
     "end_time": "2024-09-29T00:52:34.893642Z",
     "start_time": "2024-09-29T00:52:34.574201Z"
    }
   },
   "id": "79cb725c2ed42c15",
   "execution_count": 140
  },
  {
   "cell_type": "markdown",
   "source": [
    "PARSE MAPPING DATA\n",
    "* note that mapping data is per game *"
   ],
   "metadata": {
    "collapsed": false
   },
   "id": "f650eee5be1a2d30"
  },
  {
   "cell_type": "code",
   "outputs": [
    {
     "name": "stdout",
     "output_type": "stream",
     "text": [
      "1140\n"
     ]
    }
   ],
   "source": [
    "mappingData = {}\n",
    "\n",
    "bucket_name = 'vcthackathon-data'\n",
    "object_key = 'game-changers/esports-data/mapping_data_v2.json.gz'\n",
    "\n",
    "mappingDataJSON = getUnzippedData(bucket_name, object_key)\n",
    "for map in mappingDataJSON:\n",
    "    mappingData[map['platformGameId']] = {\n",
    "        'esportsGameId': map['esportsGameId'],\n",
    "        #'matchId': map['matchId'],\n",
    "        'tournamentId': map['tournamentId'],\n",
    "        'teamMapping': map['teamMapping'],\n",
    "        'participantMapping': map['participantMapping']\n",
    "    }\n",
    "    \n",
    "print(len(mappingData))"
   ],
   "metadata": {
    "collapsed": false,
    "ExecuteTime": {
     "end_time": "2024-09-29T00:52:35.026735Z",
     "start_time": "2024-09-29T00:52:34.801817Z"
    }
   },
   "id": "6a233d46b10836c7",
   "execution_count": 141
  },
  {
   "cell_type": "code",
   "outputs": [
    {
     "name": "stdout",
     "output_type": "stream",
     "text": [
      "23\n"
     ]
    }
   ],
   "source": [
    "# Load the agent mapping (this should be done outside of the config_event function and loaded once)\n",
    "import json \n",
    "\n",
    "agent_code_mapping = {}\n",
    "with open('agentCodeMapping.json', 'r') as f:\n",
    "    agent_code_mapping = json.load(f)\n",
    "\n",
    "print(len(agent_code_mapping))"
   ],
   "metadata": {
    "collapsed": false,
    "ExecuteTime": {
     "end_time": "2024-09-29T00:52:35.028514Z",
     "start_time": "2024-09-29T00:52:34.930476Z"
    }
   },
   "id": "dbe849ad769d1d43",
   "execution_count": 142
  },
  {
   "cell_type": "code",
   "outputs": [],
   "source": [
    "def config_event(event, temp_players, mapping_info):\n",
    "    platform_game_id = event['platformGameId']\n",
    "        \n",
    "    # Extract map info\n",
    "    map_info = event['configuration']['selectedMap']['fallback']['displayName']\n",
    "    \n",
    "    \n",
    "    # Extract team and player information\n",
    "    for team in event['configuration']['teams']:\n",
    "        team_id = str(team['teamId']['value'])\n",
    "        team_name = mapping_info['teamMapping'].get(team_id, \"Unknown Team\")     \n",
    "        \n",
    "        for player in team['playersInTeam']:\n",
    "            player_id = player['value']\n",
    "            \n",
    "            # Find player info from the players list in the configuration event\n",
    "            player_info = next((p for p in event['configuration']['players'] if p['playerId']['value'] == player_id), None)\n",
    "            if not player_info:\n",
    "                continue  # Skip if player info is not found\n",
    "        \n",
    "            \n",
    "            # Extract player details\n",
    "            player_handle = player_info['accountId']['value']\n",
    "            player_name = player_info['displayName']\n",
    "            selected_agent_guid = player_info['selectedAgent']['fallback']['guid']  # GUID of the agent\n",
    "            \n",
    "            # Get the agent name from the GUID using agentCodeMapping\n",
    "            agent_name = agent_code_mapping.get(selected_agent_guid, \"Unknown Agent\")\n",
    "            \n",
    "            # Get global player ID from participantMapping\n",
    "            global_player_id = mapping_info['participantMapping'].get(str(player_id))\n",
    "            if not global_player_id:\n",
    "                continue  # Skip if no global player ID is found\n",
    "            \n",
    "            # Initialize the player entry if not already present\n",
    "            if global_player_id not in temp_players:\n",
    "                temp_players[global_player_id] = {\n",
    "                    'ID': player_handle,\n",
    "                    'handle': player_handle,\n",
    "                    'name': player_name,\n",
    "                    'team': team_name, \n",
    "                    'Games': []\n",
    "                }\n",
    "                # Add game-specific information\n",
    "                game_info = {\n",
    "                    'Tournament Name': mapping_info['tournamentId'],\n",
    "                    'Attacking Kills': 0,\n",
    "                    'Defending Kills': 0,\n",
    "                    'Attacking Deaths': 0,\n",
    "                    'Defending Deaths': 0,\n",
    "                    'Assists (attacking/defending)': 0,\n",
    "                    'Map': map_info,\n",
    "                    'Agent': agent_name  \n",
    "                }\n",
    "            \n",
    "                temp_players[global_player_id]['Games'].append(game_info)\n",
    "    \n",
    "    return temp_players\n"
   ],
   "metadata": {
    "collapsed": false,
    "ExecuteTime": {
     "end_time": "2024-09-29T02:47:57.910075Z",
     "start_time": "2024-09-29T02:47:57.223496Z"
    }
   },
   "id": "b9d1d61738128271",
   "execution_count": 206
  },
  {
   "cell_type": "code",
   "outputs": [],
   "source": [
    "def player_died_event(event, temp_players, mapping_info, attack_defend_info):\n",
    "        \n",
    "    # Extract player IDs\n",
    "    deceased_id = event['playerDied']['deceasedId']['value']\n",
    "    killer_id = event['playerDied']['killerId']['value']\n",
    "    \n",
    "    # Use participantMapping to map to global player ID\n",
    "    \n",
    "    global_deceased_id = mapping_info['participantMapping'].get(str(deceased_id))\n",
    "    global_killer_id = mapping_info['participantMapping'].get(str(killer_id))\n",
    "    \n",
    "    # print('global id is', global_deceased_id)\n",
    "    # for keys, values in temp_players.items():\n",
    "    #     print(keys)\n",
    "    \n",
    "    # If no valid mappings are found, return\n",
    "    if not global_deceased_id or not global_killer_id:\n",
    "        return temp_players\n",
    "    \n",
    "    # Determine if the deceased and killer were on attacking or defending teams\n",
    "    if attack_defend_info['attackingTeam'] == mapping_info['participantMapping'].get(str(deceased_id)):\n",
    "        temp_players[global_deceased_id]['Games'][-1]['Attacking Deaths'] += 1\n",
    "    else:\n",
    "        temp_players[global_deceased_id]['Games'][-1]['Defending Deaths'] += 1\n",
    "    \n",
    "    if attack_defend_info['attackingTeam'] == mapping_info['participantMapping'].get(str(killer_id)):\n",
    "        temp_players[global_killer_id]['Games'][-1]['Attacking Kills'] += 1\n",
    "    else:\n",
    "        temp_players[global_killer_id]['Games'][-1]['Defending Kills'] += 1"
   ],
   "metadata": {
    "collapsed": false,
    "ExecuteTime": {
     "end_time": "2024-09-29T01:13:01.397425Z",
     "start_time": "2024-09-29T01:13:01.048341Z"
    }
   },
   "id": "cbf2088176e2e72a",
   "execution_count": 174
  },
  {
   "cell_type": "code",
   "outputs": [],
   "source": [
    "# here we set/count/increment the rounds won for the winning team members\n",
    "def round_decided(event, attack_defend_info, temp_players, mapping_info):\n",
    "    platform_game_id = event['platformGameId']\n",
    "    \n",
    "    # Get the winning team ID\n",
    "    winning_team = event['roundDecided']['result']['winningTeam']['value']\n",
    "    \n",
    "    # Iterate over players in the winning team and update rounds won\n",
    "    for local_player_id, global_player_id in mapping_info['participantMapping'].items():\n",
    "        if local_player_id in temp_players:\n",
    "            current_team = temp_players[global_player_id]['team']\n",
    "            if current_team == winning_team:\n",
    "                if current_team == attack_defend_info['attackingTeam']:\n",
    "                    temp_players[global_player_id]['Games'][-1]['roundsWon']['attack'] += 1\n",
    "                else:\n",
    "                    temp_players[global_player_id]['Games'][-1]['roundsWon']['defense'] += 1\n",
    "    \n",
    "    return temp_players\n"
   ],
   "metadata": {
    "collapsed": false,
    "ExecuteTime": {
     "end_time": "2024-09-29T01:01:41.671947Z",
     "start_time": "2024-09-29T01:01:41.542564Z"
    }
   },
   "id": "80d46c7b03e43c65",
   "execution_count": 160
  },
  {
   "cell_type": "code",
   "outputs": [],
   "source": [
    "def round_started(event, attack_defend_info):\n",
    "    round_started = event['roundStarted']\n",
    "    \n",
    "    # Update attacking and defending teams\n",
    "    attack_defend_info['attackingTeam'] = round_started['spikeMode']['attackingTeam']['value']\n",
    "    attack_defend_info['defendingTeam'] = round_started['spikeMode']['defendingTeam']['value']\n",
    "    return attack_defend_info\n"
   ],
   "metadata": {
    "collapsed": false,
    "ExecuteTime": {
     "end_time": "2024-09-29T01:01:43.146635Z",
     "start_time": "2024-09-29T01:01:43.083299Z"
    }
   },
   "id": "37632cc1b45a581e",
   "execution_count": 161
  },
  {
   "cell_type": "code",
   "outputs": [],
   "source": [
    "# this function takes in a game data file, and parses through it, returning only what we want\n",
    "# @returns updated players dictionary \n",
    "def parse_game_data(gameData, players, mappingData):\n",
    "    \n",
    "    # check if the game is in the mapping data. if not, skip it.\n",
    "    platform_game_id = gameData[0]['platformGameId']\n",
    "    if platform_game_id not in mappingData:\n",
    "        print(f\"Platform game ID {platform_game_id} not found in mapping data\")\n",
    "        return players\n",
    "    # else:\n",
    "        # print(f\"Platform game value {mappingData[platform_game_id]}\")\n",
    "    \n",
    "    \n",
    "    temp_players = {}\n",
    "    attackDefendInfo = {}\n",
    "    mapping_info = mappingData[platform_game_id]\n",
    "    configRan = False\n",
    "    for event in gameData:\n",
    "        if 'configuration' in event:\n",
    "            if configRan == False:\n",
    "                config_event(event, temp_players, mapping_info)\n",
    "                configRan = True # only need to run config once per game \n",
    "        elif 'playerDied' in event:\n",
    "            player_died_event(event, temp_players, mapping_info, attackDefendInfo)\n",
    "        elif 'roundStarted' in event:\n",
    "            round_started(event, attackDefendInfo)\n",
    "        elif 'roundDecided' in event:\n",
    "            round_decided(event, attackDefendInfo, temp_players, mapping_info)\n",
    "        elif 'roundStarted' in event:\n",
    "            round_started(event, attackDefendInfo)\n",
    "            \n",
    "    \n",
    "    print(\"temp_players\", (temp_players))\n",
    "    # \n",
    "    # for keys,values in temp_players.items():\n",
    "    #     print(keys, values)\n",
    "    #     print()\n",
    "    \n",
    "    # Merge temp_players into the main players dictionary\n",
    "    for player_id, player_data in temp_players.items():\n",
    "        if player_id in players:\n",
    "            # Merge game information if player already exists in the players dictionary\n",
    "            \n",
    "            # Ensure the 'Games' key exists for the player\n",
    "            if 'Games' not in players[player_id]:\n",
    "                players[player_id]['Games'] = []  # Initialize if it doesn't exist\n",
    "\n",
    "            # Merge game information\n",
    "            players[player_id]['Games'].extend(player_data['Games'])\n",
    "            \n",
    "        else:\n",
    "            # Add new player entry if not in players dictionary\n",
    "            players[player_id] = player_data\n",
    "            \n",
    "    \n",
    "    # return players\n",
    "\n",
    "    "
   ],
   "metadata": {
    "collapsed": false,
    "ExecuteTime": {
     "end_time": "2024-09-29T03:46:43.417758Z",
     "start_time": "2024-09-29T03:46:43.365433Z"
    }
   },
   "id": "535df2748fd4c4e0",
   "execution_count": 216
  },
  {
   "cell_type": "code",
   "outputs": [],
   "source": [
    "# TODO: Change this to be all game files instead of just one\n",
    "bucket_name = 'vcthackathon-data'\n",
    "object_key = 'game-changers/games/2024/val:001949ff-e8a0-40fb-8ba5-65e123df8e1d.json.gz'\n",
    "\n",
    "gameData = getUnzippedData(bucket_name, object_key)"
   ],
   "metadata": {
    "collapsed": false,
    "ExecuteTime": {
     "end_time": "2024-09-29T00:52:35.313546Z",
     "start_time": "2024-09-29T00:52:34.976367Z"
    }
   },
   "id": "74c8354710fee42a",
   "execution_count": 148
  },
  {
   "cell_type": "code",
   "outputs": [
    {
     "name": "stdout",
     "output_type": "stream",
     "text": [
      "Platform game value {'esportsGameId': '112729035488859981', 'tournamentId': '112729035485517625', 'teamMapping': {'12': '108764409368519858', '13': '108748169745284534'}, 'participantMapping': {'1': '111067958377934403', '2': '108748099637064824', '3': '111057371424123924', '4': '108748093144321973', '5': '108748093245509945', '6': '109030070859531583', '7': '108764516777284603', '8': '108748092607804521', '9': '108764513807403457', '10': '110745687059117485'}}\n",
      "val:001949ff-e8a0-40fb-8ba5-65e123df8e1d\n",
      "val:001949ff-e8a0-40fb-8ba5-65e123df8e1d\n",
      "val:001949ff-e8a0-40fb-8ba5-65e123df8e1d\n",
      "val:001949ff-e8a0-40fb-8ba5-65e123df8e1d\n",
      "val:001949ff-e8a0-40fb-8ba5-65e123df8e1d\n",
      "val:001949ff-e8a0-40fb-8ba5-65e123df8e1d\n",
      "val:001949ff-e8a0-40fb-8ba5-65e123df8e1d\n",
      "val:001949ff-e8a0-40fb-8ba5-65e123df8e1d\n",
      "val:001949ff-e8a0-40fb-8ba5-65e123df8e1d\n",
      "val:001949ff-e8a0-40fb-8ba5-65e123df8e1d\n",
      "val:001949ff-e8a0-40fb-8ba5-65e123df8e1d\n",
      "val:001949ff-e8a0-40fb-8ba5-65e123df8e1d\n",
      "val:001949ff-e8a0-40fb-8ba5-65e123df8e1d\n",
      "val:001949ff-e8a0-40fb-8ba5-65e123df8e1d\n",
      "val:001949ff-e8a0-40fb-8ba5-65e123df8e1d\n",
      "val:001949ff-e8a0-40fb-8ba5-65e123df8e1d\n",
      "val:001949ff-e8a0-40fb-8ba5-65e123df8e1d\n",
      "val:001949ff-e8a0-40fb-8ba5-65e123df8e1d\n",
      "val:001949ff-e8a0-40fb-8ba5-65e123df8e1d\n",
      "val:001949ff-e8a0-40fb-8ba5-65e123df8e1d\n",
      "temp_players {'109030070859531583': {'ID': 'a162ea22-686e-5233-805f-d5c75f87a893', 'handle': 'a162ea22-686e-5233-805f-d5c75f87a893', 'name': 'RIG HakuNa', 'team': 'Red', 'Games': [{'Tournament Name': '112729035485517625', 'Attacking Kills': 0, 'Defending Kills': 0, 'Attacking Deaths': 0, 'Defending Deaths': 0, 'Assists (attacking/defending)': 0, 'Map': 'Ascent', 'Agent': 'Unknown Agent'}, {'Tournament Name': '112729035485517625', 'Attacking Kills': 0, 'Defending Kills': 0, 'Attacking Deaths': 0, 'Defending Deaths': 0, 'Assists (attacking/defending)': 0, 'Map': 'Ascent', 'Agent': 'Unknown Agent'}, {'Tournament Name': '112729035485517625', 'Attacking Kills': 0, 'Defending Kills': 0, 'Attacking Deaths': 0, 'Defending Deaths': 0, 'Assists (attacking/defending)': 0, 'Map': 'Ascent', 'Agent': 'Unknown Agent'}, {'Tournament Name': '112729035485517625', 'Attacking Kills': 0, 'Defending Kills': 0, 'Attacking Deaths': 0, 'Defending Deaths': 0, 'Assists (attacking/defending)': 0, 'Map': 'Ascent', 'Agent': 'Unknown Agent'}, {'Tournament Name': '112729035485517625', 'Attacking Kills': 0, 'Defending Kills': 0, 'Attacking Deaths': 0, 'Defending Deaths': 0, 'Assists (attacking/defending)': 0, 'Map': 'Ascent', 'Agent': 'Unknown Agent'}, {'Tournament Name': '112729035485517625', 'Attacking Kills': 0, 'Defending Kills': 0, 'Attacking Deaths': 0, 'Defending Deaths': 0, 'Assists (attacking/defending)': 0, 'Map': 'Ascent', 'Agent': 'Unknown Agent'}, {'Tournament Name': '112729035485517625', 'Attacking Kills': 0, 'Defending Kills': 0, 'Attacking Deaths': 0, 'Defending Deaths': 0, 'Assists (attacking/defending)': 0, 'Map': 'Ascent', 'Agent': 'Unknown Agent'}, {'Tournament Name': '112729035485517625', 'Attacking Kills': 0, 'Defending Kills': 0, 'Attacking Deaths': 0, 'Defending Deaths': 0, 'Assists (attacking/defending)': 0, 'Map': 'Ascent', 'Agent': 'Unknown Agent'}, {'Tournament Name': '112729035485517625', 'Attacking Kills': 0, 'Defending Kills': 0, 'Attacking Deaths': 0, 'Defending Deaths': 0, 'Assists (attacking/defending)': 0, 'Map': 'Ascent', 'Agent': 'Unknown Agent'}, {'Tournament Name': '112729035485517625', 'Attacking Kills': 0, 'Defending Kills': 0, 'Attacking Deaths': 0, 'Defending Deaths': 0, 'Assists (attacking/defending)': 0, 'Map': 'Ascent', 'Agent': 'Unknown Agent'}, {'Tournament Name': '112729035485517625', 'Attacking Kills': 0, 'Defending Kills': 0, 'Attacking Deaths': 0, 'Defending Deaths': 0, 'Assists (attacking/defending)': 0, 'Map': 'Ascent', 'Agent': 'Unknown Agent'}, {'Tournament Name': '112729035485517625', 'Attacking Kills': 0, 'Defending Kills': 0, 'Attacking Deaths': 0, 'Defending Deaths': 0, 'Assists (attacking/defending)': 0, 'Map': 'Ascent', 'Agent': 'Unknown Agent'}, {'Tournament Name': '112729035485517625', 'Attacking Kills': 0, 'Defending Kills': 0, 'Attacking Deaths': 0, 'Defending Deaths': 0, 'Assists (attacking/defending)': 0, 'Map': 'Ascent', 'Agent': 'Unknown Agent'}, {'Tournament Name': '112729035485517625', 'Attacking Kills': 0, 'Defending Kills': 0, 'Attacking Deaths': 0, 'Defending Deaths': 0, 'Assists (attacking/defending)': 0, 'Map': 'Ascent', 'Agent': 'Unknown Agent'}, {'Tournament Name': '112729035485517625', 'Attacking Kills': 0, 'Defending Kills': 0, 'Attacking Deaths': 0, 'Defending Deaths': 0, 'Assists (attacking/defending)': 0, 'Map': 'Ascent', 'Agent': 'Unknown Agent'}, {'Tournament Name': '112729035485517625', 'Attacking Kills': 0, 'Defending Kills': 0, 'Attacking Deaths': 0, 'Defending Deaths': 0, 'Assists (attacking/defending)': 0, 'Map': 'Ascent', 'Agent': 'Unknown Agent'}, {'Tournament Name': '112729035485517625', 'Attacking Kills': 0, 'Defending Kills': 0, 'Attacking Deaths': 0, 'Defending Deaths': 0, 'Assists (attacking/defending)': 0, 'Map': 'Ascent', 'Agent': 'Unknown Agent'}, {'Tournament Name': '112729035485517625', 'Attacking Kills': 0, 'Defending Kills': 0, 'Attacking Deaths': 0, 'Defending Deaths': 0, 'Assists (attacking/defending)': 0, 'Map': 'Ascent', 'Agent': 'Unknown Agent'}, {'Tournament Name': '112729035485517625', 'Attacking Kills': 0, 'Defending Kills': 0, 'Attacking Deaths': 0, 'Defending Deaths': 0, 'Assists (attacking/defending)': 0, 'Map': 'Ascent', 'Agent': 'Unknown Agent'}, {'Tournament Name': '112729035485517625', 'Attacking Kills': 0, 'Defending Kills': 0, 'Attacking Deaths': 0, 'Defending Deaths': 0, 'Assists (attacking/defending)': 0, 'Map': 'Ascent', 'Agent': 'Unknown Agent'}]}, '108764516777284603': {'ID': '4426bafe-923c-5902-b5d5-5c5a218914b0', 'handle': '4426bafe-923c-5902-b5d5-5c5a218914b0', 'name': 'RIG Zodiac2', 'team': 'Red', 'Games': [{'Tournament Name': '112729035485517625', 'Attacking Kills': 0, 'Defending Kills': 0, 'Attacking Deaths': 0, 'Defending Deaths': 0, 'Assists (attacking/defending)': 0, 'Map': 'Ascent', 'Agent': 'Unknown Agent'}, {'Tournament Name': '112729035485517625', 'Attacking Kills': 0, 'Defending Kills': 0, 'Attacking Deaths': 0, 'Defending Deaths': 0, 'Assists (attacking/defending)': 0, 'Map': 'Ascent', 'Agent': 'Unknown Agent'}, {'Tournament Name': '112729035485517625', 'Attacking Kills': 0, 'Defending Kills': 0, 'Attacking Deaths': 0, 'Defending Deaths': 0, 'Assists (attacking/defending)': 0, 'Map': 'Ascent', 'Agent': 'Unknown Agent'}, {'Tournament Name': '112729035485517625', 'Attacking Kills': 0, 'Defending Kills': 0, 'Attacking Deaths': 0, 'Defending Deaths': 0, 'Assists (attacking/defending)': 0, 'Map': 'Ascent', 'Agent': 'Unknown Agent'}, {'Tournament Name': '112729035485517625', 'Attacking Kills': 0, 'Defending Kills': 0, 'Attacking Deaths': 0, 'Defending Deaths': 0, 'Assists (attacking/defending)': 0, 'Map': 'Ascent', 'Agent': 'Unknown Agent'}, {'Tournament Name': '112729035485517625', 'Attacking Kills': 0, 'Defending Kills': 0, 'Attacking Deaths': 0, 'Defending Deaths': 0, 'Assists (attacking/defending)': 0, 'Map': 'Ascent', 'Agent': 'Unknown Agent'}, {'Tournament Name': '112729035485517625', 'Attacking Kills': 0, 'Defending Kills': 0, 'Attacking Deaths': 0, 'Defending Deaths': 0, 'Assists (attacking/defending)': 0, 'Map': 'Ascent', 'Agent': 'Unknown Agent'}, {'Tournament Name': '112729035485517625', 'Attacking Kills': 0, 'Defending Kills': 0, 'Attacking Deaths': 0, 'Defending Deaths': 0, 'Assists (attacking/defending)': 0, 'Map': 'Ascent', 'Agent': 'Unknown Agent'}, {'Tournament Name': '112729035485517625', 'Attacking Kills': 0, 'Defending Kills': 0, 'Attacking Deaths': 0, 'Defending Deaths': 0, 'Assists (attacking/defending)': 0, 'Map': 'Ascent', 'Agent': 'Unknown Agent'}, {'Tournament Name': '112729035485517625', 'Attacking Kills': 0, 'Defending Kills': 0, 'Attacking Deaths': 0, 'Defending Deaths': 0, 'Assists (attacking/defending)': 0, 'Map': 'Ascent', 'Agent': 'Unknown Agent'}, {'Tournament Name': '112729035485517625', 'Attacking Kills': 0, 'Defending Kills': 0, 'Attacking Deaths': 0, 'Defending Deaths': 0, 'Assists (attacking/defending)': 0, 'Map': 'Ascent', 'Agent': 'Unknown Agent'}, {'Tournament Name': '112729035485517625', 'Attacking Kills': 0, 'Defending Kills': 0, 'Attacking Deaths': 0, 'Defending Deaths': 0, 'Assists (attacking/defending)': 0, 'Map': 'Ascent', 'Agent': 'Unknown Agent'}, {'Tournament Name': '112729035485517625', 'Attacking Kills': 0, 'Defending Kills': 0, 'Attacking Deaths': 0, 'Defending Deaths': 0, 'Assists (attacking/defending)': 0, 'Map': 'Ascent', 'Agent': 'Unknown Agent'}, {'Tournament Name': '112729035485517625', 'Attacking Kills': 0, 'Defending Kills': 0, 'Attacking Deaths': 0, 'Defending Deaths': 0, 'Assists (attacking/defending)': 0, 'Map': 'Ascent', 'Agent': 'Unknown Agent'}, {'Tournament Name': '112729035485517625', 'Attacking Kills': 0, 'Defending Kills': 0, 'Attacking Deaths': 0, 'Defending Deaths': 0, 'Assists (attacking/defending)': 0, 'Map': 'Ascent', 'Agent': 'Unknown Agent'}, {'Tournament Name': '112729035485517625', 'Attacking Kills': 0, 'Defending Kills': 0, 'Attacking Deaths': 0, 'Defending Deaths': 0, 'Assists (attacking/defending)': 0, 'Map': 'Ascent', 'Agent': 'Unknown Agent'}, {'Tournament Name': '112729035485517625', 'Attacking Kills': 0, 'Defending Kills': 0, 'Attacking Deaths': 0, 'Defending Deaths': 0, 'Assists (attacking/defending)': 0, 'Map': 'Ascent', 'Agent': 'Unknown Agent'}, {'Tournament Name': '112729035485517625', 'Attacking Kills': 0, 'Defending Kills': 0, 'Attacking Deaths': 0, 'Defending Deaths': 0, 'Assists (attacking/defending)': 0, 'Map': 'Ascent', 'Agent': 'Unknown Agent'}, {'Tournament Name': '112729035485517625', 'Attacking Kills': 0, 'Defending Kills': 0, 'Attacking Deaths': 0, 'Defending Deaths': 0, 'Assists (attacking/defending)': 0, 'Map': 'Ascent', 'Agent': 'Unknown Agent'}, {'Tournament Name': '112729035485517625', 'Attacking Kills': 0, 'Defending Kills': 0, 'Attacking Deaths': 0, 'Defending Deaths': 0, 'Assists (attacking/defending)': 0, 'Map': 'Ascent', 'Agent': 'Unknown Agent'}]}, '108748092607804521': {'ID': '91c10e79-8c0d-5fb2-92f2-405627d0277a', 'handle': '91c10e79-8c0d-5fb2-92f2-405627d0277a', 'name': 'RIG HANE', 'team': 'Red', 'Games': [{'Tournament Name': '112729035485517625', 'Attacking Kills': 0, 'Defending Kills': 0, 'Attacking Deaths': 0, 'Defending Deaths': 0, 'Assists (attacking/defending)': 0, 'Map': 'Ascent', 'Agent': 'Unknown Agent'}, {'Tournament Name': '112729035485517625', 'Attacking Kills': 0, 'Defending Kills': 0, 'Attacking Deaths': 0, 'Defending Deaths': 0, 'Assists (attacking/defending)': 0, 'Map': 'Ascent', 'Agent': 'Unknown Agent'}, {'Tournament Name': '112729035485517625', 'Attacking Kills': 0, 'Defending Kills': 0, 'Attacking Deaths': 0, 'Defending Deaths': 0, 'Assists (attacking/defending)': 0, 'Map': 'Ascent', 'Agent': 'Unknown Agent'}, {'Tournament Name': '112729035485517625', 'Attacking Kills': 0, 'Defending Kills': 0, 'Attacking Deaths': 0, 'Defending Deaths': 0, 'Assists (attacking/defending)': 0, 'Map': 'Ascent', 'Agent': 'Unknown Agent'}, {'Tournament Name': '112729035485517625', 'Attacking Kills': 0, 'Defending Kills': 0, 'Attacking Deaths': 0, 'Defending Deaths': 0, 'Assists (attacking/defending)': 0, 'Map': 'Ascent', 'Agent': 'Unknown Agent'}, {'Tournament Name': '112729035485517625', 'Attacking Kills': 0, 'Defending Kills': 0, 'Attacking Deaths': 0, 'Defending Deaths': 0, 'Assists (attacking/defending)': 0, 'Map': 'Ascent', 'Agent': 'Unknown Agent'}, {'Tournament Name': '112729035485517625', 'Attacking Kills': 0, 'Defending Kills': 0, 'Attacking Deaths': 0, 'Defending Deaths': 0, 'Assists (attacking/defending)': 0, 'Map': 'Ascent', 'Agent': 'Unknown Agent'}, {'Tournament Name': '112729035485517625', 'Attacking Kills': 0, 'Defending Kills': 0, 'Attacking Deaths': 0, 'Defending Deaths': 0, 'Assists (attacking/defending)': 0, 'Map': 'Ascent', 'Agent': 'Unknown Agent'}, {'Tournament Name': '112729035485517625', 'Attacking Kills': 0, 'Defending Kills': 0, 'Attacking Deaths': 0, 'Defending Deaths': 0, 'Assists (attacking/defending)': 0, 'Map': 'Ascent', 'Agent': 'Unknown Agent'}, {'Tournament Name': '112729035485517625', 'Attacking Kills': 0, 'Defending Kills': 0, 'Attacking Deaths': 0, 'Defending Deaths': 0, 'Assists (attacking/defending)': 0, 'Map': 'Ascent', 'Agent': 'Unknown Agent'}, {'Tournament Name': '112729035485517625', 'Attacking Kills': 0, 'Defending Kills': 0, 'Attacking Deaths': 0, 'Defending Deaths': 0, 'Assists (attacking/defending)': 0, 'Map': 'Ascent', 'Agent': 'Unknown Agent'}, {'Tournament Name': '112729035485517625', 'Attacking Kills': 0, 'Defending Kills': 0, 'Attacking Deaths': 0, 'Defending Deaths': 0, 'Assists (attacking/defending)': 0, 'Map': 'Ascent', 'Agent': 'Unknown Agent'}, {'Tournament Name': '112729035485517625', 'Attacking Kills': 0, 'Defending Kills': 0, 'Attacking Deaths': 0, 'Defending Deaths': 0, 'Assists (attacking/defending)': 0, 'Map': 'Ascent', 'Agent': 'Unknown Agent'}, {'Tournament Name': '112729035485517625', 'Attacking Kills': 0, 'Defending Kills': 0, 'Attacking Deaths': 0, 'Defending Deaths': 0, 'Assists (attacking/defending)': 0, 'Map': 'Ascent', 'Agent': 'Unknown Agent'}, {'Tournament Name': '112729035485517625', 'Attacking Kills': 0, 'Defending Kills': 0, 'Attacking Deaths': 0, 'Defending Deaths': 0, 'Assists (attacking/defending)': 0, 'Map': 'Ascent', 'Agent': 'Unknown Agent'}, {'Tournament Name': '112729035485517625', 'Attacking Kills': 0, 'Defending Kills': 0, 'Attacking Deaths': 0, 'Defending Deaths': 0, 'Assists (attacking/defending)': 0, 'Map': 'Ascent', 'Agent': 'Unknown Agent'}, {'Tournament Name': '112729035485517625', 'Attacking Kills': 0, 'Defending Kills': 0, 'Attacking Deaths': 0, 'Defending Deaths': 0, 'Assists (attacking/defending)': 0, 'Map': 'Ascent', 'Agent': 'Unknown Agent'}, {'Tournament Name': '112729035485517625', 'Attacking Kills': 0, 'Defending Kills': 0, 'Attacking Deaths': 0, 'Defending Deaths': 0, 'Assists (attacking/defending)': 0, 'Map': 'Ascent', 'Agent': 'Unknown Agent'}, {'Tournament Name': '112729035485517625', 'Attacking Kills': 0, 'Defending Kills': 0, 'Attacking Deaths': 0, 'Defending Deaths': 0, 'Assists (attacking/defending)': 0, 'Map': 'Ascent', 'Agent': 'Unknown Agent'}, {'Tournament Name': '112729035485517625', 'Attacking Kills': 0, 'Defending Kills': 0, 'Attacking Deaths': 0, 'Defending Deaths': 0, 'Assists (attacking/defending)': 0, 'Map': 'Ascent', 'Agent': 'Unknown Agent'}]}, '108764513807403457': {'ID': 'bb1d6d4a-e2a7-53dc-b158-178455c94d2a', 'handle': 'bb1d6d4a-e2a7-53dc-b158-178455c94d2a', 'name': 'RIG R4M', 'team': 'Red', 'Games': [{'Tournament Name': '112729035485517625', 'Attacking Kills': 0, 'Defending Kills': 0, 'Attacking Deaths': 0, 'Defending Deaths': 0, 'Assists (attacking/defending)': 0, 'Map': 'Ascent', 'Agent': 'Unknown Agent'}, {'Tournament Name': '112729035485517625', 'Attacking Kills': 0, 'Defending Kills': 0, 'Attacking Deaths': 0, 'Defending Deaths': 0, 'Assists (attacking/defending)': 0, 'Map': 'Ascent', 'Agent': 'Unknown Agent'}, {'Tournament Name': '112729035485517625', 'Attacking Kills': 0, 'Defending Kills': 0, 'Attacking Deaths': 0, 'Defending Deaths': 0, 'Assists (attacking/defending)': 0, 'Map': 'Ascent', 'Agent': 'Unknown Agent'}, {'Tournament Name': '112729035485517625', 'Attacking Kills': 0, 'Defending Kills': 0, 'Attacking Deaths': 0, 'Defending Deaths': 0, 'Assists (attacking/defending)': 0, 'Map': 'Ascent', 'Agent': 'Unknown Agent'}, {'Tournament Name': '112729035485517625', 'Attacking Kills': 0, 'Defending Kills': 0, 'Attacking Deaths': 0, 'Defending Deaths': 0, 'Assists (attacking/defending)': 0, 'Map': 'Ascent', 'Agent': 'Unknown Agent'}, {'Tournament Name': '112729035485517625', 'Attacking Kills': 0, 'Defending Kills': 0, 'Attacking Deaths': 0, 'Defending Deaths': 0, 'Assists (attacking/defending)': 0, 'Map': 'Ascent', 'Agent': 'Unknown Agent'}, {'Tournament Name': '112729035485517625', 'Attacking Kills': 0, 'Defending Kills': 0, 'Attacking Deaths': 0, 'Defending Deaths': 0, 'Assists (attacking/defending)': 0, 'Map': 'Ascent', 'Agent': 'Unknown Agent'}, {'Tournament Name': '112729035485517625', 'Attacking Kills': 0, 'Defending Kills': 0, 'Attacking Deaths': 0, 'Defending Deaths': 0, 'Assists (attacking/defending)': 0, 'Map': 'Ascent', 'Agent': 'Unknown Agent'}, {'Tournament Name': '112729035485517625', 'Attacking Kills': 0, 'Defending Kills': 0, 'Attacking Deaths': 0, 'Defending Deaths': 0, 'Assists (attacking/defending)': 0, 'Map': 'Ascent', 'Agent': 'Unknown Agent'}, {'Tournament Name': '112729035485517625', 'Attacking Kills': 0, 'Defending Kills': 0, 'Attacking Deaths': 0, 'Defending Deaths': 0, 'Assists (attacking/defending)': 0, 'Map': 'Ascent', 'Agent': 'Unknown Agent'}, {'Tournament Name': '112729035485517625', 'Attacking Kills': 0, 'Defending Kills': 0, 'Attacking Deaths': 0, 'Defending Deaths': 0, 'Assists (attacking/defending)': 0, 'Map': 'Ascent', 'Agent': 'Unknown Agent'}, {'Tournament Name': '112729035485517625', 'Attacking Kills': 0, 'Defending Kills': 0, 'Attacking Deaths': 0, 'Defending Deaths': 0, 'Assists (attacking/defending)': 0, 'Map': 'Ascent', 'Agent': 'Unknown Agent'}, {'Tournament Name': '112729035485517625', 'Attacking Kills': 0, 'Defending Kills': 0, 'Attacking Deaths': 0, 'Defending Deaths': 0, 'Assists (attacking/defending)': 0, 'Map': 'Ascent', 'Agent': 'Unknown Agent'}, {'Tournament Name': '112729035485517625', 'Attacking Kills': 0, 'Defending Kills': 0, 'Attacking Deaths': 0, 'Defending Deaths': 0, 'Assists (attacking/defending)': 0, 'Map': 'Ascent', 'Agent': 'Unknown Agent'}, {'Tournament Name': '112729035485517625', 'Attacking Kills': 0, 'Defending Kills': 0, 'Attacking Deaths': 0, 'Defending Deaths': 0, 'Assists (attacking/defending)': 0, 'Map': 'Ascent', 'Agent': 'Unknown Agent'}, {'Tournament Name': '112729035485517625', 'Attacking Kills': 0, 'Defending Kills': 0, 'Attacking Deaths': 0, 'Defending Deaths': 0, 'Assists (attacking/defending)': 0, 'Map': 'Ascent', 'Agent': 'Unknown Agent'}, {'Tournament Name': '112729035485517625', 'Attacking Kills': 0, 'Defending Kills': 0, 'Attacking Deaths': 0, 'Defending Deaths': 0, 'Assists (attacking/defending)': 0, 'Map': 'Ascent', 'Agent': 'Unknown Agent'}, {'Tournament Name': '112729035485517625', 'Attacking Kills': 0, 'Defending Kills': 0, 'Attacking Deaths': 0, 'Defending Deaths': 0, 'Assists (attacking/defending)': 0, 'Map': 'Ascent', 'Agent': 'Unknown Agent'}, {'Tournament Name': '112729035485517625', 'Attacking Kills': 0, 'Defending Kills': 0, 'Attacking Deaths': 0, 'Defending Deaths': 0, 'Assists (attacking/defending)': 0, 'Map': 'Ascent', 'Agent': 'Unknown Agent'}, {'Tournament Name': '112729035485517625', 'Attacking Kills': 0, 'Defending Kills': 0, 'Attacking Deaths': 0, 'Defending Deaths': 0, 'Assists (attacking/defending)': 0, 'Map': 'Ascent', 'Agent': 'Unknown Agent'}]}, '110745687059117485': {'ID': '7f29bd8b-ff77-5aa2-b4b6-118ecbae6369', 'handle': '7f29bd8b-ff77-5aa2-b4b6-118ecbae6369', 'name': 'RIG maripo', 'team': 'Red', 'Games': [{'Tournament Name': '112729035485517625', 'Attacking Kills': 0, 'Defending Kills': 0, 'Attacking Deaths': 0, 'Defending Deaths': 0, 'Assists (attacking/defending)': 0, 'Map': 'Ascent', 'Agent': 'Unknown Agent'}, {'Tournament Name': '112729035485517625', 'Attacking Kills': 0, 'Defending Kills': 0, 'Attacking Deaths': 0, 'Defending Deaths': 0, 'Assists (attacking/defending)': 0, 'Map': 'Ascent', 'Agent': 'Unknown Agent'}, {'Tournament Name': '112729035485517625', 'Attacking Kills': 0, 'Defending Kills': 0, 'Attacking Deaths': 0, 'Defending Deaths': 0, 'Assists (attacking/defending)': 0, 'Map': 'Ascent', 'Agent': 'Unknown Agent'}, {'Tournament Name': '112729035485517625', 'Attacking Kills': 0, 'Defending Kills': 0, 'Attacking Deaths': 0, 'Defending Deaths': 0, 'Assists (attacking/defending)': 0, 'Map': 'Ascent', 'Agent': 'Unknown Agent'}, {'Tournament Name': '112729035485517625', 'Attacking Kills': 0, 'Defending Kills': 0, 'Attacking Deaths': 0, 'Defending Deaths': 0, 'Assists (attacking/defending)': 0, 'Map': 'Ascent', 'Agent': 'Unknown Agent'}, {'Tournament Name': '112729035485517625', 'Attacking Kills': 0, 'Defending Kills': 0, 'Attacking Deaths': 0, 'Defending Deaths': 0, 'Assists (attacking/defending)': 0, 'Map': 'Ascent', 'Agent': 'Unknown Agent'}, {'Tournament Name': '112729035485517625', 'Attacking Kills': 0, 'Defending Kills': 0, 'Attacking Deaths': 0, 'Defending Deaths': 0, 'Assists (attacking/defending)': 0, 'Map': 'Ascent', 'Agent': 'Unknown Agent'}, {'Tournament Name': '112729035485517625', 'Attacking Kills': 0, 'Defending Kills': 0, 'Attacking Deaths': 0, 'Defending Deaths': 0, 'Assists (attacking/defending)': 0, 'Map': 'Ascent', 'Agent': 'Unknown Agent'}, {'Tournament Name': '112729035485517625', 'Attacking Kills': 0, 'Defending Kills': 0, 'Attacking Deaths': 0, 'Defending Deaths': 0, 'Assists (attacking/defending)': 0, 'Map': 'Ascent', 'Agent': 'Unknown Agent'}, {'Tournament Name': '112729035485517625', 'Attacking Kills': 0, 'Defending Kills': 0, 'Attacking Deaths': 0, 'Defending Deaths': 0, 'Assists (attacking/defending)': 0, 'Map': 'Ascent', 'Agent': 'Unknown Agent'}, {'Tournament Name': '112729035485517625', 'Attacking Kills': 0, 'Defending Kills': 0, 'Attacking Deaths': 0, 'Defending Deaths': 0, 'Assists (attacking/defending)': 0, 'Map': 'Ascent', 'Agent': 'Unknown Agent'}, {'Tournament Name': '112729035485517625', 'Attacking Kills': 0, 'Defending Kills': 0, 'Attacking Deaths': 0, 'Defending Deaths': 0, 'Assists (attacking/defending)': 0, 'Map': 'Ascent', 'Agent': 'Unknown Agent'}, {'Tournament Name': '112729035485517625', 'Attacking Kills': 0, 'Defending Kills': 0, 'Attacking Deaths': 0, 'Defending Deaths': 0, 'Assists (attacking/defending)': 0, 'Map': 'Ascent', 'Agent': 'Unknown Agent'}, {'Tournament Name': '112729035485517625', 'Attacking Kills': 0, 'Defending Kills': 0, 'Attacking Deaths': 0, 'Defending Deaths': 0, 'Assists (attacking/defending)': 0, 'Map': 'Ascent', 'Agent': 'Unknown Agent'}, {'Tournament Name': '112729035485517625', 'Attacking Kills': 0, 'Defending Kills': 0, 'Attacking Deaths': 0, 'Defending Deaths': 0, 'Assists (attacking/defending)': 0, 'Map': 'Ascent', 'Agent': 'Unknown Agent'}, {'Tournament Name': '112729035485517625', 'Attacking Kills': 0, 'Defending Kills': 0, 'Attacking Deaths': 0, 'Defending Deaths': 0, 'Assists (attacking/defending)': 0, 'Map': 'Ascent', 'Agent': 'Unknown Agent'}, {'Tournament Name': '112729035485517625', 'Attacking Kills': 0, 'Defending Kills': 0, 'Attacking Deaths': 0, 'Defending Deaths': 0, 'Assists (attacking/defending)': 0, 'Map': 'Ascent', 'Agent': 'Unknown Agent'}, {'Tournament Name': '112729035485517625', 'Attacking Kills': 0, 'Defending Kills': 0, 'Attacking Deaths': 0, 'Defending Deaths': 0, 'Assists (attacking/defending)': 0, 'Map': 'Ascent', 'Agent': 'Unknown Agent'}, {'Tournament Name': '112729035485517625', 'Attacking Kills': 0, 'Defending Kills': 0, 'Attacking Deaths': 0, 'Defending Deaths': 0, 'Assists (attacking/defending)': 0, 'Map': 'Ascent', 'Agent': 'Unknown Agent'}, {'Tournament Name': '112729035485517625', 'Attacking Kills': 0, 'Defending Kills': 0, 'Attacking Deaths': 0, 'Defending Deaths': 0, 'Assists (attacking/defending)': 0, 'Map': 'Ascent', 'Agent': 'Unknown Agent'}]}, '111067958377934403': {'ID': '12d78eab-4e1a-598f-ab05-f8ffe3563d88', 'handle': '12d78eab-4e1a-598f-ab05-f8ffe3563d88', 'name': 'ZETA SereNa1', 'team': 'Blue', 'Games': [{'Tournament Name': '112729035485517625', 'Attacking Kills': 0, 'Defending Kills': 0, 'Attacking Deaths': 0, 'Defending Deaths': 0, 'Assists (attacking/defending)': 0, 'Map': 'Ascent', 'Agent': 'Unknown Agent'}, {'Tournament Name': '112729035485517625', 'Attacking Kills': 0, 'Defending Kills': 0, 'Attacking Deaths': 0, 'Defending Deaths': 0, 'Assists (attacking/defending)': 0, 'Map': 'Ascent', 'Agent': 'Unknown Agent'}, {'Tournament Name': '112729035485517625', 'Attacking Kills': 0, 'Defending Kills': 0, 'Attacking Deaths': 0, 'Defending Deaths': 0, 'Assists (attacking/defending)': 0, 'Map': 'Ascent', 'Agent': 'Unknown Agent'}, {'Tournament Name': '112729035485517625', 'Attacking Kills': 0, 'Defending Kills': 0, 'Attacking Deaths': 0, 'Defending Deaths': 0, 'Assists (attacking/defending)': 0, 'Map': 'Ascent', 'Agent': 'Unknown Agent'}, {'Tournament Name': '112729035485517625', 'Attacking Kills': 0, 'Defending Kills': 0, 'Attacking Deaths': 0, 'Defending Deaths': 0, 'Assists (attacking/defending)': 0, 'Map': 'Ascent', 'Agent': 'Unknown Agent'}, {'Tournament Name': '112729035485517625', 'Attacking Kills': 0, 'Defending Kills': 0, 'Attacking Deaths': 0, 'Defending Deaths': 0, 'Assists (attacking/defending)': 0, 'Map': 'Ascent', 'Agent': 'Unknown Agent'}, {'Tournament Name': '112729035485517625', 'Attacking Kills': 0, 'Defending Kills': 0, 'Attacking Deaths': 0, 'Defending Deaths': 0, 'Assists (attacking/defending)': 0, 'Map': 'Ascent', 'Agent': 'Unknown Agent'}, {'Tournament Name': '112729035485517625', 'Attacking Kills': 0, 'Defending Kills': 0, 'Attacking Deaths': 0, 'Defending Deaths': 0, 'Assists (attacking/defending)': 0, 'Map': 'Ascent', 'Agent': 'Unknown Agent'}, {'Tournament Name': '112729035485517625', 'Attacking Kills': 0, 'Defending Kills': 0, 'Attacking Deaths': 0, 'Defending Deaths': 0, 'Assists (attacking/defending)': 0, 'Map': 'Ascent', 'Agent': 'Unknown Agent'}, {'Tournament Name': '112729035485517625', 'Attacking Kills': 0, 'Defending Kills': 0, 'Attacking Deaths': 0, 'Defending Deaths': 0, 'Assists (attacking/defending)': 0, 'Map': 'Ascent', 'Agent': 'Unknown Agent'}, {'Tournament Name': '112729035485517625', 'Attacking Kills': 0, 'Defending Kills': 0, 'Attacking Deaths': 0, 'Defending Deaths': 0, 'Assists (attacking/defending)': 0, 'Map': 'Ascent', 'Agent': 'Unknown Agent'}, {'Tournament Name': '112729035485517625', 'Attacking Kills': 0, 'Defending Kills': 0, 'Attacking Deaths': 0, 'Defending Deaths': 0, 'Assists (attacking/defending)': 0, 'Map': 'Ascent', 'Agent': 'Unknown Agent'}, {'Tournament Name': '112729035485517625', 'Attacking Kills': 0, 'Defending Kills': 0, 'Attacking Deaths': 0, 'Defending Deaths': 0, 'Assists (attacking/defending)': 0, 'Map': 'Ascent', 'Agent': 'Unknown Agent'}, {'Tournament Name': '112729035485517625', 'Attacking Kills': 0, 'Defending Kills': 0, 'Attacking Deaths': 0, 'Defending Deaths': 0, 'Assists (attacking/defending)': 0, 'Map': 'Ascent', 'Agent': 'Unknown Agent'}, {'Tournament Name': '112729035485517625', 'Attacking Kills': 0, 'Defending Kills': 0, 'Attacking Deaths': 0, 'Defending Deaths': 0, 'Assists (attacking/defending)': 0, 'Map': 'Ascent', 'Agent': 'Unknown Agent'}, {'Tournament Name': '112729035485517625', 'Attacking Kills': 0, 'Defending Kills': 0, 'Attacking Deaths': 0, 'Defending Deaths': 0, 'Assists (attacking/defending)': 0, 'Map': 'Ascent', 'Agent': 'Unknown Agent'}, {'Tournament Name': '112729035485517625', 'Attacking Kills': 0, 'Defending Kills': 0, 'Attacking Deaths': 0, 'Defending Deaths': 0, 'Assists (attacking/defending)': 0, 'Map': 'Ascent', 'Agent': 'Unknown Agent'}, {'Tournament Name': '112729035485517625', 'Attacking Kills': 0, 'Defending Kills': 0, 'Attacking Deaths': 0, 'Defending Deaths': 0, 'Assists (attacking/defending)': 0, 'Map': 'Ascent', 'Agent': 'Unknown Agent'}, {'Tournament Name': '112729035485517625', 'Attacking Kills': 0, 'Defending Kills': 0, 'Attacking Deaths': 0, 'Defending Deaths': 0, 'Assists (attacking/defending)': 0, 'Map': 'Ascent', 'Agent': 'Unknown Agent'}, {'Tournament Name': '112729035485517625', 'Attacking Kills': 0, 'Defending Kills': 0, 'Attacking Deaths': 0, 'Defending Deaths': 0, 'Assists (attacking/defending)': 0, 'Map': 'Ascent', 'Agent': 'Unknown Agent'}]}, '108748099637064824': {'ID': 'e2ebad04-7f2c-56b7-b570-cd6fb12deadf', 'handle': 'e2ebad04-7f2c-56b7-b570-cd6fb12deadf', 'name': 'ZETA suzu2', 'team': 'Blue', 'Games': [{'Tournament Name': '112729035485517625', 'Attacking Kills': 0, 'Defending Kills': 0, 'Attacking Deaths': 0, 'Defending Deaths': 0, 'Assists (attacking/defending)': 0, 'Map': 'Ascent', 'Agent': 'Unknown Agent'}, {'Tournament Name': '112729035485517625', 'Attacking Kills': 0, 'Defending Kills': 0, 'Attacking Deaths': 0, 'Defending Deaths': 0, 'Assists (attacking/defending)': 0, 'Map': 'Ascent', 'Agent': 'Unknown Agent'}, {'Tournament Name': '112729035485517625', 'Attacking Kills': 0, 'Defending Kills': 0, 'Attacking Deaths': 0, 'Defending Deaths': 0, 'Assists (attacking/defending)': 0, 'Map': 'Ascent', 'Agent': 'Unknown Agent'}, {'Tournament Name': '112729035485517625', 'Attacking Kills': 0, 'Defending Kills': 0, 'Attacking Deaths': 0, 'Defending Deaths': 0, 'Assists (attacking/defending)': 0, 'Map': 'Ascent', 'Agent': 'Unknown Agent'}, {'Tournament Name': '112729035485517625', 'Attacking Kills': 0, 'Defending Kills': 0, 'Attacking Deaths': 0, 'Defending Deaths': 0, 'Assists (attacking/defending)': 0, 'Map': 'Ascent', 'Agent': 'Unknown Agent'}, {'Tournament Name': '112729035485517625', 'Attacking Kills': 0, 'Defending Kills': 0, 'Attacking Deaths': 0, 'Defending Deaths': 0, 'Assists (attacking/defending)': 0, 'Map': 'Ascent', 'Agent': 'Unknown Agent'}, {'Tournament Name': '112729035485517625', 'Attacking Kills': 0, 'Defending Kills': 0, 'Attacking Deaths': 0, 'Defending Deaths': 0, 'Assists (attacking/defending)': 0, 'Map': 'Ascent', 'Agent': 'Unknown Agent'}, {'Tournament Name': '112729035485517625', 'Attacking Kills': 0, 'Defending Kills': 0, 'Attacking Deaths': 0, 'Defending Deaths': 0, 'Assists (attacking/defending)': 0, 'Map': 'Ascent', 'Agent': 'Unknown Agent'}, {'Tournament Name': '112729035485517625', 'Attacking Kills': 0, 'Defending Kills': 0, 'Attacking Deaths': 0, 'Defending Deaths': 0, 'Assists (attacking/defending)': 0, 'Map': 'Ascent', 'Agent': 'Unknown Agent'}, {'Tournament Name': '112729035485517625', 'Attacking Kills': 0, 'Defending Kills': 0, 'Attacking Deaths': 0, 'Defending Deaths': 0, 'Assists (attacking/defending)': 0, 'Map': 'Ascent', 'Agent': 'Unknown Agent'}, {'Tournament Name': '112729035485517625', 'Attacking Kills': 0, 'Defending Kills': 0, 'Attacking Deaths': 0, 'Defending Deaths': 0, 'Assists (attacking/defending)': 0, 'Map': 'Ascent', 'Agent': 'Unknown Agent'}, {'Tournament Name': '112729035485517625', 'Attacking Kills': 0, 'Defending Kills': 0, 'Attacking Deaths': 0, 'Defending Deaths': 0, 'Assists (attacking/defending)': 0, 'Map': 'Ascent', 'Agent': 'Unknown Agent'}, {'Tournament Name': '112729035485517625', 'Attacking Kills': 0, 'Defending Kills': 0, 'Attacking Deaths': 0, 'Defending Deaths': 0, 'Assists (attacking/defending)': 0, 'Map': 'Ascent', 'Agent': 'Unknown Agent'}, {'Tournament Name': '112729035485517625', 'Attacking Kills': 0, 'Defending Kills': 0, 'Attacking Deaths': 0, 'Defending Deaths': 0, 'Assists (attacking/defending)': 0, 'Map': 'Ascent', 'Agent': 'Unknown Agent'}, {'Tournament Name': '112729035485517625', 'Attacking Kills': 0, 'Defending Kills': 0, 'Attacking Deaths': 0, 'Defending Deaths': 0, 'Assists (attacking/defending)': 0, 'Map': 'Ascent', 'Agent': 'Unknown Agent'}, {'Tournament Name': '112729035485517625', 'Attacking Kills': 0, 'Defending Kills': 0, 'Attacking Deaths': 0, 'Defending Deaths': 0, 'Assists (attacking/defending)': 0, 'Map': 'Ascent', 'Agent': 'Unknown Agent'}, {'Tournament Name': '112729035485517625', 'Attacking Kills': 0, 'Defending Kills': 0, 'Attacking Deaths': 0, 'Defending Deaths': 0, 'Assists (attacking/defending)': 0, 'Map': 'Ascent', 'Agent': 'Unknown Agent'}, {'Tournament Name': '112729035485517625', 'Attacking Kills': 0, 'Defending Kills': 0, 'Attacking Deaths': 0, 'Defending Deaths': 0, 'Assists (attacking/defending)': 0, 'Map': 'Ascent', 'Agent': 'Unknown Agent'}, {'Tournament Name': '112729035485517625', 'Attacking Kills': 0, 'Defending Kills': 0, 'Attacking Deaths': 0, 'Defending Deaths': 0, 'Assists (attacking/defending)': 0, 'Map': 'Ascent', 'Agent': 'Unknown Agent'}, {'Tournament Name': '112729035485517625', 'Attacking Kills': 0, 'Defending Kills': 0, 'Attacking Deaths': 0, 'Defending Deaths': 0, 'Assists (attacking/defending)': 0, 'Map': 'Ascent', 'Agent': 'Unknown Agent'}]}, '111057371424123924': {'ID': '91b6c606-cbf6-58f7-a360-f1baeebfe571', 'handle': '91b6c606-cbf6-58f7-a360-f1baeebfe571', 'name': 'ZETA UR', 'team': 'Blue', 'Games': [{'Tournament Name': '112729035485517625', 'Attacking Kills': 0, 'Defending Kills': 0, 'Attacking Deaths': 0, 'Defending Deaths': 0, 'Assists (attacking/defending)': 0, 'Map': 'Ascent', 'Agent': 'Unknown Agent'}, {'Tournament Name': '112729035485517625', 'Attacking Kills': 0, 'Defending Kills': 0, 'Attacking Deaths': 0, 'Defending Deaths': 0, 'Assists (attacking/defending)': 0, 'Map': 'Ascent', 'Agent': 'Unknown Agent'}, {'Tournament Name': '112729035485517625', 'Attacking Kills': 0, 'Defending Kills': 0, 'Attacking Deaths': 0, 'Defending Deaths': 0, 'Assists (attacking/defending)': 0, 'Map': 'Ascent', 'Agent': 'Unknown Agent'}, {'Tournament Name': '112729035485517625', 'Attacking Kills': 0, 'Defending Kills': 0, 'Attacking Deaths': 0, 'Defending Deaths': 0, 'Assists (attacking/defending)': 0, 'Map': 'Ascent', 'Agent': 'Unknown Agent'}, {'Tournament Name': '112729035485517625', 'Attacking Kills': 0, 'Defending Kills': 0, 'Attacking Deaths': 0, 'Defending Deaths': 0, 'Assists (attacking/defending)': 0, 'Map': 'Ascent', 'Agent': 'Unknown Agent'}, {'Tournament Name': '112729035485517625', 'Attacking Kills': 0, 'Defending Kills': 0, 'Attacking Deaths': 0, 'Defending Deaths': 0, 'Assists (attacking/defending)': 0, 'Map': 'Ascent', 'Agent': 'Unknown Agent'}, {'Tournament Name': '112729035485517625', 'Attacking Kills': 0, 'Defending Kills': 0, 'Attacking Deaths': 0, 'Defending Deaths': 0, 'Assists (attacking/defending)': 0, 'Map': 'Ascent', 'Agent': 'Unknown Agent'}, {'Tournament Name': '112729035485517625', 'Attacking Kills': 0, 'Defending Kills': 0, 'Attacking Deaths': 0, 'Defending Deaths': 0, 'Assists (attacking/defending)': 0, 'Map': 'Ascent', 'Agent': 'Unknown Agent'}, {'Tournament Name': '112729035485517625', 'Attacking Kills': 0, 'Defending Kills': 0, 'Attacking Deaths': 0, 'Defending Deaths': 0, 'Assists (attacking/defending)': 0, 'Map': 'Ascent', 'Agent': 'Unknown Agent'}, {'Tournament Name': '112729035485517625', 'Attacking Kills': 0, 'Defending Kills': 0, 'Attacking Deaths': 0, 'Defending Deaths': 0, 'Assists (attacking/defending)': 0, 'Map': 'Ascent', 'Agent': 'Unknown Agent'}, {'Tournament Name': '112729035485517625', 'Attacking Kills': 0, 'Defending Kills': 0, 'Attacking Deaths': 0, 'Defending Deaths': 0, 'Assists (attacking/defending)': 0, 'Map': 'Ascent', 'Agent': 'Unknown Agent'}, {'Tournament Name': '112729035485517625', 'Attacking Kills': 0, 'Defending Kills': 0, 'Attacking Deaths': 0, 'Defending Deaths': 0, 'Assists (attacking/defending)': 0, 'Map': 'Ascent', 'Agent': 'Unknown Agent'}, {'Tournament Name': '112729035485517625', 'Attacking Kills': 0, 'Defending Kills': 0, 'Attacking Deaths': 0, 'Defending Deaths': 0, 'Assists (attacking/defending)': 0, 'Map': 'Ascent', 'Agent': 'Unknown Agent'}, {'Tournament Name': '112729035485517625', 'Attacking Kills': 0, 'Defending Kills': 0, 'Attacking Deaths': 0, 'Defending Deaths': 0, 'Assists (attacking/defending)': 0, 'Map': 'Ascent', 'Agent': 'Unknown Agent'}, {'Tournament Name': '112729035485517625', 'Attacking Kills': 0, 'Defending Kills': 0, 'Attacking Deaths': 0, 'Defending Deaths': 0, 'Assists (attacking/defending)': 0, 'Map': 'Ascent', 'Agent': 'Unknown Agent'}, {'Tournament Name': '112729035485517625', 'Attacking Kills': 0, 'Defending Kills': 0, 'Attacking Deaths': 0, 'Defending Deaths': 0, 'Assists (attacking/defending)': 0, 'Map': 'Ascent', 'Agent': 'Unknown Agent'}, {'Tournament Name': '112729035485517625', 'Attacking Kills': 0, 'Defending Kills': 0, 'Attacking Deaths': 0, 'Defending Deaths': 0, 'Assists (attacking/defending)': 0, 'Map': 'Ascent', 'Agent': 'Unknown Agent'}, {'Tournament Name': '112729035485517625', 'Attacking Kills': 0, 'Defending Kills': 0, 'Attacking Deaths': 0, 'Defending Deaths': 0, 'Assists (attacking/defending)': 0, 'Map': 'Ascent', 'Agent': 'Unknown Agent'}, {'Tournament Name': '112729035485517625', 'Attacking Kills': 0, 'Defending Kills': 0, 'Attacking Deaths': 0, 'Defending Deaths': 0, 'Assists (attacking/defending)': 0, 'Map': 'Ascent', 'Agent': 'Unknown Agent'}, {'Tournament Name': '112729035485517625', 'Attacking Kills': 0, 'Defending Kills': 0, 'Attacking Deaths': 0, 'Defending Deaths': 0, 'Assists (attacking/defending)': 0, 'Map': 'Ascent', 'Agent': 'Unknown Agent'}]}, '108748093144321973': {'ID': '4fc17458-a499-5d1f-b491-acca82987d0f', 'handle': '4fc17458-a499-5d1f-b491-acca82987d0f', 'name': 'ZETA aco', 'team': 'Blue', 'Games': [{'Tournament Name': '112729035485517625', 'Attacking Kills': 0, 'Defending Kills': 0, 'Attacking Deaths': 0, 'Defending Deaths': 0, 'Assists (attacking/defending)': 0, 'Map': 'Ascent', 'Agent': 'Unknown Agent'}, {'Tournament Name': '112729035485517625', 'Attacking Kills': 0, 'Defending Kills': 0, 'Attacking Deaths': 0, 'Defending Deaths': 0, 'Assists (attacking/defending)': 0, 'Map': 'Ascent', 'Agent': 'Unknown Agent'}, {'Tournament Name': '112729035485517625', 'Attacking Kills': 0, 'Defending Kills': 0, 'Attacking Deaths': 0, 'Defending Deaths': 0, 'Assists (attacking/defending)': 0, 'Map': 'Ascent', 'Agent': 'Unknown Agent'}, {'Tournament Name': '112729035485517625', 'Attacking Kills': 0, 'Defending Kills': 0, 'Attacking Deaths': 0, 'Defending Deaths': 0, 'Assists (attacking/defending)': 0, 'Map': 'Ascent', 'Agent': 'Unknown Agent'}, {'Tournament Name': '112729035485517625', 'Attacking Kills': 0, 'Defending Kills': 0, 'Attacking Deaths': 0, 'Defending Deaths': 0, 'Assists (attacking/defending)': 0, 'Map': 'Ascent', 'Agent': 'Unknown Agent'}, {'Tournament Name': '112729035485517625', 'Attacking Kills': 0, 'Defending Kills': 0, 'Attacking Deaths': 0, 'Defending Deaths': 0, 'Assists (attacking/defending)': 0, 'Map': 'Ascent', 'Agent': 'Unknown Agent'}, {'Tournament Name': '112729035485517625', 'Attacking Kills': 0, 'Defending Kills': 0, 'Attacking Deaths': 0, 'Defending Deaths': 0, 'Assists (attacking/defending)': 0, 'Map': 'Ascent', 'Agent': 'Unknown Agent'}, {'Tournament Name': '112729035485517625', 'Attacking Kills': 0, 'Defending Kills': 0, 'Attacking Deaths': 0, 'Defending Deaths': 0, 'Assists (attacking/defending)': 0, 'Map': 'Ascent', 'Agent': 'Unknown Agent'}, {'Tournament Name': '112729035485517625', 'Attacking Kills': 0, 'Defending Kills': 0, 'Attacking Deaths': 0, 'Defending Deaths': 0, 'Assists (attacking/defending)': 0, 'Map': 'Ascent', 'Agent': 'Unknown Agent'}, {'Tournament Name': '112729035485517625', 'Attacking Kills': 0, 'Defending Kills': 0, 'Attacking Deaths': 0, 'Defending Deaths': 0, 'Assists (attacking/defending)': 0, 'Map': 'Ascent', 'Agent': 'Unknown Agent'}, {'Tournament Name': '112729035485517625', 'Attacking Kills': 0, 'Defending Kills': 0, 'Attacking Deaths': 0, 'Defending Deaths': 0, 'Assists (attacking/defending)': 0, 'Map': 'Ascent', 'Agent': 'Unknown Agent'}, {'Tournament Name': '112729035485517625', 'Attacking Kills': 0, 'Defending Kills': 0, 'Attacking Deaths': 0, 'Defending Deaths': 0, 'Assists (attacking/defending)': 0, 'Map': 'Ascent', 'Agent': 'Unknown Agent'}, {'Tournament Name': '112729035485517625', 'Attacking Kills': 0, 'Defending Kills': 0, 'Attacking Deaths': 0, 'Defending Deaths': 0, 'Assists (attacking/defending)': 0, 'Map': 'Ascent', 'Agent': 'Unknown Agent'}, {'Tournament Name': '112729035485517625', 'Attacking Kills': 0, 'Defending Kills': 0, 'Attacking Deaths': 0, 'Defending Deaths': 0, 'Assists (attacking/defending)': 0, 'Map': 'Ascent', 'Agent': 'Unknown Agent'}, {'Tournament Name': '112729035485517625', 'Attacking Kills': 0, 'Defending Kills': 0, 'Attacking Deaths': 0, 'Defending Deaths': 0, 'Assists (attacking/defending)': 0, 'Map': 'Ascent', 'Agent': 'Unknown Agent'}, {'Tournament Name': '112729035485517625', 'Attacking Kills': 0, 'Defending Kills': 0, 'Attacking Deaths': 0, 'Defending Deaths': 0, 'Assists (attacking/defending)': 0, 'Map': 'Ascent', 'Agent': 'Unknown Agent'}, {'Tournament Name': '112729035485517625', 'Attacking Kills': 0, 'Defending Kills': 0, 'Attacking Deaths': 0, 'Defending Deaths': 0, 'Assists (attacking/defending)': 0, 'Map': 'Ascent', 'Agent': 'Unknown Agent'}, {'Tournament Name': '112729035485517625', 'Attacking Kills': 0, 'Defending Kills': 0, 'Attacking Deaths': 0, 'Defending Deaths': 0, 'Assists (attacking/defending)': 0, 'Map': 'Ascent', 'Agent': 'Unknown Agent'}, {'Tournament Name': '112729035485517625', 'Attacking Kills': 0, 'Defending Kills': 0, 'Attacking Deaths': 0, 'Defending Deaths': 0, 'Assists (attacking/defending)': 0, 'Map': 'Ascent', 'Agent': 'Unknown Agent'}, {'Tournament Name': '112729035485517625', 'Attacking Kills': 0, 'Defending Kills': 0, 'Attacking Deaths': 0, 'Defending Deaths': 0, 'Assists (attacking/defending)': 0, 'Map': 'Ascent', 'Agent': 'Unknown Agent'}]}, '108748093245509945': {'ID': 'd4f8eafa-5b9a-59bc-bfb7-df3142a16f7e', 'handle': 'd4f8eafa-5b9a-59bc-bfb7-df3142a16f7e', 'name': 'ZETA Moco', 'team': 'Blue', 'Games': [{'Tournament Name': '112729035485517625', 'Attacking Kills': 0, 'Defending Kills': 0, 'Attacking Deaths': 0, 'Defending Deaths': 0, 'Assists (attacking/defending)': 0, 'Map': 'Ascent', 'Agent': 'Unknown Agent'}, {'Tournament Name': '112729035485517625', 'Attacking Kills': 0, 'Defending Kills': 0, 'Attacking Deaths': 0, 'Defending Deaths': 0, 'Assists (attacking/defending)': 0, 'Map': 'Ascent', 'Agent': 'Unknown Agent'}, {'Tournament Name': '112729035485517625', 'Attacking Kills': 0, 'Defending Kills': 0, 'Attacking Deaths': 0, 'Defending Deaths': 0, 'Assists (attacking/defending)': 0, 'Map': 'Ascent', 'Agent': 'Unknown Agent'}, {'Tournament Name': '112729035485517625', 'Attacking Kills': 0, 'Defending Kills': 0, 'Attacking Deaths': 0, 'Defending Deaths': 0, 'Assists (attacking/defending)': 0, 'Map': 'Ascent', 'Agent': 'Unknown Agent'}, {'Tournament Name': '112729035485517625', 'Attacking Kills': 0, 'Defending Kills': 0, 'Attacking Deaths': 0, 'Defending Deaths': 0, 'Assists (attacking/defending)': 0, 'Map': 'Ascent', 'Agent': 'Unknown Agent'}, {'Tournament Name': '112729035485517625', 'Attacking Kills': 0, 'Defending Kills': 0, 'Attacking Deaths': 0, 'Defending Deaths': 0, 'Assists (attacking/defending)': 0, 'Map': 'Ascent', 'Agent': 'Unknown Agent'}, {'Tournament Name': '112729035485517625', 'Attacking Kills': 0, 'Defending Kills': 0, 'Attacking Deaths': 0, 'Defending Deaths': 0, 'Assists (attacking/defending)': 0, 'Map': 'Ascent', 'Agent': 'Unknown Agent'}, {'Tournament Name': '112729035485517625', 'Attacking Kills': 0, 'Defending Kills': 0, 'Attacking Deaths': 0, 'Defending Deaths': 0, 'Assists (attacking/defending)': 0, 'Map': 'Ascent', 'Agent': 'Unknown Agent'}, {'Tournament Name': '112729035485517625', 'Attacking Kills': 0, 'Defending Kills': 0, 'Attacking Deaths': 0, 'Defending Deaths': 0, 'Assists (attacking/defending)': 0, 'Map': 'Ascent', 'Agent': 'Unknown Agent'}, {'Tournament Name': '112729035485517625', 'Attacking Kills': 0, 'Defending Kills': 0, 'Attacking Deaths': 0, 'Defending Deaths': 0, 'Assists (attacking/defending)': 0, 'Map': 'Ascent', 'Agent': 'Unknown Agent'}, {'Tournament Name': '112729035485517625', 'Attacking Kills': 0, 'Defending Kills': 0, 'Attacking Deaths': 0, 'Defending Deaths': 0, 'Assists (attacking/defending)': 0, 'Map': 'Ascent', 'Agent': 'Unknown Agent'}, {'Tournament Name': '112729035485517625', 'Attacking Kills': 0, 'Defending Kills': 0, 'Attacking Deaths': 0, 'Defending Deaths': 0, 'Assists (attacking/defending)': 0, 'Map': 'Ascent', 'Agent': 'Unknown Agent'}, {'Tournament Name': '112729035485517625', 'Attacking Kills': 0, 'Defending Kills': 0, 'Attacking Deaths': 0, 'Defending Deaths': 0, 'Assists (attacking/defending)': 0, 'Map': 'Ascent', 'Agent': 'Unknown Agent'}, {'Tournament Name': '112729035485517625', 'Attacking Kills': 0, 'Defending Kills': 0, 'Attacking Deaths': 0, 'Defending Deaths': 0, 'Assists (attacking/defending)': 0, 'Map': 'Ascent', 'Agent': 'Unknown Agent'}, {'Tournament Name': '112729035485517625', 'Attacking Kills': 0, 'Defending Kills': 0, 'Attacking Deaths': 0, 'Defending Deaths': 0, 'Assists (attacking/defending)': 0, 'Map': 'Ascent', 'Agent': 'Unknown Agent'}, {'Tournament Name': '112729035485517625', 'Attacking Kills': 0, 'Defending Kills': 0, 'Attacking Deaths': 0, 'Defending Deaths': 0, 'Assists (attacking/defending)': 0, 'Map': 'Ascent', 'Agent': 'Unknown Agent'}, {'Tournament Name': '112729035485517625', 'Attacking Kills': 0, 'Defending Kills': 0, 'Attacking Deaths': 0, 'Defending Deaths': 0, 'Assists (attacking/defending)': 0, 'Map': 'Ascent', 'Agent': 'Unknown Agent'}, {'Tournament Name': '112729035485517625', 'Attacking Kills': 0, 'Defending Kills': 0, 'Attacking Deaths': 0, 'Defending Deaths': 0, 'Assists (attacking/defending)': 0, 'Map': 'Ascent', 'Agent': 'Unknown Agent'}, {'Tournament Name': '112729035485517625', 'Attacking Kills': 0, 'Defending Kills': 0, 'Attacking Deaths': 0, 'Defending Deaths': 0, 'Assists (attacking/defending)': 0, 'Map': 'Ascent', 'Agent': 'Unknown Agent'}, {'Tournament Name': '112729035485517625', 'Attacking Kills': 0, 'Defending Kills': 0, 'Attacking Deaths': 0, 'Defending Deaths': 0, 'Assists (attacking/defending)': 0, 'Map': 'Ascent', 'Agent': 'Unknown Agent'}]}}\n",
      "1498\n"
     ]
    }
   ],
   "source": [
    "parse_game_data(gameData, players, mappingData)\n",
    "print(len(players))"
   ],
   "metadata": {
    "collapsed": false,
    "ExecuteTime": {
     "end_time": "2024-09-29T00:52:35.315625Z",
     "start_time": "2024-09-29T00:52:35.297895Z"
    }
   },
   "id": "2be6c48cb0a74818",
   "execution_count": 149
  },
  {
   "cell_type": "markdown",
   "source": [],
   "metadata": {
    "collapsed": false
   },
   "id": "b316093eb6a9b022"
  },
  {
   "cell_type": "code",
   "outputs": [],
   "source": [
    "bucket_name = 'vcthackathon-data'\n",
    "object_key = 'game-changers/games/2024/val:3d07d83d-909c-40c7-85fb-62fef2d6b9e2.json.gz'\n",
    "\n",
    "gameData = getUnzippedData(bucket_name, object_key)"
   ],
   "metadata": {
    "collapsed": false,
    "ExecuteTime": {
     "end_time": "2024-09-29T00:52:55.315821Z",
     "start_time": "2024-09-29T00:52:35.305643Z"
    }
   },
   "id": "2ab8aa11bd63c5de",
   "execution_count": 150
  },
  {
   "cell_type": "code",
   "outputs": [
    {
     "name": "stdout",
     "output_type": "stream",
     "text": [
      "25\n",
      "snapshot\n",
      "('val:3d07d83d-909c-40c7-85fb-62fef2d6b9e2', {'observers': [{'displayName': 'GCL Archie', 'observerId': {'value': 11}, 'followedPlayerId': {'value': -1}, 'tagLine': 'eProd'}, {'displayName': 'GCL Observer3', 'observerId': {'value': 12}, 'followedPlayerId': {'value': -1}, 'tagLine': 'eProd'}, {'displayName': 'GCL Observer1', 'observerId': {'value': 13}, 'followedPlayerId': {'value': -1}, 'tagLine': 'eProd'}, {'displayName': 'GCL Observer2', 'observerId': {'value': 14}, 'followedPlayerId': {'value': -1}, 'tagLine': 'eProd'}, {'displayName': 'GCL Safi', 'observerId': {'value': 15}, 'followedPlayerId': {'value': -1}, 'tagLine': 'eProd'}, {'displayName': 'GCL Rabanito', 'observerId': {'value': 16}, 'followedPlayerId': {'value': -1}, 'tagLine': 'eProd'}, {'displayName': '', 'observerId': {'value': 22}, 'followedPlayerId': {'value': -1}, 'tagLine': ''}, {'displayName': '', 'observerId': {'value': 23}, 'followedPlayerId': {'value': -1}, 'tagLine': ''}, {'displayName': '', 'observerId': {'value': 24}, 'followedPlayerId': {'value': -1}, 'tagLine': ''}, {'displayName': '', 'observerId': {'value': 31}, 'followedPlayerId': {'value': -1}, 'tagLine': ''}, {'displayName': '', 'observerId': {'value': 33}, 'followedPlayerId': {'value': -1}, 'tagLine': ''}], 'players': []}, {'serverInfo': {'processId': '', 'rfc190Scope': 'aresriot.aws-mia1-prod.tournament-gp-miami-1.ares.gameserver'}, 'playback': 0, 'sequenceNumber': 8, 'stage': 1, 'gameVersion': '09.02.00.2703179', 'gameId': {'value': '3d07d83d-909c-40c7-85fb-62fef2d6b9e2'}, 'eventTime': {'includedPauses': '7.009s', 'omittingPauses': '7.009s'}, 'wallTime': '2024-08-05T22:53:05.148Z', 'currentGamePhase': {'phase': 'NOT_STARTED', 'roundNumber': 0}})\n",
      "\n",
      "configuration\n",
      "('val:3d07d83d-909c-40c7-85fb-62fef2d6b9e2', {'teams': [{'teamId': {'value': 17}, 'playersInTeam': [{'value': 6}, {'value': 7}, {'value': 8}, {'value': 9}, {'value': 10}], 'name': 'Red'}, {'teamId': {'value': 18}, 'playersInTeam': [{'value': 1}, {'value': 2}, {'value': 3}, {'value': 4}, {'value': 5}], 'name': 'Blue'}], 'selectedMap': {'id': 'UNKNOWN', 'fallback': {'guid': '/Game/Maps/Infinity/Infinity', 'displayName': 'Infinity'}}, 'players': [{'accountId': {'type': 'RIOT_ID', 'value': '60566271-b782-5cee-a298-6e28e3224800'}, 'playerId': {'value': 1}, 'selectedAgent': {'fallback': {'guid': '41FB69C1-4189-7B37-F117-BCAF1E96F1BF', 'displayName': ''}, 'type': 'UNKNOWN'}, 'type': 'HUMAN', 'displayName': 'MVR Camii', 'tagLine': 'eProd'}, {'accountId': {'type': 'RIOT_ID', 'value': 'b6ec2f5e-bffe-55b7-9720-9d3ad60b30ab'}, 'playerId': {'value': 2}, 'selectedAgent': {'fallback': {'guid': '5F8D3A7F-467B-97F3-062C-13ACF203C006', 'displayName': ''}, 'type': 'UNKNOWN'}, 'type': 'HUMAN', 'displayName': 'MVR AngeI', 'tagLine': 'eProd'}, {'accountId': {'type': 'RIOT_ID', 'value': '1074f724-2ee2-5525-b07a-96a7cb8ae6b0'}, 'playerId': {'value': 3}, 'selectedAgent': {'fallback': {'guid': '320B2A48-4D9B-A075-30F1-1F93A9B638FA', 'displayName': ''}, 'type': 'UNKNOWN'}, 'type': 'HUMAN', 'displayName': 'MVR ChloeZerA', 'tagLine': 'eProd'}, {'accountId': {'type': 'RIOT_ID', 'value': '23a16689-b4ec-51ca-8d19-83efbccd2f7f'}, 'playerId': {'value': 4}, 'selectedAgent': {'fallback': {'guid': 'F94C3B30-42BE-E959-889C-5AA313DBA261', 'displayName': ''}, 'type': 'UNKNOWN'}, 'type': 'HUMAN', 'displayName': 'MVR LauGuz', 'tagLine': 'eProd'}, {'accountId': {'type': 'RIOT_ID', 'value': '6bdc8fe7-03b6-5f4f-b653-6f0ba2c562f8'}, 'playerId': {'value': 5}, 'selectedAgent': {'fallback': {'guid': '117ED9E3-49F3-6512-3CCF-0CADA7E3823B', 'displayName': ''}, 'type': 'UNKNOWN'}, 'type': 'HUMAN', 'displayName': 'MVR Vefa', 'tagLine': 'eProd'}, {'accountId': {'type': 'RIOT_ID', 'value': 'e73a7280-6103-5c9d-8d6e-4354042983ff'}, 'playerId': {'value': 6}, 'selectedAgent': {'fallback': {'guid': 'CC8B64C8-4B25-4FF9-6E7F-37B4DA43D235', 'displayName': ''}, 'type': 'UNKNOWN'}, 'type': 'HUMAN', 'displayName': 'AKV mmonch', 'tagLine': 'eProd'}, {'accountId': {'type': 'RIOT_ID', 'value': '23ce7a87-9a9c-5f77-8c35-7fa7cc6ffec4'}, 'playerId': {'value': 7}, 'selectedAgent': {'fallback': {'guid': 'E370FA57-4757-3604-3648-499E1F642D3F', 'displayName': ''}, 'type': 'UNKNOWN'}, 'type': 'HUMAN', 'displayName': 'AKV Ivy', 'tagLine': 'eProd'}, {'accountId': {'type': 'RIOT_ID', 'value': 'e8dd0405-e24a-5853-bae4-3a8264321d47'}, 'playerId': {'value': 8}, 'selectedAgent': {'fallback': {'guid': '8E253930-4C05-31DD-1B6C-968525494517', 'displayName': ''}, 'type': 'UNKNOWN'}, 'type': 'HUMAN', 'displayName': 'AKV LiNLiN', 'tagLine': 'eProd'}, {'accountId': {'type': 'RIOT_ID', 'value': 'e284ea28-8a47-57b8-9a37-be1b2ddac3a0'}, 'playerId': {'value': 9}, 'selectedAgent': {'fallback': {'guid': 'ADD6443A-41BD-E414-F6AD-E58D267F4E95', 'displayName': ''}, 'type': 'UNKNOWN'}, 'type': 'HUMAN', 'displayName': 'AKV JuW', 'tagLine': 'eProd'}, {'accountId': {'type': 'RIOT_ID', 'value': '3ef5895c-bf5d-53b5-ba6f-8a34df216f9b'}, 'playerId': {'value': 10}, 'selectedAgent': {'fallback': {'guid': '320B2A48-4D9B-A075-30F1-1F93A9B638FA', 'displayName': ''}, 'type': 'UNKNOWN'}, 'type': 'HUMAN', 'displayName': 'AKV Andrehs', 'tagLine': 'eProd'}], 'spikeMode': {'currentRound': 1, 'attackingTeam': {'value': 17}, 'completedRounds': [], 'roundsToWin': 13, 'defendingTeam': {'value': 18}}}, {'serverInfo': {'processId': '', 'rfc190Scope': 'aresriot.aws-mia1-prod.tournament-gp-miami-1.ares.gameserver'}, 'playback': 0, 'sequenceNumber': 12, 'stage': 1, 'gameVersion': '09.02.00.2703179', 'gameId': {'value': '3d07d83d-909c-40c7-85fb-62fef2d6b9e2'}, 'eventTime': {'includedPauses': '10.017s', 'omittingPauses': '10.017s'}, 'wallTime': '2024-08-05T22:53:08.666Z', 'currentGamePhase': {'phase': 'NOT_STARTED', 'roundNumber': 0}})\n",
      "\n",
      "metadata\n",
      "('val:3d07d83d-909c-40c7-85fb-62fef2d6b9e2', {'serverInfo': {'processId': '', 'rfc190Scope': 'aresriot.aws-mia1-prod.tournament-gp-miami-1.ares.gameserver'}, 'playback': 0, 'sequenceNumber': 3, 'stage': 1, 'gameVersion': '09.02.00.2703179', 'gameId': {'value': '3d07d83d-909c-40c7-85fb-62fef2d6b9e2'}, 'eventTime': {'includedPauses': '2.009s', 'omittingPauses': '2.009s'}, 'wallTime': '2024-08-05T22:53:00.148Z', 'currentGamePhase': {'phase': 'NOT_STARTED', 'roundNumber': 0}}, {'observers': [{'displayName': 'GCL Archie', 'observerId': {'value': 11}, 'followedPlayerId': {'value': -1}, 'tagLine': 'eProd'}, {'displayName': 'GCL Observer3', 'observerId': {'value': 12}, 'followedPlayerId': {'value': -1}, 'tagLine': 'eProd'}, {'displayName': 'GCL Observer1', 'observerId': {'value': 13}, 'followedPlayerId': {'value': -1}, 'tagLine': 'eProd'}, {'displayName': 'GCL Observer2', 'observerId': {'value': 14}, 'followedPlayerId': {'value': -1}, 'tagLine': 'eProd'}, {'displayName': 'GCL Safi', 'observerId': {'value': 15}, 'followedPlayerId': {'value': -1}, 'tagLine': 'eProd'}, {'displayName': 'GCL Rabanito', 'observerId': {'value': 16}, 'followedPlayerId': {'value': -1}, 'tagLine': 'eProd'}, {'displayName': '', 'observerId': {'value': 22}, 'followedPlayerId': {'value': -1}, 'tagLine': ''}, {'displayName': '', 'observerId': {'value': 23}, 'followedPlayerId': {'value': -1}, 'tagLine': ''}, {'displayName': '', 'observerId': {'value': 24}, 'followedPlayerId': {'value': -1}, 'tagLine': ''}, {'displayName': '', 'observerId': {'value': 31}, 'followedPlayerId': {'value': -1}, 'tagLine': ''}, {'displayName': '', 'observerId': {'value': 33}, 'followedPlayerId': {'value': -1}, 'tagLine': ''}], 'players': []})\n",
      "\n",
      "gamePhase\n",
      "('val:3d07d83d-909c-40c7-85fb-62fef2d6b9e2', {'phase': 'BETWEEN_ROUNDS', 'roundNumber': 0}, {'serverInfo': {'processId': '', 'rfc190Scope': 'aresriot.aws-mia1-prod.tournament-gp-miami-1.ares.gameserver'}, 'playback': 0, 'sequenceNumber': 14, 'stage': 1, 'gameVersion': '09.02.00.2703179', 'gameId': {'value': '3d07d83d-909c-40c7-85fb-62fef2d6b9e2'}, 'eventTime': {'includedPauses': '10.631s', 'omittingPauses': '10.631s'}, 'wallTime': '2024-08-05T22:53:08.933Z', 'currentGamePhase': {'phase': 'BETWEEN_ROUNDS', 'roundNumber': 0}})\n",
      "\n",
      "playerSpawn\n",
      "('val:3d07d83d-909c-40c7-85fb-62fef2d6b9e2', {'player': {'value': 1}}, {'serverInfo': {'processId': '', 'rfc190Scope': 'aresriot.aws-mia1-prod.tournament-gp-miami-1.ares.gameserver'}, 'playback': 0, 'sequenceNumber': 16, 'stage': 1, 'gameVersion': '09.02.00.2703179', 'gameId': {'value': '3d07d83d-909c-40c7-85fb-62fef2d6b9e2'}, 'eventTime': {'includedPauses': '10.704s', 'omittingPauses': '10.704s'}, 'wallTime': '2024-08-05T22:53:08.961Z', 'currentGamePhase': {'phase': 'BETWEEN_ROUNDS', 'roundNumber': 0}})\n",
      "\n",
      "roundStarted\n",
      "('val:3d07d83d-909c-40c7-85fb-62fef2d6b9e2', {'roundNumber': 2, 'spikeMode': {'currentRound': 2, 'attackingTeam': {'value': 17}, 'completedRounds': [{'roundNumber': 1, 'spikeModeResult': {'attackingTeam': {'value': 17}, 'cause': 'ELIMINATION', 'defendingTeam': {'value': 18}}, 'winningTeam': {'value': 18}}], 'roundsToWin': 13, 'defendingTeam': {'value': 18}}}, {'serverInfo': {'processId': '', 'rfc190Scope': 'aresriot.aws-mia1-prod.tournament-gp-miami-1.ares.gameserver'}, 'playback': 0, 'sequenceNumber': 1034, 'stage': 1, 'gameVersion': '09.02.00.2703179', 'gameId': {'value': '3d07d83d-909c-40c7-85fb-62fef2d6b9e2'}, 'eventTime': {'includedPauses': '600.955s', 'omittingPauses': '600.955s'}, 'wallTime': '2024-08-05T23:02:59.231Z', 'currentGamePhase': {'phase': 'BETWEEN_ROUNDS', 'roundNumber': 1}})\n",
      "\n",
      "spikeStatus\n",
      "('val:3d07d83d-909c-40c7-85fb-62fef2d6b9e2', {'carrier': {'value': 7}, 'status': 'IN_HANDS'}, {'serverInfo': {'processId': '', 'rfc190Scope': 'aresriot.aws-mia1-prod.tournament-gp-miami-1.ares.gameserver'}, 'playback': 0, 'sequenceNumber': 698, 'stage': 1, 'gameVersion': '09.02.00.2703179', 'gameId': {'value': '3d07d83d-909c-40c7-85fb-62fef2d6b9e2'}, 'eventTime': {'includedPauses': '508.508s', 'omittingPauses': '508.508s'}, 'wallTime': '2024-08-05T23:01:26.782Z', 'currentGamePhase': {'phase': 'ROUND_STARTING', 'roundNumber': 0}})\n",
      "\n",
      "observerTarget\n",
      "('val:3d07d83d-909c-40c7-85fb-62fef2d6b9e2', {'targetId': {'value': 5}, 'observerId': {'value': 12}}, {'serverInfo': {'processId': '', 'rfc190Scope': 'aresriot.aws-mia1-prod.tournament-gp-miami-1.ares.gameserver'}, 'playback': 0, 'sequenceNumber': 29, 'stage': 1, 'gameVersion': '09.02.00.2703179', 'gameId': {'value': '3d07d83d-909c-40c7-85fb-62fef2d6b9e2'}, 'eventTime': {'includedPauses': '10.822s', 'omittingPauses': '10.822s'}, 'wallTime': '2024-08-05T22:53:09.077Z', 'currentGamePhase': {'phase': 'ROUND_STARTING', 'roundNumber': 0}})\n",
      "\n",
      "inventoryTransaction\n",
      "('val:3d07d83d-909c-40c7-85fb-62fef2d6b9e2', {'player': {'value': 1}, 'weapon': {'fallback': {'displayName': '', 'inventorySlot': {'slot': 'SECONDARY'}, 'guid': '29A0CFAB-485B-F5D5-779A-B59F85E204A8'}, 'type': 'UNKNOWN'}, 'price': 0, 'transactionType': 'DROP'}, {'serverInfo': {'processId': '', 'rfc190Scope': 'aresriot.aws-mia1-prod.tournament-gp-miami-1.ares.gameserver'}, 'playback': 0, 'sequenceNumber': 37, 'stage': 1, 'gameVersion': '09.02.00.2703179', 'gameId': {'value': '3d07d83d-909c-40c7-85fb-62fef2d6b9e2'}, 'eventTime': {'includedPauses': '13.387s', 'omittingPauses': '13.387s'}, 'wallTime': '2024-08-05T22:53:11.695Z', 'currentGamePhase': {'phase': 'ROUND_STARTING', 'roundNumber': 0}})\n",
      "\n",
      "abilityUsed\n",
      "('val:3d07d83d-909c-40c7-85fb-62fef2d6b9e2', {'chargesConsumed': 1, 'ability': {'type': 'UNKNOWN', 'fallback': {'displayName': '', 'inventorySlot': {'slot': 'ABILITY_1'}, 'guid': '320B2A48-4D9B-A075-30F1-1F93A9B638FA'}}, 'playerId': {'value': 3}}, {'serverInfo': {'processId': '', 'rfc190Scope': 'aresriot.aws-mia1-prod.tournament-gp-miami-1.ares.gameserver'}, 'playback': 0, 'sequenceNumber': 71, 'stage': 1, 'gameVersion': '09.02.00.2703179', 'gameId': {'value': '3d07d83d-909c-40c7-85fb-62fef2d6b9e2'}, 'eventTime': {'includedPauses': '22.801s', 'omittingPauses': '22.801s'}, 'wallTime': '2024-08-05T22:53:21.053Z', 'currentGamePhase': {'phase': 'ROUND_STARTING', 'roundNumber': 0}})\n",
      "\n",
      "damageEvent\n",
      "('val:3d07d83d-909c-40c7-85fb-62fef2d6b9e2', {'location': 'HEAD', 'causerId': {'value': 5}, 'wallPen': False, 'killEvent': True, 'damageDealt': 105, 'victimId': {'value': 9}, 'weapon': {'fallback': {'displayName': '', 'inventorySlot': {'slot': 'SECONDARY'}, 'guid': '1BAA85B4-4C70-1284-64BB-6481DFC3BB4E'}, 'type': 'UNKNOWN'}, 'damageAmount': 100}, {'serverInfo': {'processId': '', 'rfc190Scope': 'aresriot.aws-mia1-prod.tournament-gp-miami-1.ares.gameserver'}, 'playback': 0, 'sequenceNumber': 819, 'stage': 1, 'gameVersion': '09.02.00.2703179', 'gameId': {'value': '3d07d83d-909c-40c7-85fb-62fef2d6b9e2'}, 'eventTime': {'includedPauses': '554.071s', 'omittingPauses': '554.071s'}, 'wallTime': '2024-08-05T23:02:12.361Z', 'currentGamePhase': {'phase': 'IN_ROUND', 'roundNumber': 0}})\n",
      "\n",
      "playerDied\n",
      "('val:3d07d83d-909c-40c7-85fb-62fef2d6b9e2', {'deceasedId': {'value': 9}, 'weapon': {'type': 'UNKNOWN', 'fallback': {'displayName': '', 'inventorySlot': {'slot': 'SECONDARY'}, 'guid': '1BAA85B4-4C70-1284-64BB-6481DFC3BB4E'}}, 'assistants': [{'assistantId': {'value': 2}}], 'killerId': {'value': 5}}, {'serverInfo': {'processId': '', 'rfc190Scope': 'aresriot.aws-mia1-prod.tournament-gp-miami-1.ares.gameserver'}, 'playback': 0, 'sequenceNumber': 820, 'stage': 1, 'gameVersion': '09.02.00.2703179', 'gameId': {'value': '3d07d83d-909c-40c7-85fb-62fef2d6b9e2'}, 'eventTime': {'includedPauses': '554.089s', 'omittingPauses': '554.089s'}, 'wallTime': '2024-08-05T23:02:12.372Z', 'currentGamePhase': {'phase': 'IN_ROUND', 'roundNumber': 0}})\n",
      "\n",
      "roundDecided\n",
      "('val:3d07d83d-909c-40c7-85fb-62fef2d6b9e2', {'result': {'roundNumber': 2, 'spikeModeResult': {'attackingTeam': {'value': 17}, 'cause': 'SPIKE_DEFUSE', 'defendingTeam': {'value': 18}}, 'winningTeam': {'value': 18}}}, {'serverInfo': {'processId': '', 'rfc190Scope': 'aresriot.aws-mia1-prod.tournament-gp-miami-1.ares.gameserver'}, 'playback': 0, 'sequenceNumber': 1449, 'stage': 1, 'gameVersion': '09.02.00.2703179', 'gameId': {'value': '3d07d83d-909c-40c7-85fb-62fef2d6b9e2'}, 'eventTime': {'includedPauses': '800.566s', 'omittingPauses': '800.566s'}, 'wallTime': '2024-08-05T23:06:18.852Z', 'currentGamePhase': {'phase': 'IN_ROUND', 'roundNumber': 1}})\n",
      "\n",
      "roundCeremony\n",
      "('val:3d07d83d-909c-40c7-85fb-62fef2d6b9e2', {'fallback': {'guid': '', 'displayName': 'DefaultCeremony_C'}, 'type': 'DEFAULT'}, {'serverInfo': {'processId': '', 'rfc190Scope': 'aresriot.aws-mia1-prod.tournament-gp-miami-1.ares.gameserver'}, 'playback': 0, 'sequenceNumber': 1452, 'stage': 1, 'gameVersion': '09.02.00.2703179', 'gameId': {'value': '3d07d83d-909c-40c7-85fb-62fef2d6b9e2'}, 'eventTime': {'includedPauses': '800.590s', 'omittingPauses': '800.590s'}, 'wallTime': '2024-08-05T23:06:18.875Z', 'currentGamePhase': {'phase': 'ROUND_ENDING', 'roundNumber': 1}})\n",
      "\n",
      "roundEnded\n",
      "('val:3d07d83d-909c-40c7-85fb-62fef2d6b9e2', {'roundNumber': 2}, {'serverInfo': {'processId': '', 'rfc190Scope': 'aresriot.aws-mia1-prod.tournament-gp-miami-1.ares.gameserver'}, 'playback': 0, 'sequenceNumber': 1460, 'stage': 1, 'gameVersion': '09.02.00.2703179', 'gameId': {'value': '3d07d83d-909c-40c7-85fb-62fef2d6b9e2'}, 'eventTime': {'includedPauses': '807.551s', 'omittingPauses': '807.551s'}, 'wallTime': '2024-08-05T23:06:26.113Z', 'currentGamePhase': {'phase': 'ROUND_ENDING', 'roundNumber': 1}})\n",
      "\n",
      "spikePlantStarted\n",
      "('val:3d07d83d-909c-40c7-85fb-62fef2d6b9e2', {'playerId': {'value': 7}}, {'serverInfo': {'processId': '', 'rfc190Scope': 'aresriot.aws-mia1-prod.tournament-gp-miami-1.ares.gameserver'}, 'playback': 0, 'sequenceNumber': 1820, 'stage': 1, 'gameVersion': '09.02.00.2703179', 'gameId': {'value': '3d07d83d-909c-40c7-85fb-62fef2d6b9e2'}, 'eventTime': {'includedPauses': '874.635s', 'omittingPauses': '874.635s'}, 'wallTime': '2024-08-05T23:07:32.926Z', 'currentGamePhase': {'phase': 'IN_ROUND', 'roundNumber': 2}})\n",
      "\n",
      "spikePlantCompleted\n",
      "('val:3d07d83d-909c-40c7-85fb-62fef2d6b9e2', {'plantLocation': {'y': -474.71228, 'x': 4524.60791, 'z': 798.590088}, 'playerId': {'value': 7}}, {'serverInfo': {'processId': '', 'rfc190Scope': 'aresriot.aws-mia1-prod.tournament-gp-miami-1.ares.gameserver'}, 'playback': 0, 'sequenceNumber': 1826, 'stage': 1, 'gameVersion': '09.02.00.2703179', 'gameId': {'value': '3d07d83d-909c-40c7-85fb-62fef2d6b9e2'}, 'eventTime': {'includedPauses': '878.666s', 'omittingPauses': '878.666s'}, 'wallTime': '2024-08-05T23:07:36.954Z', 'currentGamePhase': {'phase': 'IN_ROUND', 'roundNumber': 2}})\n",
      "\n",
      "spikeDefuseStarted\n",
      "('val:3d07d83d-909c-40c7-85fb-62fef2d6b9e2', {'playerId': {'value': 1}}, {'serverInfo': {'processId': '', 'rfc190Scope': 'aresriot.aws-mia1-prod.tournament-gp-miami-1.ares.gameserver'}, 'playback': 0, 'sequenceNumber': 2696, 'stage': 1, 'gameVersion': '09.02.00.2703179', 'gameId': {'value': '3d07d83d-909c-40c7-85fb-62fef2d6b9e2'}, 'eventTime': {'includedPauses': '1111.035s', 'omittingPauses': '1111.035s'}, 'wallTime': '2024-08-05T23:11:29.346Z', 'currentGamePhase': {'phase': 'IN_ROUND', 'roundNumber': 4}})\n",
      "\n",
      "spikeDefuseCheckpointReached\n",
      "('val:3d07d83d-909c-40c7-85fb-62fef2d6b9e2', {'progress': '3.470s', 'playerId': {'value': 3}}, {'serverInfo': {'processId': '', 'rfc190Scope': 'aresriot.aws-mia1-prod.tournament-gp-miami-1.ares.gameserver'}, 'playback': 0, 'sequenceNumber': 2726, 'stage': 1, 'gameVersion': '09.02.00.2703179', 'gameId': {'value': '3d07d83d-909c-40c7-85fb-62fef2d6b9e2'}, 'eventTime': {'includedPauses': '1120.862s', 'omittingPauses': '1120.862s'}, 'wallTime': '2024-08-05T23:11:39.172Z', 'currentGamePhase': {'phase': 'IN_ROUND', 'roundNumber': 4}})\n",
      "\n",
      "spikeDefuseStopped\n",
      "('val:3d07d83d-909c-40c7-85fb-62fef2d6b9e2', {'playerId': {'value': 1}}, {'serverInfo': {'processId': '', 'rfc190Scope': 'aresriot.aws-mia1-prod.tournament-gp-miami-1.ares.gameserver'}, 'playback': 0, 'sequenceNumber': 2707, 'stage': 1, 'gameVersion': '09.02.00.2703179', 'gameId': {'value': '3d07d83d-909c-40c7-85fb-62fef2d6b9e2'}, 'eventTime': {'includedPauses': '1114.161s', 'omittingPauses': '1114.161s'}, 'wallTime': '2024-08-05T23:11:32.471Z', 'currentGamePhase': {'phase': 'IN_ROUND', 'roundNumber': 4}})\n",
      "\n",
      "timeout\n",
      "('val:3d07d83d-909c-40c7-85fb-62fef2d6b9e2', {'state': 'TIMEOUT', 'duration': '60s'}, {'serverInfo': {'processId': '', 'rfc190Scope': 'aresriot.aws-mia1-prod.tournament-gp-miami-1.ares.gameserver'}, 'playback': 0, 'sequenceNumber': 3969, 'stage': 1, 'gameVersion': '09.02.00.2703179', 'gameId': {'value': '3d07d83d-909c-40c7-85fb-62fef2d6b9e2'}, 'eventTime': {'includedPauses': '1391.609s', 'omittingPauses': '1391.609s'}, 'wallTime': '2024-08-05T23:16:09.971Z', 'currentGamePhase': {'phase': 'ROUND_STARTING', 'roundNumber': 7}})\n",
      "\n",
      "spikePlantStopped\n",
      "('val:3d07d83d-909c-40c7-85fb-62fef2d6b9e2', {'playerId': {'value': 7}}, {'serverInfo': {'processId': '', 'rfc190Scope': 'aresriot.aws-mia1-prod.tournament-gp-miami-1.ares.gameserver'}, 'playback': 0, 'sequenceNumber': 4966, 'stage': 1, 'gameVersion': '09.02.00.2703179', 'gameId': {'value': '3d07d83d-909c-40c7-85fb-62fef2d6b9e2'}, 'eventTime': {'includedPauses': '1670.572s', 'omittingPauses': '1670.572s'}, 'wallTime': '2024-08-05T23:20:48.968Z', 'currentGamePhase': {'phase': 'IN_ROUND', 'roundNumber': 9}})\n",
      "\n",
      "roundRollback\n"
     ]
    },
    {
     "ename": "IndexError",
     "evalue": "list index out of range",
     "output_type": "error",
     "traceback": [
      "\u001B[0;31m---------------------------------------------------------------------------\u001B[0m",
      "\u001B[0;31mIndexError\u001B[0m                                Traceback (most recent call last)",
      "Cell \u001B[0;32mIn[151], line 17\u001B[0m\n\u001B[1;32m     14\u001B[0m \u001B[38;5;28;01mfor\u001B[39;00m key \u001B[38;5;129;01min\u001B[39;00m keys:\n\u001B[1;32m     15\u001B[0m     \u001B[38;5;28mprint\u001B[39m(key)\n\u001B[0;32m---> 17\u001B[0m     \u001B[38;5;28mprint\u001B[39m(\u001B[43meventList\u001B[49m\u001B[43m[\u001B[49m\u001B[43mkey\u001B[49m\u001B[43m]\u001B[49m\u001B[43m[\u001B[49m\u001B[38;5;241;43m1\u001B[39;49m\u001B[43m]\u001B[49m)\n\u001B[1;32m     19\u001B[0m     \u001B[38;5;28mprint\u001B[39m()\n",
      "\u001B[0;31mIndexError\u001B[0m: list index out of range"
     ]
    }
   ],
   "source": [
    "\n",
    "eventList = {}\n",
    "for event in gameData:\n",
    "    keys, values = zip(*event.items())\n",
    "    # events.add(keys[1])\n",
    "    eventList[keys[1]]=eventList.get(keys[1], []) + [values]\n",
    "    # eventList[keys[1]] = values\n",
    "\n",
    "\n",
    "print(len(eventList))\n",
    "    \n",
    "    \n",
    "\n",
    "keys, values = zip(*eventList.items())\n",
    "for key in keys:\n",
    "    print(key)\n",
    "    \n",
    "    print(eventList[key][1])\n",
    "    \n",
    "    print()\n"
   ],
   "metadata": {
    "collapsed": false,
    "ExecuteTime": {
     "end_time": "2024-09-29T00:52:55.508149Z",
     "start_time": "2024-09-29T00:52:55.412078Z"
    }
   },
   "id": "8a37ec3e614766e1",
   "execution_count": 151
  },
  {
   "cell_type": "code",
   "outputs": [
    {
     "name": "stdout",
     "output_type": "stream",
     "text": [
      "('val:3d07d83d-909c-40c7-85fb-62fef2d6b9e2', {'fallback': {'guid': '', 'displayName': 'DefaultCeremony_C'}, 'type': 'DEFAULT'}, {'serverInfo': {'processId': '', 'rfc190Scope': 'aresriot.aws-mia1-prod.tournament-gp-miami-1.ares.gameserver'}, 'playback': 0, 'sequenceNumber': 903, 'stage': 1, 'gameVersion': '09.02.00.2703179', 'gameId': {'value': '3d07d83d-909c-40c7-85fb-62fef2d6b9e2'}, 'eventTime': {'includedPauses': '585.664s', 'omittingPauses': '585.664s'}, 'wallTime': '2024-08-05T23:02:43.940Z', 'currentGamePhase': {'phase': 'ROUND_ENDING', 'roundNumber': 0}})\n",
      "('val:3d07d83d-909c-40c7-85fb-62fef2d6b9e2', {'fallback': {'guid': '', 'displayName': 'DefaultCeremony_C'}, 'type': 'DEFAULT'}, {'serverInfo': {'processId': '', 'rfc190Scope': 'aresriot.aws-mia1-prod.tournament-gp-miami-1.ares.gameserver'}, 'playback': 0, 'sequenceNumber': 1452, 'stage': 1, 'gameVersion': '09.02.00.2703179', 'gameId': {'value': '3d07d83d-909c-40c7-85fb-62fef2d6b9e2'}, 'eventTime': {'includedPauses': '800.590s', 'omittingPauses': '800.590s'}, 'wallTime': '2024-08-05T23:06:18.875Z', 'currentGamePhase': {'phase': 'ROUND_ENDING', 'roundNumber': 1}})\n",
      "('val:3d07d83d-909c-40c7-85fb-62fef2d6b9e2', {'fallback': {'guid': '', 'displayName': 'FlawlessCeremony_C'}, 'type': 'FLAWLESS'}, {'serverInfo': {'processId': '', 'rfc190Scope': 'aresriot.aws-mia1-prod.tournament-gp-miami-1.ares.gameserver'}, 'playback': 0, 'sequenceNumber': 1890, 'stage': 1, 'gameVersion': '09.02.00.2703179', 'gameId': {'value': '3d07d83d-909c-40c7-85fb-62fef2d6b9e2'}, 'eventTime': {'includedPauses': '910.911s', 'omittingPauses': '910.911s'}, 'wallTime': '2024-08-05T23:08:09.200Z', 'currentGamePhase': {'phase': 'ROUND_ENDING', 'roundNumber': 2}})\n",
      "('val:3d07d83d-909c-40c7-85fb-62fef2d6b9e2', {'fallback': {'guid': '', 'displayName': 'DefaultCeremony_C'}, 'type': 'DEFAULT'}, {'serverInfo': {'processId': '', 'rfc190Scope': 'aresriot.aws-mia1-prod.tournament-gp-miami-1.ares.gameserver'}, 'playback': 0, 'sequenceNumber': 2266, 'stage': 1, 'gameVersion': '09.02.00.2703179', 'gameId': {'value': '3d07d83d-909c-40c7-85fb-62fef2d6b9e2'}, 'eventTime': {'includedPauses': '1011.706s', 'omittingPauses': '1011.706s'}, 'wallTime': '2024-08-05T23:09:49.999Z', 'currentGamePhase': {'phase': 'ROUND_ENDING', 'roundNumber': 3}})\n",
      "('val:3d07d83d-909c-40c7-85fb-62fef2d6b9e2', {'type': 'DEFAULT', 'fallback': {'guid': '', 'displayName': 'DefaultCeremony_C'}}, {'serverInfo': {'processId': '', 'rfc190Scope': 'aresriot.aws-mia1-prod.tournament-gp-miami-1.ares.gameserver'}, 'playback': 0, 'sequenceNumber': 2744, 'stage': 1, 'gameVersion': '09.02.00.2703179', 'gameId': {'value': '3d07d83d-909c-40c7-85fb-62fef2d6b9e2'}, 'eventTime': {'includedPauses': '1124.423s', 'omittingPauses': '1124.423s'}, 'wallTime': '2024-08-05T23:11:42.733Z', 'currentGamePhase': {'phase': 'ROUND_ENDING', 'roundNumber': 4}})\n",
      "('val:3d07d83d-909c-40c7-85fb-62fef2d6b9e2', {'fallback': {'guid': '', 'displayName': 'CloserCeremony_C'}, 'type': 'CLOSER'}, {'serverInfo': {'processId': '', 'rfc190Scope': 'aresriot.aws-mia1-prod.tournament-gp-miami-1.ares.gameserver'}, 'playback': 0, 'sequenceNumber': 3246, 'stage': 1, 'gameVersion': '09.02.00.2703179', 'gameId': {'value': '3d07d83d-909c-40c7-85fb-62fef2d6b9e2'}, 'eventTime': {'includedPauses': '1242.246s', 'omittingPauses': '1242.246s'}, 'wallTime': '2024-08-05T23:13:40.575Z', 'currentGamePhase': {'phase': 'ROUND_ENDING', 'roundNumber': 5}})\n",
      "('val:3d07d83d-909c-40c7-85fb-62fef2d6b9e2', {'fallback': {'guid': '', 'displayName': 'TeamAceCeremony_C'}, 'type': 'TEAM_ACE'}, {'serverInfo': {'processId': '', 'rfc190Scope': 'aresriot.aws-mia1-prod.tournament-gp-miami-1.ares.gameserver'}, 'playback': 0, 'sequenceNumber': 3776, 'stage': 1, 'gameVersion': '09.02.00.2703179', 'gameId': {'value': '3d07d83d-909c-40c7-85fb-62fef2d6b9e2'}, 'eventTime': {'includedPauses': '1375.330s', 'omittingPauses': '1375.330s'}, 'wallTime': '2024-08-05T23:15:53.680Z', 'currentGamePhase': {'phase': 'ROUND_ENDING', 'roundNumber': 6}})\n",
      "('val:3d07d83d-909c-40c7-85fb-62fef2d6b9e2', {'type': 'DEFAULT', 'fallback': {'guid': '', 'displayName': 'DefaultCeremony_C'}}, {'serverInfo': {'processId': '', 'rfc190Scope': 'aresriot.aws-mia1-prod.tournament-gp-miami-1.ares.gameserver'}, 'playback': 0, 'sequenceNumber': 4278, 'stage': 1, 'gameVersion': '09.02.00.2703179', 'gameId': {'value': '3d07d83d-909c-40c7-85fb-62fef2d6b9e2'}, 'eventTime': {'includedPauses': '1540.962s', 'omittingPauses': '1540.962s'}, 'wallTime': '2024-08-05T23:18:39.329Z', 'currentGamePhase': {'phase': 'ROUND_ENDING', 'roundNumber': 7}})\n",
      "('val:3d07d83d-909c-40c7-85fb-62fef2d6b9e2', {'fallback': {'guid': '', 'displayName': 'DefaultCeremony_C'}, 'type': 'DEFAULT'}, {'serverInfo': {'processId': '', 'rfc190Scope': 'aresriot.aws-mia1-prod.tournament-gp-miami-1.ares.gameserver'}, 'playback': 0, 'sequenceNumber': 4682, 'stage': 1, 'gameVersion': '09.02.00.2703179', 'gameId': {'value': '3d07d83d-909c-40c7-85fb-62fef2d6b9e2'}, 'eventTime': {'includedPauses': '1617.290s', 'omittingPauses': '1617.290s'}, 'wallTime': '2024-08-05T23:19:55.673Z', 'currentGamePhase': {'phase': 'ROUND_ENDING', 'roundNumber': 8}})\n",
      "('val:3d07d83d-909c-40c7-85fb-62fef2d6b9e2', {'type': 'DEFAULT', 'fallback': {'guid': '', 'displayName': 'DefaultCeremony_C'}}, {'serverInfo': {'processId': '', 'rfc190Scope': 'aresriot.aws-mia1-prod.tournament-gp-miami-1.ares.gameserver'}, 'playback': 0, 'sequenceNumber': 5097, 'stage': 1, 'gameVersion': '09.02.00.2703179', 'gameId': {'value': '3d07d83d-909c-40c7-85fb-62fef2d6b9e2'}, 'eventTime': {'includedPauses': '1717.275s', 'omittingPauses': '1717.275s'}, 'wallTime': '2024-08-05T23:21:35.671Z', 'currentGamePhase': {'phase': 'ROUND_ENDING', 'roundNumber': 9}})\n",
      "('val:3d07d83d-909c-40c7-85fb-62fef2d6b9e2', {'fallback': {'guid': '', 'displayName': 'DefaultCeremony_C'}, 'type': 'DEFAULT'}, {'serverInfo': {'processId': '', 'rfc190Scope': 'aresriot.aws-mia1-prod.tournament-gp-miami-1.ares.gameserver'}, 'playback': 1, 'sequenceNumber': 722, 'stage': 1, 'gameVersion': '09.02.00.2703179', 'gameId': {'value': '3d07d83d-909c-40c7-85fb-62fef2d6b9e2'}, 'eventTime': {'includedPauses': '2126.485s', 'omittingPauses': '2126.485s'}, 'wallTime': '2024-08-05T23:28:25.116Z', 'currentGamePhase': {'phase': 'ROUND_ENDING', 'roundNumber': 10}})\n",
      "('val:3d07d83d-909c-40c7-85fb-62fef2d6b9e2', {'fallback': {'guid': '', 'displayName': 'FlawlessCeremony_C'}, 'type': 'FLAWLESS'}, {'serverInfo': {'processId': '', 'rfc190Scope': 'aresriot.aws-mia1-prod.tournament-gp-miami-1.ares.gameserver'}, 'playback': 1, 'sequenceNumber': 1089, 'stage': 1, 'gameVersion': '09.02.00.2703179', 'gameId': {'value': '3d07d83d-909c-40c7-85fb-62fef2d6b9e2'}, 'eventTime': {'includedPauses': '2200.399s', 'omittingPauses': '2200.399s'}, 'wallTime': '2024-08-05T23:29:39.046Z', 'currentGamePhase': {'phase': 'ROUND_ENDING', 'roundNumber': 11}})\n",
      "('val:3d07d83d-909c-40c7-85fb-62fef2d6b9e2', {'fallback': {'guid': '', 'displayName': 'DefaultCeremony_C'}, 'type': 'DEFAULT'}, {'serverInfo': {'processId': '', 'rfc190Scope': 'aresriot.aws-mia1-prod.tournament-gp-miami-1.ares.gameserver'}, 'playback': 1, 'sequenceNumber': 1680, 'stage': 1, 'gameVersion': '09.02.00.2703179', 'gameId': {'value': '3d07d83d-909c-40c7-85fb-62fef2d6b9e2'}, 'eventTime': {'includedPauses': '2418.301s', 'omittingPauses': '2418.301s'}, 'wallTime': '2024-08-05T23:33:17.005Z', 'currentGamePhase': {'phase': 'ROUND_ENDING', 'roundNumber': 12}})\n",
      "('val:3d07d83d-909c-40c7-85fb-62fef2d6b9e2', {'fallback': {'guid': '', 'displayName': 'DefaultCeremony_C'}, 'type': 'DEFAULT'}, {'serverInfo': {'processId': '', 'rfc190Scope': 'aresriot.aws-mia1-prod.tournament-gp-miami-1.ares.gameserver'}, 'playback': 1, 'sequenceNumber': 2040, 'stage': 1, 'gameVersion': '09.02.00.2703179', 'gameId': {'value': '3d07d83d-909c-40c7-85fb-62fef2d6b9e2'}, 'eventTime': {'includedPauses': '2488.144s', 'omittingPauses': '2488.144s'}, 'wallTime': '2024-08-05T23:34:26.859Z', 'currentGamePhase': {'phase': 'ROUND_ENDING', 'roundNumber': 13}})\n",
      "('val:3d07d83d-909c-40c7-85fb-62fef2d6b9e2', {'fallback': {'guid': '', 'displayName': 'ThriftyCeremony_C'}, 'type': 'THRIFTY'}, {'serverInfo': {'processId': '', 'rfc190Scope': 'aresriot.aws-mia1-prod.tournament-gp-miami-1.ares.gameserver'}, 'playback': 1, 'sequenceNumber': 2552, 'stage': 1, 'gameVersion': '09.02.00.2703179', 'gameId': {'value': '3d07d83d-909c-40c7-85fb-62fef2d6b9e2'}, 'eventTime': {'includedPauses': '2636.772s', 'omittingPauses': '2636.772s'}, 'wallTime': '2024-08-05T23:36:55.507Z', 'currentGamePhase': {'phase': 'ROUND_ENDING', 'roundNumber': 14}})\n",
      "('val:3d07d83d-909c-40c7-85fb-62fef2d6b9e2', {'fallback': {'guid': '', 'displayName': 'DefaultCeremony_C'}, 'type': 'DEFAULT'}, {'serverInfo': {'processId': '', 'rfc190Scope': 'aresriot.aws-mia1-prod.tournament-gp-miami-1.ares.gameserver'}, 'playback': 1, 'sequenceNumber': 3070, 'stage': 1, 'gameVersion': '09.02.00.2703179', 'gameId': {'value': '3d07d83d-909c-40c7-85fb-62fef2d6b9e2'}, 'eventTime': {'includedPauses': '2810.780s', 'omittingPauses': '2810.780s'}, 'wallTime': '2024-08-05T23:39:49.537Z', 'currentGamePhase': {'phase': 'ROUND_ENDING', 'roundNumber': 15}})\n",
      "('val:3d07d83d-909c-40c7-85fb-62fef2d6b9e2', {'fallback': {'guid': '', 'displayName': 'ClutchCeremony_C'}, 'type': 'CLUTCH'}, {'serverInfo': {'processId': '', 'rfc190Scope': 'aresriot.aws-mia1-prod.tournament-gp-miami-1.ares.gameserver'}, 'playback': 1, 'sequenceNumber': 3565, 'stage': 1, 'gameVersion': '09.02.00.2703179', 'gameId': {'value': '3d07d83d-909c-40c7-85fb-62fef2d6b9e2'}, 'eventTime': {'includedPauses': '2967.865s', 'omittingPauses': '2967.865s'}, 'wallTime': '2024-08-05T23:42:26.639Z', 'currentGamePhase': {'phase': 'ROUND_ENDING', 'roundNumber': 16}})\n",
      "('val:3d07d83d-909c-40c7-85fb-62fef2d6b9e2', {'type': 'DEFAULT', 'fallback': {'guid': '', 'displayName': 'DefaultCeremony_C'}}, {'serverInfo': {'processId': '', 'rfc190Scope': 'aresriot.aws-mia1-prod.tournament-gp-miami-1.ares.gameserver'}, 'playback': 1, 'sequenceNumber': 4001, 'stage': 1, 'gameVersion': '09.02.00.2703179', 'gameId': {'value': '3d07d83d-909c-40c7-85fb-62fef2d6b9e2'}, 'eventTime': {'includedPauses': '3109.559s', 'omittingPauses': '3109.559s'}, 'wallTime': '2024-08-05T23:44:48.352Z', 'currentGamePhase': {'phase': 'ROUND_ENDING', 'roundNumber': 17}})\n",
      "('val:3d07d83d-909c-40c7-85fb-62fef2d6b9e2', {'fallback': {'guid': '', 'displayName': 'DefaultCeremony_C'}, 'type': 'DEFAULT'}, {'serverInfo': {'processId': '', 'rfc190Scope': 'aresriot.aws-mia1-prod.tournament-gp-miami-1.ares.gameserver'}, 'playback': 1, 'sequenceNumber': 4506, 'stage': 1, 'gameVersion': '09.02.00.2703179', 'gameId': {'value': '3d07d83d-909c-40c7-85fb-62fef2d6b9e2'}, 'eventTime': {'includedPauses': '3246.499s', 'omittingPauses': '3246.499s'}, 'wallTime': '2024-08-05T23:47:05.315Z', 'currentGamePhase': {'phase': 'ROUND_ENDING', 'roundNumber': 18}})\n",
      "('val:3d07d83d-909c-40c7-85fb-62fef2d6b9e2', {'type': 'CLUTCH', 'fallback': {'guid': '', 'displayName': 'ClutchCeremony_C'}}, {'serverInfo': {'processId': '', 'rfc190Scope': 'aresriot.aws-mia1-prod.tournament-gp-miami-1.ares.gameserver'}, 'playback': 1, 'sequenceNumber': 5025, 'stage': 1, 'gameVersion': '09.02.00.2703179', 'gameId': {'value': '3d07d83d-909c-40c7-85fb-62fef2d6b9e2'}, 'eventTime': {'includedPauses': '3381.257s', 'omittingPauses': '3381.257s'}, 'wallTime': '2024-08-05T23:49:20.091Z', 'currentGamePhase': {'phase': 'ROUND_ENDING', 'roundNumber': 19}})\n",
      "('val:3d07d83d-909c-40c7-85fb-62fef2d6b9e2', {'fallback': {'guid': '', 'displayName': 'DefaultCeremony_C'}, 'type': 'DEFAULT'}, {'serverInfo': {'processId': '', 'rfc190Scope': 'aresriot.aws-mia1-prod.tournament-gp-miami-1.ares.gameserver'}, 'playback': 1, 'sequenceNumber': 5612, 'stage': 1, 'gameVersion': '09.02.00.2703179', 'gameId': {'value': '3d07d83d-909c-40c7-85fb-62fef2d6b9e2'}, 'eventTime': {'includedPauses': '3572.292s', 'omittingPauses': '3572.292s'}, 'wallTime': '2024-08-05T23:52:31.149Z', 'currentGamePhase': {'phase': 'ROUND_ENDING', 'roundNumber': 20}})\n",
      "('val:3d07d83d-909c-40c7-85fb-62fef2d6b9e2', {'fallback': {'guid': '', 'displayName': 'DefaultCeremony_C'}, 'type': 'DEFAULT'}, {'serverInfo': {'processId': '', 'rfc190Scope': 'aresriot.aws-mia1-prod.tournament-gp-miami-1.ares.gameserver'}, 'playback': 1, 'sequenceNumber': 6068, 'stage': 1, 'gameVersion': '09.02.00.2703179', 'gameId': {'value': '3d07d83d-909c-40c7-85fb-62fef2d6b9e2'}, 'eventTime': {'includedPauses': '3680.294s', 'omittingPauses': '3680.294s'}, 'wallTime': '2024-08-05T23:54:19.169Z', 'currentGamePhase': {'phase': 'ROUND_ENDING', 'roundNumber': 21}})\n",
      "('val:3d07d83d-909c-40c7-85fb-62fef2d6b9e2', {'fallback': {'guid': '', 'displayName': 'DefaultCeremony_C'}, 'type': 'DEFAULT'}, {'serverInfo': {'processId': '', 'rfc190Scope': 'aresriot.aws-mia1-prod.tournament-gp-miami-1.ares.gameserver'}, 'playback': 1, 'sequenceNumber': 6557, 'stage': 1, 'gameVersion': '09.02.00.2703179', 'gameId': {'value': '3d07d83d-909c-40c7-85fb-62fef2d6b9e2'}, 'eventTime': {'includedPauses': '3813.342s', 'omittingPauses': '3813.342s'}, 'wallTime': '2024-08-05T23:56:32.241Z', 'currentGamePhase': {'phase': 'ROUND_ENDING', 'roundNumber': 22}})\n",
      "('val:3d07d83d-909c-40c7-85fb-62fef2d6b9e2', {'fallback': {'guid': '', 'displayName': 'DefaultCeremony_C'}, 'type': 'DEFAULT'}, {'serverInfo': {'processId': '', 'rfc190Scope': 'aresriot.aws-mia1-prod.tournament-gp-miami-1.ares.gameserver'}, 'playback': 1, 'sequenceNumber': 7066, 'stage': 1, 'gameVersion': '09.02.00.2703179', 'gameId': {'value': '3d07d83d-909c-40c7-85fb-62fef2d6b9e2'}, 'eventTime': {'includedPauses': '3957.494s', 'omittingPauses': '3957.494s'}, 'wallTime': '2024-08-05T23:58:56.416Z', 'currentGamePhase': {'phase': 'ROUND_ENDING', 'roundNumber': 23}})\n"
     ]
    }
   ],
   "source": [
    "for event in eventList['roundCeremony']:\n",
    "    print(event)"
   ],
   "metadata": {
    "collapsed": false,
    "ExecuteTime": {
     "end_time": "2024-09-29T00:53:06.698261Z",
     "start_time": "2024-09-29T00:53:06.499370Z"
    }
   },
   "id": "3215734e28abfe7a",
   "execution_count": 152
  },
  {
   "cell_type": "code",
   "outputs": [
    {
     "name": "stdout",
     "output_type": "stream",
     "text": [
      "temp_players {'107600796790972557': {'ID': 'e73a7280-6103-5c9d-8d6e-4354042983ff', 'handle': 'e73a7280-6103-5c9d-8d6e-4354042983ff', 'name': 'AKV mmonch', 'team': '107600865871683810', 'Games': [{'Tournament Name': '112710290866353527', 'Attacking Kills': 0, 'Defending Kills': 15, 'Attacking Deaths': 0, 'Defending Deaths': 17, 'Assists (attacking/defending)': 0, 'Map': 'Infinity', 'Agent': 'Unknown Agent'}]}, '107600825476014259': {'ID': '23ce7a87-9a9c-5f77-8c35-7fa7cc6ffec4', 'handle': '23ce7a87-9a9c-5f77-8c35-7fa7cc6ffec4', 'name': 'AKV Ivy', 'team': '107600865871683810', 'Games': [{'Tournament Name': '112710290866353527', 'Attacking Kills': 0, 'Defending Kills': 15, 'Attacking Deaths': 0, 'Defending Deaths': 16, 'Assists (attacking/defending)': 0, 'Map': 'Infinity', 'Agent': 'Unknown Agent'}]}, '107600792569471113': {'ID': 'e8dd0405-e24a-5853-bae4-3a8264321d47', 'handle': 'e8dd0405-e24a-5853-bae4-3a8264321d47', 'name': 'AKV LiNLiN', 'team': '107600865871683810', 'Games': [{'Tournament Name': '112710290866353527', 'Attacking Kills': 0, 'Defending Kills': 20, 'Attacking Deaths': 0, 'Defending Deaths': 17, 'Assists (attacking/defending)': 0, 'Map': 'Infinity', 'Agent': 'Unknown Agent'}]}, '107600798796177555': {'ID': 'e284ea28-8a47-57b8-9a37-be1b2ddac3a0', 'handle': 'e284ea28-8a47-57b8-9a37-be1b2ddac3a0', 'name': 'AKV JuW', 'team': '107600865871683810', 'Games': [{'Tournament Name': '112710290866353527', 'Attacking Kills': 0, 'Defending Kills': 12, 'Attacking Deaths': 0, 'Defending Deaths': 18, 'Assists (attacking/defending)': 0, 'Map': 'Infinity', 'Agent': 'Unknown Agent'}]}, '107600817233778673': {'ID': '3ef5895c-bf5d-53b5-ba6f-8a34df216f9b', 'handle': '3ef5895c-bf5d-53b5-ba6f-8a34df216f9b', 'name': 'AKV Andrehs', 'team': '107600865871683810', 'Games': [{'Tournament Name': '112710290866353527', 'Attacking Kills': 0, 'Defending Kills': 17, 'Attacking Deaths': 0, 'Defending Deaths': 18, 'Assists (attacking/defending)': 0, 'Map': 'Infinity', 'Agent': 'Unknown Agent'}]}, '107910755613584339': {'ID': '60566271-b782-5cee-a298-6e28e3224800', 'handle': '60566271-b782-5cee-a298-6e28e3224800', 'name': 'MVR Camii', 'team': '112127238709173458', 'Games': [{'Tournament Name': '112710290866353527', 'Attacking Kills': 0, 'Defending Kills': 25, 'Attacking Deaths': 0, 'Defending Deaths': 15, 'Assists (attacking/defending)': 0, 'Map': 'Infinity', 'Agent': 'Unknown Agent'}]}, '112812064940015406': {'ID': 'b6ec2f5e-bffe-55b7-9720-9d3ad60b30ab', 'handle': 'b6ec2f5e-bffe-55b7-9720-9d3ad60b30ab', 'name': 'MVR AngeI', 'team': '112127238709173458', 'Games': [{'Tournament Name': '112710290866353527', 'Attacking Kills': 0, 'Defending Kills': 19, 'Attacking Deaths': 0, 'Defending Deaths': 15, 'Assists (attacking/defending)': 0, 'Map': 'Infinity', 'Agent': 'Unknown Agent'}]}, '109881533659576993': {'ID': '1074f724-2ee2-5525-b07a-96a7cb8ae6b0', 'handle': '1074f724-2ee2-5525-b07a-96a7cb8ae6b0', 'name': 'MVR ChloeZerA', 'team': '112127238709173458', 'Games': [{'Tournament Name': '112710290866353527', 'Attacking Kills': 0, 'Defending Kills': 18, 'Attacking Deaths': 0, 'Defending Deaths': 15, 'Assists (attacking/defending)': 0, 'Map': 'Infinity', 'Agent': 'Unknown Agent'}]}, '109881535741081405': {'ID': '23a16689-b4ec-51ca-8d19-83efbccd2f7f', 'handle': '23a16689-b4ec-51ca-8d19-83efbccd2f7f', 'name': 'MVR LauGuz', 'team': '112127238709173458', 'Games': [{'Tournament Name': '112710290866353527', 'Attacking Kills': 0, 'Defending Kills': 15, 'Attacking Deaths': 0, 'Defending Deaths': 17, 'Assists (attacking/defending)': 0, 'Map': 'Infinity', 'Agent': 'Unknown Agent'}]}, '112127683479869669': {'ID': '6bdc8fe7-03b6-5f4f-b653-6f0ba2c562f8', 'handle': '6bdc8fe7-03b6-5f4f-b653-6f0ba2c562f8', 'name': 'MVR Vefa', 'team': '112127238709173458', 'Games': [{'Tournament Name': '112710290866353527', 'Attacking Kills': 0, 'Defending Kills': 10, 'Attacking Deaths': 0, 'Defending Deaths': 18, 'Assists (attacking/defending)': 0, 'Map': 'Infinity', 'Agent': 'Unknown Agent'}]}}\n"
     ]
    }
   ],
   "source": [
    "parse_game_data(gameData, players, mappingData)"
   ],
   "metadata": {
    "collapsed": false,
    "ExecuteTime": {
     "end_time": "2024-09-29T03:46:56.329277Z",
     "start_time": "2024-09-29T03:46:56.044317Z"
    }
   },
   "id": "7342007268906146",
   "execution_count": 218
  },
  {
   "cell_type": "code",
   "outputs": [
    {
     "name": "stdout",
     "output_type": "stream",
     "text": [
      "{'esportsGameId': '110614988238486652', 'tournamentId': '110614878961138673', 'teamMapping': {'18': '107185970379663407', '19': '108240763447862128'}, 'participantMapping': {'1': '110196391536301033', '2': '108550500823868280', '3': '107691403279337920', '4': '108231581673551401', '5': '107282823220699313', '6': '107025879465378213', '7': '107025879556684669', '8': '107186009704881408', '9': '107186009230387255', '10': '110615094848109973'}}\n"
     ]
    }
   ],
   "source": [
    "keys, values = zip(*mappingData.items())\n",
    "print(mappingData[keys[0]])"
   ],
   "metadata": {
    "collapsed": false,
    "ExecuteTime": {
     "end_time": "2024-09-29T03:46:47.818917Z",
     "start_time": "2024-09-29T03:46:47.782484Z"
    }
   },
   "id": "f0d0a187e1972293",
   "execution_count": 217
  },
  {
   "cell_type": "code",
   "outputs": [],
   "source": [],
   "metadata": {
    "collapsed": false
   },
   "id": "1ce8bc51dbbda393"
  }
 ],
 "metadata": {
  "kernelspec": {
   "display_name": "Python 3",
   "language": "python",
   "name": "python3"
  },
  "language_info": {
   "codemirror_mode": {
    "name": "ipython",
    "version": 2
   },
   "file_extension": ".py",
   "mimetype": "text/x-python",
   "name": "python",
   "nbconvert_exporter": "python",
   "pygments_lexer": "ipython2",
   "version": "2.7.6"
  }
 },
 "nbformat": 4,
 "nbformat_minor": 5
}
