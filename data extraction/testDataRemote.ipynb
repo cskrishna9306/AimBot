{
 "cells": [
  {
   "cell_type": "code",
   "execution_count": 1,
   "id": "initial_id",
   "metadata": {
    "ExecuteTime": {
     "end_time": "2024-09-27T19:45:56.743075Z",
     "start_time": "2024-09-27T19:45:56.694060Z"
    }
   },
   "outputs": [],
   "source": [
    "import boto3\n",
    "from botocore.exceptions import NoCredentialsError, PartialCredentialsError\n",
    "import gzip\n",
    "import io\n",
    "import json\n",
    "\n",
    "# Initialize the S3 client\n",
    "s3 = boto3.client('s3')\n",
    "\n",
    "# Specify the bucket name and object key\n",
    "bucket_name = 'vcthackathonbucket1'\n",
    "object_key = 'game-changers/games/2022/val:0429689c-85fa-4448-bbfb-10a099864809.json.gz'"
   ]
  },
  {
   "cell_type": "code",
   "execution_count": 2,
   "id": "406b6f84cea17ffb",
   "metadata": {
    "ExecuteTime": {
     "end_time": "2024-09-27T19:45:56.773366Z",
     "start_time": "2024-09-27T19:45:56.743274Z"
    },
    "collapsed": false
   },
   "outputs": [],
   "source": [
    "def getUnzippedData(bucket_name, object_key):\n",
    "    try:\n",
    "        # Retrieve the object\n",
    "        response = s3.get_object(Bucket=bucket_name, Key=object_key)\n",
    "    \n",
    "        # Read the object's content into memory\n",
    "        data = response['Body'].read()\n",
    "    \n",
    "        # Unzip the gzipped content\n",
    "        with gzip.GzipFile(fileobj=io.BytesIO(data)) as gz:\n",
    "            unzipped_data = (gz.read())\n",
    "    \n",
    "        return json.loads(unzipped_data)\n",
    "    \n",
    "    except NoCredentialsError:\n",
    "        print(\"Credentials not available.\")\n",
    "    except PartialCredentialsError:\n",
    "        print(\"Incomplete credentials provided.\")\n",
    "    except Exception as e:\n",
    "        print(f\"An error occurred: {e}\")"
   ]
  },
  {
   "cell_type": "code",
   "execution_count": 3,
   "id": "5813bf2bb3b1369a",
   "metadata": {
    "ExecuteTime": {
     "end_time": "2024-09-27T19:45:56.774397Z",
     "start_time": "2024-09-27T19:45:56.750477Z"
    },
    "collapsed": false
   },
   "outputs": [],
   "source": [
    "# A cohesive dictionary which will contain all the information we want to feed into the LLM \n",
    "players = {}"
   ]
  },
  {
   "cell_type": "markdown",
   "id": "c76c9c2347f07b0c",
   "metadata": {
    "collapsed": false
   },
   "source": [
    "PARSE LEAGUES"
   ]
  },
  {
   "cell_type": "code",
   "execution_count": 4,
   "id": "6765605626d69e76",
   "metadata": {
    "ExecuteTime": {
     "end_time": "2024-09-27T19:45:57.136334Z",
     "start_time": "2024-09-27T19:45:56.758166Z"
    },
    "collapsed": false
   },
   "outputs": [],
   "source": [
    "# Specify the bucket name and object key\n",
    "bucket_name = 'vcthackathon-data'\n",
    "object_key = 'game-changers/esports-data/leagues.json.gz'\n",
    "\n",
    "leagues = {}\n",
    "leaguesJSON = getUnzippedData(bucket_name, object_key)"
   ]
  },
  {
   "cell_type": "code",
   "execution_count": 5,
   "id": "b57c300f25ee5d4",
   "metadata": {
    "ExecuteTime": {
     "end_time": "2024-09-27T19:45:57.137811Z",
     "start_time": "2024-09-27T19:45:57.132887Z"
    },
    "collapsed": false
   },
   "outputs": [
    {
     "name": "stdout",
     "output_type": "stream",
     "text": [
      "11\n"
     ]
    }
   ],
   "source": [
    "league = {}\n",
    "#print(leaguesJSON[:2])\n",
    "for league in leaguesJSON:\n",
    "    leagues[league['league_id']] = {'name': league['name'], 'region': league['region']}\n",
    "\n",
    "print(len(leagues))"
   ]
  },
  {
   "cell_type": "markdown",
   "id": "ec91c9fc37db40cd",
   "metadata": {
    "collapsed": false
   },
   "source": [
    "PARSE TEAMS"
   ]
  },
  {
   "cell_type": "code",
   "execution_count": 6,
   "id": "a3581053559dc044",
   "metadata": {
    "ExecuteTime": {
     "end_time": "2024-09-27T19:45:57.254600Z",
     "start_time": "2024-09-27T19:45:57.139225Z"
    },
    "collapsed": false
   },
   "outputs": [
    {
     "name": "stdout",
     "output_type": "stream",
     "text": [
      "283\n"
     ]
    }
   ],
   "source": [
    "# Specify the bucket name and object key\n",
    "bucket_name = 'vcthackathon-data'\n",
    "object_key = 'game-changers/esports-data/teams.json.gz'\n",
    "\n",
    "teams = {}\n",
    "teamsJSON = getUnzippedData(bucket_name, object_key)\n",
    "for team in teamsJSON:\n",
    "        teams[team['id']] = {'name': team['name'], 'acronym': team['acronym'], 'home_league_id': team['home_league_id']}\n",
    "print(len(teams))"
   ]
  },
  {
   "cell_type": "markdown",
   "id": "681eebb6da010678",
   "metadata": {
    "collapsed": false
   },
   "source": [
    "PARSE TOURNAMENTS"
   ]
  },
  {
   "cell_type": "code",
   "execution_count": 7,
   "id": "1bff1c5c236aa6a3",
   "metadata": {
    "ExecuteTime": {
     "end_time": "2024-09-27T19:45:57.306373Z",
     "start_time": "2024-09-27T19:45:57.253903Z"
    },
    "collapsed": false
   },
   "outputs": [
    {
     "name": "stdout",
     "output_type": "stream",
     "text": [
      "57\n"
     ]
    }
   ],
   "source": [
    "# Specify the bucket name and object key\n",
    "bucket_name = 'vcthackathon-data'\n",
    "object_key = 'game-changers/esports-data/tournaments.json.gz'\n",
    "\n",
    "tournaments = {}\n",
    "tournamentsJSON = getUnzippedData(bucket_name, object_key)\n",
    "for tournament in tournamentsJSON:\n",
    "    tournaments[tournament['id']] = {'league_id': tournament['league_id'], 'name': tournament['name']}\n",
    "\n",
    "print(len(tournaments))"
   ]
  },
  {
   "cell_type": "markdown",
   "id": "35d44b89903c6954",
   "metadata": {
    "collapsed": false
   },
   "source": [
    "PARSE PLAYERS"
   ]
  },
  {
   "cell_type": "code",
   "execution_count": 8,
   "id": "79cb725c2ed42c15",
   "metadata": {
    "ExecuteTime": {
     "end_time": "2024-09-27T19:45:57.471583Z",
     "start_time": "2024-09-27T19:45:57.308327Z"
    },
    "collapsed": false
   },
   "outputs": [
    {
     "name": "stdout",
     "output_type": "stream",
     "text": [
      "1498\n"
     ]
    }
   ],
   "source": [
    "from datetime import datetime\n",
    "\n",
    "bucket_name = 'vcthackathon-data'\n",
    "object_key = 'game-changers/esports-data/players.json.gz'\n",
    "\n",
    "players = {}\n",
    "playersJSON = getUnzippedData(bucket_name, object_key)\n",
    "\n",
    "date_object = datetime.strptime(playersJSON[0]['updated_at'], \"%Y-%m-%dT%H:%M:%SZ\")\n",
    "# print(f'# of players in JSON: {len(playersJSON)}')\n",
    "for player in playersJSON:\n",
    "    currentDate = datetime.strptime(player['updated_at'], \"%Y-%m-%dT%H:%M:%SZ\")\n",
    "    if player['id'] in players:\n",
    "\n",
    "        #if a duplicate entry, keep the most recent update\n",
    "        if currentDate > players[player['id']]['updated_at']:\n",
    "            \n",
    "            # if most recent is archived, remove them\n",
    "            if player['status']==\"archived\":\n",
    "                # if most recent status of a player is archived\n",
    "                del players[player['id']]\n",
    "                \n",
    "            #otherwise, update them\n",
    "            else:\n",
    "                players[player['id']]['handle'] = player['handle']\n",
    "                players[player['id']]['updated_at'] = currentDate\n",
    "                players[player['id']]['first_name'] = player['first_name']\n",
    "                players[player['id']]['last_name'] = player['last_name']\n",
    "                players[player['id']]['home_team_id'] = player['home_team_id']\n",
    "                \n",
    "    else:\n",
    "        if player['status'] == 'archived':\n",
    "            continue\n",
    "        players[player['id']] = {}\n",
    "        players[player['id']]['handle'] = player['handle']\n",
    "        players[player['id']]['updated_at'] = currentDate\n",
    "        players[player['id']]['first_name'] = player['first_name']\n",
    "        players[player['id']]['last_name'] = player['last_name']\n",
    "        players[player['id']]['home_team_id'] = player['home_team_id']\n",
    "\n",
    "print(len(players))"
   ]
  },
  {
   "cell_type": "markdown",
   "id": "f650eee5be1a2d30",
   "metadata": {
    "collapsed": false
   },
   "source": [
    "PARSE MAPPING DATA\n",
    "* note that mapping data is per game *"
   ]
  },
  {
   "cell_type": "code",
   "execution_count": 9,
   "id": "6a233d46b10836c7",
   "metadata": {
    "ExecuteTime": {
     "end_time": "2024-09-27T19:45:57.629732Z",
     "start_time": "2024-09-27T19:45:57.471055Z"
    },
    "collapsed": false
   },
   "outputs": [
    {
     "name": "stdout",
     "output_type": "stream",
     "text": [
      "1140\n"
     ]
    }
   ],
   "source": [
    "mappingData = {}\n",
    "\n",
    "bucket_name = 'vcthackathon-data'\n",
    "object_key = 'game-changers/esports-data/mapping_data_v2.json.gz'\n",
    "\n",
    "mappingDataJSON = getUnzippedData(bucket_name, object_key)\n",
    "for map in mappingDataJSON:\n",
    "    mappingData[map['platformGameId']] = {\n",
    "        # 'esportsGameId': map['esportsGameId'],\n",
    "        #'matchId': map['matchId'],\n",
    "        'tournamentId': map['tournamentId'],\n",
    "        'teamMapping': map['teamMapping'],\n",
    "        'participantMapping': map['participantMapping']\n",
    "    }\n",
    "    \n",
    "print(len(mappingData))"
   ]
  },
  {
   "cell_type": "code",
   "execution_count": 10,
   "id": "dbe849ad769d1d43",
   "metadata": {
    "ExecuteTime": {
     "end_time": "2024-09-27T19:45:57.634758Z",
     "start_time": "2024-09-27T19:45:57.629182Z"
    },
    "collapsed": false
   },
   "outputs": [
    {
     "name": "stdout",
     "output_type": "stream",
     "text": [
      "19\n"
     ]
    }
   ],
   "source": [
    "# Load the agent mapping (this should be done outside of the config_event function and loaded once)\n",
    "import json \n",
    "\n",
    "agent_code_mapping = {}\n",
    "with open('agentCodeMapping.json', 'r') as f:\n",
    "    agent_code_mapping = json.load(f)\n",
    "\n",
    "print(len(agent_code_mapping))"
   ]
  },
  {
   "cell_type": "code",
   "execution_count": 11,
   "id": "b9d1d61738128271",
   "metadata": {
    "ExecuteTime": {
     "end_time": "2024-09-27T20:03:20.216933Z",
     "start_time": "2024-09-27T20:03:20.198682Z"
    },
    "collapsed": false
   },
   "outputs": [],
   "source": [
    "def config_event(event, temp_players, mappingData):\n",
    "    platform_game_id = event['platformGameId']\n",
    "    print(platform_game_id)\n",
    "    \n",
    "    # if platform_game_id not in mappingData:\n",
    "    #     print(f\"Platform game ID {platform_game_id} not found in mapping data (from config)\")\n",
    "    #     return players\n",
    "    \n",
    "    mapping_info = mappingData[platform_game_id]\n",
    "    \n",
    "    # Extract map info\n",
    "    map_info = event['configuration']['selectedMap']['fallback']['displayName']\n",
    "    \n",
    "    # Extract team and player information\n",
    "    for team in event['configuration']['teams']:\n",
    "        team_name = team['name']\n",
    "        \n",
    "        for player in team['playersInTeam']:\n",
    "            player_id = player['value']\n",
    "            \n",
    "            # Find player info from the players list in the configuration event\n",
    "            player_info = next((p for p in event['configuration']['players'] if p['playerId']['value'] == player_id), None)\n",
    "            if not player_info:\n",
    "                continue  # Skip if player info is not found\n",
    "            \n",
    "            # Extract player details\n",
    "            player_handle = player_info['accountId']['value']\n",
    "            player_name = player_info['displayName']\n",
    "            selected_agent_guid = player_info['selectedAgent']['fallback']['guid']  # GUID of the agent\n",
    "            \n",
    "            # Get the agent name from the GUID using agentCodeMapping\n",
    "            agent_name = agent_code_mapping.get(selected_agent_guid, \"Unknown Agent\")\n",
    "            \n",
    "            # Get global player ID from participantMapping\n",
    "            global_player_id = mapping_info['participantMapping'].get(str(player_id))\n",
    "            if not global_player_id:\n",
    "                continue  # Skip if no global player ID is found\n",
    "            \n",
    "            # Initialize the player entry if not already present\n",
    "            if global_player_id not in temp_players:\n",
    "                temp_players[global_player_id] = {\n",
    "                    'ID': player_handle,\n",
    "                    'handle': player_handle,\n",
    "                    'name': player_name,\n",
    "                    'team': team_name,\n",
    "                    'Games': []\n",
    "                }\n",
    "            \n",
    "            # Add game-specific information\n",
    "            game_info = {\n",
    "                'Tournament Name': mapping_info['tournamentId'],\n",
    "                'Attacking Kills': 0,\n",
    "                'Defending Kills': 0,\n",
    "                'Attacking Deaths': 0,\n",
    "                'Defending Deaths': 0,\n",
    "                'Assists (attacking/defending)': 0,\n",
    "                'Map': map_info,\n",
    "                'Agent': agent_name  \n",
    "            }\n",
    "            \n",
    "            temp_players[global_player_id]['Games'].append(game_info)\n",
    "    \n",
    "    return temp_players\n"
   ]
  },
  {
   "cell_type": "code",
   "execution_count": 12,
   "id": "cbf2088176e2e72a",
   "metadata": {
    "ExecuteTime": {
     "end_time": "2024-09-27T20:03:20.583525Z",
     "start_time": "2024-09-27T20:03:20.580959Z"
    },
    "collapsed": false
   },
   "outputs": [],
   "source": [
    "def player_died_event(event, temp_players, mappingData, attack_defend_info):\n",
    "    # Extract player IDs\n",
    "    deceased_id = event['playerDied']['deceasedId']['value']\n",
    "    killer_id = event['playerDied']['killerId']['value']\n",
    "    \n",
    "    # Use participantMapping to map to global player ID\n",
    "    global_deceased_id = mappingData['participantMapping'].get(str(deceased_id))\n",
    "    global_killer_id = mappingData['participantMapping'].get(str(killer_id))\n",
    "    \n",
    "    # If no valid mappings are found, return\n",
    "    if not global_deceased_id or not global_killer_id:\n",
    "        return temp_players\n",
    "    \n",
    "    # Determine if the deceased and killer were on attacking or defending teams\n",
    "    if attack_defend_info['attackingTeam'] == mappingData['participantMapping'].get(str(deceased_id)):\n",
    "        temp_players[global_deceased_id]['Games'][-1]['Attacking Deaths'] += 1\n",
    "    else:\n",
    "        temp_players[global_deceased_id]['Games'][-1]['Defending Deaths'] += 1\n",
    "    \n",
    "    if attack_defend_info['attackingTeam'] == mappingData['participantMapping'].get(str(killer_id)):\n",
    "        temp_players[global_killer_id]['Games'][-1]['Attacking Kills'] += 1\n",
    "    else:\n",
    "        temp_players[global_killer_id]['Games'][-1]['Defending Kills'] += 1"
   ]
  },
  {
   "cell_type": "code",
   "execution_count": 13,
   "id": "80d46c7b03e43c65",
   "metadata": {
    "ExecuteTime": {
     "end_time": "2024-09-27T20:03:20.930298Z",
     "start_time": "2024-09-27T20:03:20.926312Z"
    },
    "collapsed": false
   },
   "outputs": [],
   "source": [
    "# here we set/count/increment the rounds won for the winning team members\n",
    "def round_decided(event, attack_defend_info, temp_players, mappingData):\n",
    "    platform_game_id = event['platformGameId']\n",
    "    \n",
    "    # Get the winning team ID\n",
    "    winning_team = event['roundDecided']['result']['winningTeam']['value']\n",
    "    \n",
    "    # Iterate over players in the winning team and update rounds won\n",
    "    for local_player_id, global_player_id in mappingData[platform_game_id]['participantMapping'].items():\n",
    "        if local_player_id in temp_players:\n",
    "            current_team = temp_players[global_player_id]['team']\n",
    "            if current_team == winning_team:\n",
    "                if current_team == attack_defend_info['attackingTeam']:\n",
    "                    temp_players[global_player_id]['Games'][-1]['roundsWon']['attack'] += 1\n",
    "                else:\n",
    "                    temp_players[global_player_id]['Games'][-1]['roundsWon']['defense'] += 1\n",
    "    \n",
    "    return temp_players\n"
   ]
  },
  {
   "cell_type": "code",
   "execution_count": 14,
   "id": "37632cc1b45a581e",
   "metadata": {
    "ExecuteTime": {
     "end_time": "2024-09-27T20:03:21.307946Z",
     "start_time": "2024-09-27T20:03:21.305250Z"
    },
    "collapsed": false
   },
   "outputs": [],
   "source": [
    "def round_started(event, attack_defend_info):\n",
    "    round_started = event['roundStarted']\n",
    "    \n",
    "    # Update attacking and defending teams\n",
    "    attack_defend_info['attackingTeam'] = round_started['spikeMode']['attackingTeam']['value']\n",
    "    attack_defend_info['defendingTeam'] = round_started['spikeMode']['defendingTeam']['value']\n",
    "    return attack_defend_info\n"
   ]
  },
  {
   "cell_type": "code",
   "execution_count": 15,
   "id": "535df2748fd4c4e0",
   "metadata": {
    "ExecuteTime": {
     "end_time": "2024-09-27T20:06:40.664994Z",
     "start_time": "2024-09-27T20:06:40.658577Z"
    },
    "collapsed": false
   },
   "outputs": [],
   "source": [
    "# this function takes in a game data file, and parses through it, returning only what we want\n",
    "# @returns updated players dictionary \n",
    "def parse_game_data(gameData, players, mappingData):\n",
    "    \n",
    "    # check if the game is in the mapping data. if not, skip it.\n",
    "    platform_game_id = gameData[0]['platformGameId']\n",
    "    if platform_game_id not in mappingData:\n",
    "        print(f\"Platform game ID {platform_game_id} not found in mapping data\")\n",
    "        return players\n",
    "    else:\n",
    "        print(f\"Platform game value {mappingData[platform_game_id]}\")\n",
    "    \n",
    "    \n",
    "    temp_players = {}\n",
    "    attackDefendInfo = {}\n",
    "\n",
    "    for event in gameData:\n",
    "        if 'configuration' in event:\n",
    "            temp_players = config_event(event, temp_players, mappingData)\n",
    "        elif 'playerDied' in event:\n",
    "            temp_players = player_died_event(event, temp_players, mappingData, attackDefendInfo)\n",
    "        elif 'roundStarted' in event:\n",
    "            attackDefendInfo = round_started(event, attackDefendInfo)\n",
    "        elif 'roundDecided' in event:\n",
    "            temp_players = round_decided(event, attackDefendInfo, temp_players, mappingData)\n",
    "        elif 'roundStarted' in event:\n",
    "            round_started(event, attackDefendInfo)\n",
    "            \n",
    "    \n",
    "    print(\"temp_players\", temp_players)\n",
    "    \n",
    "    # Merge temp_players into the main players dictionary\n",
    "    for player_id, player_data in temp_players.items():\n",
    "        if player_id in players:\n",
    "            # Merge game information if player already exists in the players dictionary\n",
    "            \n",
    "            # Ensure the 'Games' key exists for the player\n",
    "            if 'Games' not in players[player_id]:\n",
    "                players[player_id]['Games'] = []  # Initialize if it doesn't exist\n",
    "\n",
    "            # Merge game information\n",
    "            players[player_id]['Games'].extend(player_data['Games'])\n",
    "            \n",
    "        else:\n",
    "            # Add new player entry if not in players dictionary\n",
    "            players[player_id] = player_data\n",
    "            \n",
    "    \n",
    "    return players\n",
    "\n",
    "    "
   ]
  },
  {
   "cell_type": "code",
   "execution_count": 16,
   "id": "74c8354710fee42a",
   "metadata": {
    "ExecuteTime": {
     "end_time": "2024-09-27T20:03:24.878998Z",
     "start_time": "2024-09-27T20:03:24.019126Z"
    },
    "collapsed": false
   },
   "outputs": [],
   "source": [
    "# TODO: Change this to be all game files instead of just one\n",
    "bucket_name = 'vcthackathon-data'\n",
    "object_key = 'game-changers/games/2024/val:001949ff-e8a0-40fb-8ba5-65e123df8e1d.json.gz'\n",
    "\n",
    "gameData = getUnzippedData(bucket_name, object_key)"
   ]
  },
  {
   "cell_type": "code",
   "execution_count": 17,
   "id": "2be6c48cb0a74818",
   "metadata": {
    "ExecuteTime": {
     "end_time": "2024-09-27T20:07:11.715801Z",
     "start_time": "2024-09-27T20:07:11.712522Z"
    },
    "collapsed": false
   },
   "outputs": [
    {
     "name": "stdout",
     "output_type": "stream",
     "text": [
      "Platform game value {'tournamentId': '112729035485517625', 'teamMapping': {'12': '108764409368519858', '13': '108748169745284534'}, 'participantMapping': {'1': '111067958377934403', '2': '108748099637064824', '3': '111057371424123924', '4': '108748093144321973', '5': '108748093245509945', '6': '109030070859531583', '7': '108764516777284603', '8': '108748092607804521', '9': '108764513807403457', '10': '110745687059117485'}}\n",
      "val:001949ff-e8a0-40fb-8ba5-65e123df8e1d\n",
      "val:001949ff-e8a0-40fb-8ba5-65e123df8e1d\n",
      "val:001949ff-e8a0-40fb-8ba5-65e123df8e1d\n",
      "val:001949ff-e8a0-40fb-8ba5-65e123df8e1d\n",
      "val:001949ff-e8a0-40fb-8ba5-65e123df8e1d\n",
      "val:001949ff-e8a0-40fb-8ba5-65e123df8e1d\n",
      "val:001949ff-e8a0-40fb-8ba5-65e123df8e1d\n",
      "val:001949ff-e8a0-40fb-8ba5-65e123df8e1d\n",
      "val:001949ff-e8a0-40fb-8ba5-65e123df8e1d\n",
      "val:001949ff-e8a0-40fb-8ba5-65e123df8e1d\n",
      "val:001949ff-e8a0-40fb-8ba5-65e123df8e1d\n",
      "val:001949ff-e8a0-40fb-8ba5-65e123df8e1d\n",
      "val:001949ff-e8a0-40fb-8ba5-65e123df8e1d\n",
      "val:001949ff-e8a0-40fb-8ba5-65e123df8e1d\n",
      "val:001949ff-e8a0-40fb-8ba5-65e123df8e1d\n",
      "val:001949ff-e8a0-40fb-8ba5-65e123df8e1d\n",
      "val:001949ff-e8a0-40fb-8ba5-65e123df8e1d\n",
      "val:001949ff-e8a0-40fb-8ba5-65e123df8e1d\n",
      "val:001949ff-e8a0-40fb-8ba5-65e123df8e1d\n",
      "val:001949ff-e8a0-40fb-8ba5-65e123df8e1d\n",
      "temp_players {'109030070859531583': {'ID': 'a162ea22-686e-5233-805f-d5c75f87a893', 'handle': 'a162ea22-686e-5233-805f-d5c75f87a893', 'name': 'RIG HakuNa', 'team': 'Red', 'Games': [{'Tournament Name': '112729035485517625', 'Attacking Kills': 0, 'Defending Kills': 0, 'Attacking Deaths': 0, 'Defending Deaths': 0, 'Assists (attacking/defending)': 0, 'Map': 'Ascent', 'Agent': 'Unknown Agent'}, {'Tournament Name': '112729035485517625', 'Attacking Kills': 0, 'Defending Kills': 0, 'Attacking Deaths': 0, 'Defending Deaths': 0, 'Assists (attacking/defending)': 0, 'Map': 'Ascent', 'Agent': 'Unknown Agent'}, {'Tournament Name': '112729035485517625', 'Attacking Kills': 0, 'Defending Kills': 0, 'Attacking Deaths': 0, 'Defending Deaths': 0, 'Assists (attacking/defending)': 0, 'Map': 'Ascent', 'Agent': 'Unknown Agent'}, {'Tournament Name': '112729035485517625', 'Attacking Kills': 0, 'Defending Kills': 0, 'Attacking Deaths': 0, 'Defending Deaths': 0, 'Assists (attacking/defending)': 0, 'Map': 'Ascent', 'Agent': 'Unknown Agent'}, {'Tournament Name': '112729035485517625', 'Attacking Kills': 0, 'Defending Kills': 0, 'Attacking Deaths': 0, 'Defending Deaths': 0, 'Assists (attacking/defending)': 0, 'Map': 'Ascent', 'Agent': 'Unknown Agent'}, {'Tournament Name': '112729035485517625', 'Attacking Kills': 0, 'Defending Kills': 0, 'Attacking Deaths': 0, 'Defending Deaths': 0, 'Assists (attacking/defending)': 0, 'Map': 'Ascent', 'Agent': 'Unknown Agent'}, {'Tournament Name': '112729035485517625', 'Attacking Kills': 0, 'Defending Kills': 0, 'Attacking Deaths': 0, 'Defending Deaths': 0, 'Assists (attacking/defending)': 0, 'Map': 'Ascent', 'Agent': 'Unknown Agent'}, {'Tournament Name': '112729035485517625', 'Attacking Kills': 0, 'Defending Kills': 0, 'Attacking Deaths': 0, 'Defending Deaths': 0, 'Assists (attacking/defending)': 0, 'Map': 'Ascent', 'Agent': 'Unknown Agent'}, {'Tournament Name': '112729035485517625', 'Attacking Kills': 0, 'Defending Kills': 0, 'Attacking Deaths': 0, 'Defending Deaths': 0, 'Assists (attacking/defending)': 0, 'Map': 'Ascent', 'Agent': 'Unknown Agent'}, {'Tournament Name': '112729035485517625', 'Attacking Kills': 0, 'Defending Kills': 0, 'Attacking Deaths': 0, 'Defending Deaths': 0, 'Assists (attacking/defending)': 0, 'Map': 'Ascent', 'Agent': 'Unknown Agent'}, {'Tournament Name': '112729035485517625', 'Attacking Kills': 0, 'Defending Kills': 0, 'Attacking Deaths': 0, 'Defending Deaths': 0, 'Assists (attacking/defending)': 0, 'Map': 'Ascent', 'Agent': 'Unknown Agent'}, {'Tournament Name': '112729035485517625', 'Attacking Kills': 0, 'Defending Kills': 0, 'Attacking Deaths': 0, 'Defending Deaths': 0, 'Assists (attacking/defending)': 0, 'Map': 'Ascent', 'Agent': 'Unknown Agent'}, {'Tournament Name': '112729035485517625', 'Attacking Kills': 0, 'Defending Kills': 0, 'Attacking Deaths': 0, 'Defending Deaths': 0, 'Assists (attacking/defending)': 0, 'Map': 'Ascent', 'Agent': 'Unknown Agent'}, {'Tournament Name': '112729035485517625', 'Attacking Kills': 0, 'Defending Kills': 0, 'Attacking Deaths': 0, 'Defending Deaths': 0, 'Assists (attacking/defending)': 0, 'Map': 'Ascent', 'Agent': 'Unknown Agent'}, {'Tournament Name': '112729035485517625', 'Attacking Kills': 0, 'Defending Kills': 0, 'Attacking Deaths': 0, 'Defending Deaths': 0, 'Assists (attacking/defending)': 0, 'Map': 'Ascent', 'Agent': 'Unknown Agent'}, {'Tournament Name': '112729035485517625', 'Attacking Kills': 0, 'Defending Kills': 0, 'Attacking Deaths': 0, 'Defending Deaths': 0, 'Assists (attacking/defending)': 0, 'Map': 'Ascent', 'Agent': 'Unknown Agent'}, {'Tournament Name': '112729035485517625', 'Attacking Kills': 0, 'Defending Kills': 0, 'Attacking Deaths': 0, 'Defending Deaths': 0, 'Assists (attacking/defending)': 0, 'Map': 'Ascent', 'Agent': 'Unknown Agent'}, {'Tournament Name': '112729035485517625', 'Attacking Kills': 0, 'Defending Kills': 0, 'Attacking Deaths': 0, 'Defending Deaths': 0, 'Assists (attacking/defending)': 0, 'Map': 'Ascent', 'Agent': 'Unknown Agent'}, {'Tournament Name': '112729035485517625', 'Attacking Kills': 0, 'Defending Kills': 0, 'Attacking Deaths': 0, 'Defending Deaths': 0, 'Assists (attacking/defending)': 0, 'Map': 'Ascent', 'Agent': 'Unknown Agent'}, {'Tournament Name': '112729035485517625', 'Attacking Kills': 0, 'Defending Kills': 0, 'Attacking Deaths': 0, 'Defending Deaths': 0, 'Assists (attacking/defending)': 0, 'Map': 'Ascent', 'Agent': 'Unknown Agent'}]}, '108764516777284603': {'ID': '4426bafe-923c-5902-b5d5-5c5a218914b0', 'handle': '4426bafe-923c-5902-b5d5-5c5a218914b0', 'name': 'RIG Zodiac2', 'team': 'Red', 'Games': [{'Tournament Name': '112729035485517625', 'Attacking Kills': 0, 'Defending Kills': 0, 'Attacking Deaths': 0, 'Defending Deaths': 0, 'Assists (attacking/defending)': 0, 'Map': 'Ascent', 'Agent': 'Unknown Agent'}, {'Tournament Name': '112729035485517625', 'Attacking Kills': 0, 'Defending Kills': 0, 'Attacking Deaths': 0, 'Defending Deaths': 0, 'Assists (attacking/defending)': 0, 'Map': 'Ascent', 'Agent': 'Unknown Agent'}, {'Tournament Name': '112729035485517625', 'Attacking Kills': 0, 'Defending Kills': 0, 'Attacking Deaths': 0, 'Defending Deaths': 0, 'Assists (attacking/defending)': 0, 'Map': 'Ascent', 'Agent': 'Unknown Agent'}, {'Tournament Name': '112729035485517625', 'Attacking Kills': 0, 'Defending Kills': 0, 'Attacking Deaths': 0, 'Defending Deaths': 0, 'Assists (attacking/defending)': 0, 'Map': 'Ascent', 'Agent': 'Unknown Agent'}, {'Tournament Name': '112729035485517625', 'Attacking Kills': 0, 'Defending Kills': 0, 'Attacking Deaths': 0, 'Defending Deaths': 0, 'Assists (attacking/defending)': 0, 'Map': 'Ascent', 'Agent': 'Unknown Agent'}, {'Tournament Name': '112729035485517625', 'Attacking Kills': 0, 'Defending Kills': 0, 'Attacking Deaths': 0, 'Defending Deaths': 0, 'Assists (attacking/defending)': 0, 'Map': 'Ascent', 'Agent': 'Unknown Agent'}, {'Tournament Name': '112729035485517625', 'Attacking Kills': 0, 'Defending Kills': 0, 'Attacking Deaths': 0, 'Defending Deaths': 0, 'Assists (attacking/defending)': 0, 'Map': 'Ascent', 'Agent': 'Unknown Agent'}, {'Tournament Name': '112729035485517625', 'Attacking Kills': 0, 'Defending Kills': 0, 'Attacking Deaths': 0, 'Defending Deaths': 0, 'Assists (attacking/defending)': 0, 'Map': 'Ascent', 'Agent': 'Unknown Agent'}, {'Tournament Name': '112729035485517625', 'Attacking Kills': 0, 'Defending Kills': 0, 'Attacking Deaths': 0, 'Defending Deaths': 0, 'Assists (attacking/defending)': 0, 'Map': 'Ascent', 'Agent': 'Unknown Agent'}, {'Tournament Name': '112729035485517625', 'Attacking Kills': 0, 'Defending Kills': 0, 'Attacking Deaths': 0, 'Defending Deaths': 0, 'Assists (attacking/defending)': 0, 'Map': 'Ascent', 'Agent': 'Unknown Agent'}, {'Tournament Name': '112729035485517625', 'Attacking Kills': 0, 'Defending Kills': 0, 'Attacking Deaths': 0, 'Defending Deaths': 0, 'Assists (attacking/defending)': 0, 'Map': 'Ascent', 'Agent': 'Unknown Agent'}, {'Tournament Name': '112729035485517625', 'Attacking Kills': 0, 'Defending Kills': 0, 'Attacking Deaths': 0, 'Defending Deaths': 0, 'Assists (attacking/defending)': 0, 'Map': 'Ascent', 'Agent': 'Unknown Agent'}, {'Tournament Name': '112729035485517625', 'Attacking Kills': 0, 'Defending Kills': 0, 'Attacking Deaths': 0, 'Defending Deaths': 0, 'Assists (attacking/defending)': 0, 'Map': 'Ascent', 'Agent': 'Unknown Agent'}, {'Tournament Name': '112729035485517625', 'Attacking Kills': 0, 'Defending Kills': 0, 'Attacking Deaths': 0, 'Defending Deaths': 0, 'Assists (attacking/defending)': 0, 'Map': 'Ascent', 'Agent': 'Unknown Agent'}, {'Tournament Name': '112729035485517625', 'Attacking Kills': 0, 'Defending Kills': 0, 'Attacking Deaths': 0, 'Defending Deaths': 0, 'Assists (attacking/defending)': 0, 'Map': 'Ascent', 'Agent': 'Unknown Agent'}, {'Tournament Name': '112729035485517625', 'Attacking Kills': 0, 'Defending Kills': 0, 'Attacking Deaths': 0, 'Defending Deaths': 0, 'Assists (attacking/defending)': 0, 'Map': 'Ascent', 'Agent': 'Unknown Agent'}, {'Tournament Name': '112729035485517625', 'Attacking Kills': 0, 'Defending Kills': 0, 'Attacking Deaths': 0, 'Defending Deaths': 0, 'Assists (attacking/defending)': 0, 'Map': 'Ascent', 'Agent': 'Unknown Agent'}, {'Tournament Name': '112729035485517625', 'Attacking Kills': 0, 'Defending Kills': 0, 'Attacking Deaths': 0, 'Defending Deaths': 0, 'Assists (attacking/defending)': 0, 'Map': 'Ascent', 'Agent': 'Unknown Agent'}, {'Tournament Name': '112729035485517625', 'Attacking Kills': 0, 'Defending Kills': 0, 'Attacking Deaths': 0, 'Defending Deaths': 0, 'Assists (attacking/defending)': 0, 'Map': 'Ascent', 'Agent': 'Unknown Agent'}, {'Tournament Name': '112729035485517625', 'Attacking Kills': 0, 'Defending Kills': 0, 'Attacking Deaths': 0, 'Defending Deaths': 0, 'Assists (attacking/defending)': 0, 'Map': 'Ascent', 'Agent': 'Unknown Agent'}]}, '108748092607804521': {'ID': '91c10e79-8c0d-5fb2-92f2-405627d0277a', 'handle': '91c10e79-8c0d-5fb2-92f2-405627d0277a', 'name': 'RIG HANE', 'team': 'Red', 'Games': [{'Tournament Name': '112729035485517625', 'Attacking Kills': 0, 'Defending Kills': 0, 'Attacking Deaths': 0, 'Defending Deaths': 0, 'Assists (attacking/defending)': 0, 'Map': 'Ascent', 'Agent': 'Unknown Agent'}, {'Tournament Name': '112729035485517625', 'Attacking Kills': 0, 'Defending Kills': 0, 'Attacking Deaths': 0, 'Defending Deaths': 0, 'Assists (attacking/defending)': 0, 'Map': 'Ascent', 'Agent': 'Unknown Agent'}, {'Tournament Name': '112729035485517625', 'Attacking Kills': 0, 'Defending Kills': 0, 'Attacking Deaths': 0, 'Defending Deaths': 0, 'Assists (attacking/defending)': 0, 'Map': 'Ascent', 'Agent': 'Unknown Agent'}, {'Tournament Name': '112729035485517625', 'Attacking Kills': 0, 'Defending Kills': 0, 'Attacking Deaths': 0, 'Defending Deaths': 0, 'Assists (attacking/defending)': 0, 'Map': 'Ascent', 'Agent': 'Unknown Agent'}, {'Tournament Name': '112729035485517625', 'Attacking Kills': 0, 'Defending Kills': 0, 'Attacking Deaths': 0, 'Defending Deaths': 0, 'Assists (attacking/defending)': 0, 'Map': 'Ascent', 'Agent': 'Unknown Agent'}, {'Tournament Name': '112729035485517625', 'Attacking Kills': 0, 'Defending Kills': 0, 'Attacking Deaths': 0, 'Defending Deaths': 0, 'Assists (attacking/defending)': 0, 'Map': 'Ascent', 'Agent': 'Unknown Agent'}, {'Tournament Name': '112729035485517625', 'Attacking Kills': 0, 'Defending Kills': 0, 'Attacking Deaths': 0, 'Defending Deaths': 0, 'Assists (attacking/defending)': 0, 'Map': 'Ascent', 'Agent': 'Unknown Agent'}, {'Tournament Name': '112729035485517625', 'Attacking Kills': 0, 'Defending Kills': 0, 'Attacking Deaths': 0, 'Defending Deaths': 0, 'Assists (attacking/defending)': 0, 'Map': 'Ascent', 'Agent': 'Unknown Agent'}, {'Tournament Name': '112729035485517625', 'Attacking Kills': 0, 'Defending Kills': 0, 'Attacking Deaths': 0, 'Defending Deaths': 0, 'Assists (attacking/defending)': 0, 'Map': 'Ascent', 'Agent': 'Unknown Agent'}, {'Tournament Name': '112729035485517625', 'Attacking Kills': 0, 'Defending Kills': 0, 'Attacking Deaths': 0, 'Defending Deaths': 0, 'Assists (attacking/defending)': 0, 'Map': 'Ascent', 'Agent': 'Unknown Agent'}, {'Tournament Name': '112729035485517625', 'Attacking Kills': 0, 'Defending Kills': 0, 'Attacking Deaths': 0, 'Defending Deaths': 0, 'Assists (attacking/defending)': 0, 'Map': 'Ascent', 'Agent': 'Unknown Agent'}, {'Tournament Name': '112729035485517625', 'Attacking Kills': 0, 'Defending Kills': 0, 'Attacking Deaths': 0, 'Defending Deaths': 0, 'Assists (attacking/defending)': 0, 'Map': 'Ascent', 'Agent': 'Unknown Agent'}, {'Tournament Name': '112729035485517625', 'Attacking Kills': 0, 'Defending Kills': 0, 'Attacking Deaths': 0, 'Defending Deaths': 0, 'Assists (attacking/defending)': 0, 'Map': 'Ascent', 'Agent': 'Unknown Agent'}, {'Tournament Name': '112729035485517625', 'Attacking Kills': 0, 'Defending Kills': 0, 'Attacking Deaths': 0, 'Defending Deaths': 0, 'Assists (attacking/defending)': 0, 'Map': 'Ascent', 'Agent': 'Unknown Agent'}, {'Tournament Name': '112729035485517625', 'Attacking Kills': 0, 'Defending Kills': 0, 'Attacking Deaths': 0, 'Defending Deaths': 0, 'Assists (attacking/defending)': 0, 'Map': 'Ascent', 'Agent': 'Unknown Agent'}, {'Tournament Name': '112729035485517625', 'Attacking Kills': 0, 'Defending Kills': 0, 'Attacking Deaths': 0, 'Defending Deaths': 0, 'Assists (attacking/defending)': 0, 'Map': 'Ascent', 'Agent': 'Unknown Agent'}, {'Tournament Name': '112729035485517625', 'Attacking Kills': 0, 'Defending Kills': 0, 'Attacking Deaths': 0, 'Defending Deaths': 0, 'Assists (attacking/defending)': 0, 'Map': 'Ascent', 'Agent': 'Unknown Agent'}, {'Tournament Name': '112729035485517625', 'Attacking Kills': 0, 'Defending Kills': 0, 'Attacking Deaths': 0, 'Defending Deaths': 0, 'Assists (attacking/defending)': 0, 'Map': 'Ascent', 'Agent': 'Unknown Agent'}, {'Tournament Name': '112729035485517625', 'Attacking Kills': 0, 'Defending Kills': 0, 'Attacking Deaths': 0, 'Defending Deaths': 0, 'Assists (attacking/defending)': 0, 'Map': 'Ascent', 'Agent': 'Unknown Agent'}, {'Tournament Name': '112729035485517625', 'Attacking Kills': 0, 'Defending Kills': 0, 'Attacking Deaths': 0, 'Defending Deaths': 0, 'Assists (attacking/defending)': 0, 'Map': 'Ascent', 'Agent': 'Unknown Agent'}]}, '108764513807403457': {'ID': 'bb1d6d4a-e2a7-53dc-b158-178455c94d2a', 'handle': 'bb1d6d4a-e2a7-53dc-b158-178455c94d2a', 'name': 'RIG R4M', 'team': 'Red', 'Games': [{'Tournament Name': '112729035485517625', 'Attacking Kills': 0, 'Defending Kills': 0, 'Attacking Deaths': 0, 'Defending Deaths': 0, 'Assists (attacking/defending)': 0, 'Map': 'Ascent', 'Agent': 'Unknown Agent'}, {'Tournament Name': '112729035485517625', 'Attacking Kills': 0, 'Defending Kills': 0, 'Attacking Deaths': 0, 'Defending Deaths': 0, 'Assists (attacking/defending)': 0, 'Map': 'Ascent', 'Agent': 'Unknown Agent'}, {'Tournament Name': '112729035485517625', 'Attacking Kills': 0, 'Defending Kills': 0, 'Attacking Deaths': 0, 'Defending Deaths': 0, 'Assists (attacking/defending)': 0, 'Map': 'Ascent', 'Agent': 'Unknown Agent'}, {'Tournament Name': '112729035485517625', 'Attacking Kills': 0, 'Defending Kills': 0, 'Attacking Deaths': 0, 'Defending Deaths': 0, 'Assists (attacking/defending)': 0, 'Map': 'Ascent', 'Agent': 'Unknown Agent'}, {'Tournament Name': '112729035485517625', 'Attacking Kills': 0, 'Defending Kills': 0, 'Attacking Deaths': 0, 'Defending Deaths': 0, 'Assists (attacking/defending)': 0, 'Map': 'Ascent', 'Agent': 'Unknown Agent'}, {'Tournament Name': '112729035485517625', 'Attacking Kills': 0, 'Defending Kills': 0, 'Attacking Deaths': 0, 'Defending Deaths': 0, 'Assists (attacking/defending)': 0, 'Map': 'Ascent', 'Agent': 'Unknown Agent'}, {'Tournament Name': '112729035485517625', 'Attacking Kills': 0, 'Defending Kills': 0, 'Attacking Deaths': 0, 'Defending Deaths': 0, 'Assists (attacking/defending)': 0, 'Map': 'Ascent', 'Agent': 'Unknown Agent'}, {'Tournament Name': '112729035485517625', 'Attacking Kills': 0, 'Defending Kills': 0, 'Attacking Deaths': 0, 'Defending Deaths': 0, 'Assists (attacking/defending)': 0, 'Map': 'Ascent', 'Agent': 'Unknown Agent'}, {'Tournament Name': '112729035485517625', 'Attacking Kills': 0, 'Defending Kills': 0, 'Attacking Deaths': 0, 'Defending Deaths': 0, 'Assists (attacking/defending)': 0, 'Map': 'Ascent', 'Agent': 'Unknown Agent'}, {'Tournament Name': '112729035485517625', 'Attacking Kills': 0, 'Defending Kills': 0, 'Attacking Deaths': 0, 'Defending Deaths': 0, 'Assists (attacking/defending)': 0, 'Map': 'Ascent', 'Agent': 'Unknown Agent'}, {'Tournament Name': '112729035485517625', 'Attacking Kills': 0, 'Defending Kills': 0, 'Attacking Deaths': 0, 'Defending Deaths': 0, 'Assists (attacking/defending)': 0, 'Map': 'Ascent', 'Agent': 'Unknown Agent'}, {'Tournament Name': '112729035485517625', 'Attacking Kills': 0, 'Defending Kills': 0, 'Attacking Deaths': 0, 'Defending Deaths': 0, 'Assists (attacking/defending)': 0, 'Map': 'Ascent', 'Agent': 'Unknown Agent'}, {'Tournament Name': '112729035485517625', 'Attacking Kills': 0, 'Defending Kills': 0, 'Attacking Deaths': 0, 'Defending Deaths': 0, 'Assists (attacking/defending)': 0, 'Map': 'Ascent', 'Agent': 'Unknown Agent'}, {'Tournament Name': '112729035485517625', 'Attacking Kills': 0, 'Defending Kills': 0, 'Attacking Deaths': 0, 'Defending Deaths': 0, 'Assists (attacking/defending)': 0, 'Map': 'Ascent', 'Agent': 'Unknown Agent'}, {'Tournament Name': '112729035485517625', 'Attacking Kills': 0, 'Defending Kills': 0, 'Attacking Deaths': 0, 'Defending Deaths': 0, 'Assists (attacking/defending)': 0, 'Map': 'Ascent', 'Agent': 'Unknown Agent'}, {'Tournament Name': '112729035485517625', 'Attacking Kills': 0, 'Defending Kills': 0, 'Attacking Deaths': 0, 'Defending Deaths': 0, 'Assists (attacking/defending)': 0, 'Map': 'Ascent', 'Agent': 'Unknown Agent'}, {'Tournament Name': '112729035485517625', 'Attacking Kills': 0, 'Defending Kills': 0, 'Attacking Deaths': 0, 'Defending Deaths': 0, 'Assists (attacking/defending)': 0, 'Map': 'Ascent', 'Agent': 'Unknown Agent'}, {'Tournament Name': '112729035485517625', 'Attacking Kills': 0, 'Defending Kills': 0, 'Attacking Deaths': 0, 'Defending Deaths': 0, 'Assists (attacking/defending)': 0, 'Map': 'Ascent', 'Agent': 'Unknown Agent'}, {'Tournament Name': '112729035485517625', 'Attacking Kills': 0, 'Defending Kills': 0, 'Attacking Deaths': 0, 'Defending Deaths': 0, 'Assists (attacking/defending)': 0, 'Map': 'Ascent', 'Agent': 'Unknown Agent'}, {'Tournament Name': '112729035485517625', 'Attacking Kills': 0, 'Defending Kills': 0, 'Attacking Deaths': 0, 'Defending Deaths': 0, 'Assists (attacking/defending)': 0, 'Map': 'Ascent', 'Agent': 'Unknown Agent'}]}, '110745687059117485': {'ID': '7f29bd8b-ff77-5aa2-b4b6-118ecbae6369', 'handle': '7f29bd8b-ff77-5aa2-b4b6-118ecbae6369', 'name': 'RIG maripo', 'team': 'Red', 'Games': [{'Tournament Name': '112729035485517625', 'Attacking Kills': 0, 'Defending Kills': 0, 'Attacking Deaths': 0, 'Defending Deaths': 0, 'Assists (attacking/defending)': 0, 'Map': 'Ascent', 'Agent': 'Unknown Agent'}, {'Tournament Name': '112729035485517625', 'Attacking Kills': 0, 'Defending Kills': 0, 'Attacking Deaths': 0, 'Defending Deaths': 0, 'Assists (attacking/defending)': 0, 'Map': 'Ascent', 'Agent': 'Unknown Agent'}, {'Tournament Name': '112729035485517625', 'Attacking Kills': 0, 'Defending Kills': 0, 'Attacking Deaths': 0, 'Defending Deaths': 0, 'Assists (attacking/defending)': 0, 'Map': 'Ascent', 'Agent': 'Unknown Agent'}, {'Tournament Name': '112729035485517625', 'Attacking Kills': 0, 'Defending Kills': 0, 'Attacking Deaths': 0, 'Defending Deaths': 0, 'Assists (attacking/defending)': 0, 'Map': 'Ascent', 'Agent': 'Unknown Agent'}, {'Tournament Name': '112729035485517625', 'Attacking Kills': 0, 'Defending Kills': 0, 'Attacking Deaths': 0, 'Defending Deaths': 0, 'Assists (attacking/defending)': 0, 'Map': 'Ascent', 'Agent': 'Unknown Agent'}, {'Tournament Name': '112729035485517625', 'Attacking Kills': 0, 'Defending Kills': 0, 'Attacking Deaths': 0, 'Defending Deaths': 0, 'Assists (attacking/defending)': 0, 'Map': 'Ascent', 'Agent': 'Unknown Agent'}, {'Tournament Name': '112729035485517625', 'Attacking Kills': 0, 'Defending Kills': 0, 'Attacking Deaths': 0, 'Defending Deaths': 0, 'Assists (attacking/defending)': 0, 'Map': 'Ascent', 'Agent': 'Unknown Agent'}, {'Tournament Name': '112729035485517625', 'Attacking Kills': 0, 'Defending Kills': 0, 'Attacking Deaths': 0, 'Defending Deaths': 0, 'Assists (attacking/defending)': 0, 'Map': 'Ascent', 'Agent': 'Unknown Agent'}, {'Tournament Name': '112729035485517625', 'Attacking Kills': 0, 'Defending Kills': 0, 'Attacking Deaths': 0, 'Defending Deaths': 0, 'Assists (attacking/defending)': 0, 'Map': 'Ascent', 'Agent': 'Unknown Agent'}, {'Tournament Name': '112729035485517625', 'Attacking Kills': 0, 'Defending Kills': 0, 'Attacking Deaths': 0, 'Defending Deaths': 0, 'Assists (attacking/defending)': 0, 'Map': 'Ascent', 'Agent': 'Unknown Agent'}, {'Tournament Name': '112729035485517625', 'Attacking Kills': 0, 'Defending Kills': 0, 'Attacking Deaths': 0, 'Defending Deaths': 0, 'Assists (attacking/defending)': 0, 'Map': 'Ascent', 'Agent': 'Unknown Agent'}, {'Tournament Name': '112729035485517625', 'Attacking Kills': 0, 'Defending Kills': 0, 'Attacking Deaths': 0, 'Defending Deaths': 0, 'Assists (attacking/defending)': 0, 'Map': 'Ascent', 'Agent': 'Unknown Agent'}, {'Tournament Name': '112729035485517625', 'Attacking Kills': 0, 'Defending Kills': 0, 'Attacking Deaths': 0, 'Defending Deaths': 0, 'Assists (attacking/defending)': 0, 'Map': 'Ascent', 'Agent': 'Unknown Agent'}, {'Tournament Name': '112729035485517625', 'Attacking Kills': 0, 'Defending Kills': 0, 'Attacking Deaths': 0, 'Defending Deaths': 0, 'Assists (attacking/defending)': 0, 'Map': 'Ascent', 'Agent': 'Unknown Agent'}, {'Tournament Name': '112729035485517625', 'Attacking Kills': 0, 'Defending Kills': 0, 'Attacking Deaths': 0, 'Defending Deaths': 0, 'Assists (attacking/defending)': 0, 'Map': 'Ascent', 'Agent': 'Unknown Agent'}, {'Tournament Name': '112729035485517625', 'Attacking Kills': 0, 'Defending Kills': 0, 'Attacking Deaths': 0, 'Defending Deaths': 0, 'Assists (attacking/defending)': 0, 'Map': 'Ascent', 'Agent': 'Unknown Agent'}, {'Tournament Name': '112729035485517625', 'Attacking Kills': 0, 'Defending Kills': 0, 'Attacking Deaths': 0, 'Defending Deaths': 0, 'Assists (attacking/defending)': 0, 'Map': 'Ascent', 'Agent': 'Unknown Agent'}, {'Tournament Name': '112729035485517625', 'Attacking Kills': 0, 'Defending Kills': 0, 'Attacking Deaths': 0, 'Defending Deaths': 0, 'Assists (attacking/defending)': 0, 'Map': 'Ascent', 'Agent': 'Unknown Agent'}, {'Tournament Name': '112729035485517625', 'Attacking Kills': 0, 'Defending Kills': 0, 'Attacking Deaths': 0, 'Defending Deaths': 0, 'Assists (attacking/defending)': 0, 'Map': 'Ascent', 'Agent': 'Unknown Agent'}, {'Tournament Name': '112729035485517625', 'Attacking Kills': 0, 'Defending Kills': 0, 'Attacking Deaths': 0, 'Defending Deaths': 0, 'Assists (attacking/defending)': 0, 'Map': 'Ascent', 'Agent': 'Unknown Agent'}]}, '111067958377934403': {'ID': '12d78eab-4e1a-598f-ab05-f8ffe3563d88', 'handle': '12d78eab-4e1a-598f-ab05-f8ffe3563d88', 'name': 'ZETA SereNa1', 'team': 'Blue', 'Games': [{'Tournament Name': '112729035485517625', 'Attacking Kills': 0, 'Defending Kills': 0, 'Attacking Deaths': 0, 'Defending Deaths': 0, 'Assists (attacking/defending)': 0, 'Map': 'Ascent', 'Agent': 'Unknown Agent'}, {'Tournament Name': '112729035485517625', 'Attacking Kills': 0, 'Defending Kills': 0, 'Attacking Deaths': 0, 'Defending Deaths': 0, 'Assists (attacking/defending)': 0, 'Map': 'Ascent', 'Agent': 'Unknown Agent'}, {'Tournament Name': '112729035485517625', 'Attacking Kills': 0, 'Defending Kills': 0, 'Attacking Deaths': 0, 'Defending Deaths': 0, 'Assists (attacking/defending)': 0, 'Map': 'Ascent', 'Agent': 'Unknown Agent'}, {'Tournament Name': '112729035485517625', 'Attacking Kills': 0, 'Defending Kills': 0, 'Attacking Deaths': 0, 'Defending Deaths': 0, 'Assists (attacking/defending)': 0, 'Map': 'Ascent', 'Agent': 'Unknown Agent'}, {'Tournament Name': '112729035485517625', 'Attacking Kills': 0, 'Defending Kills': 0, 'Attacking Deaths': 0, 'Defending Deaths': 0, 'Assists (attacking/defending)': 0, 'Map': 'Ascent', 'Agent': 'Unknown Agent'}, {'Tournament Name': '112729035485517625', 'Attacking Kills': 0, 'Defending Kills': 0, 'Attacking Deaths': 0, 'Defending Deaths': 0, 'Assists (attacking/defending)': 0, 'Map': 'Ascent', 'Agent': 'Unknown Agent'}, {'Tournament Name': '112729035485517625', 'Attacking Kills': 0, 'Defending Kills': 0, 'Attacking Deaths': 0, 'Defending Deaths': 0, 'Assists (attacking/defending)': 0, 'Map': 'Ascent', 'Agent': 'Unknown Agent'}, {'Tournament Name': '112729035485517625', 'Attacking Kills': 0, 'Defending Kills': 0, 'Attacking Deaths': 0, 'Defending Deaths': 0, 'Assists (attacking/defending)': 0, 'Map': 'Ascent', 'Agent': 'Unknown Agent'}, {'Tournament Name': '112729035485517625', 'Attacking Kills': 0, 'Defending Kills': 0, 'Attacking Deaths': 0, 'Defending Deaths': 0, 'Assists (attacking/defending)': 0, 'Map': 'Ascent', 'Agent': 'Unknown Agent'}, {'Tournament Name': '112729035485517625', 'Attacking Kills': 0, 'Defending Kills': 0, 'Attacking Deaths': 0, 'Defending Deaths': 0, 'Assists (attacking/defending)': 0, 'Map': 'Ascent', 'Agent': 'Unknown Agent'}, {'Tournament Name': '112729035485517625', 'Attacking Kills': 0, 'Defending Kills': 0, 'Attacking Deaths': 0, 'Defending Deaths': 0, 'Assists (attacking/defending)': 0, 'Map': 'Ascent', 'Agent': 'Unknown Agent'}, {'Tournament Name': '112729035485517625', 'Attacking Kills': 0, 'Defending Kills': 0, 'Attacking Deaths': 0, 'Defending Deaths': 0, 'Assists (attacking/defending)': 0, 'Map': 'Ascent', 'Agent': 'Unknown Agent'}, {'Tournament Name': '112729035485517625', 'Attacking Kills': 0, 'Defending Kills': 0, 'Attacking Deaths': 0, 'Defending Deaths': 0, 'Assists (attacking/defending)': 0, 'Map': 'Ascent', 'Agent': 'Unknown Agent'}, {'Tournament Name': '112729035485517625', 'Attacking Kills': 0, 'Defending Kills': 0, 'Attacking Deaths': 0, 'Defending Deaths': 0, 'Assists (attacking/defending)': 0, 'Map': 'Ascent', 'Agent': 'Unknown Agent'}, {'Tournament Name': '112729035485517625', 'Attacking Kills': 0, 'Defending Kills': 0, 'Attacking Deaths': 0, 'Defending Deaths': 0, 'Assists (attacking/defending)': 0, 'Map': 'Ascent', 'Agent': 'Unknown Agent'}, {'Tournament Name': '112729035485517625', 'Attacking Kills': 0, 'Defending Kills': 0, 'Attacking Deaths': 0, 'Defending Deaths': 0, 'Assists (attacking/defending)': 0, 'Map': 'Ascent', 'Agent': 'Unknown Agent'}, {'Tournament Name': '112729035485517625', 'Attacking Kills': 0, 'Defending Kills': 0, 'Attacking Deaths': 0, 'Defending Deaths': 0, 'Assists (attacking/defending)': 0, 'Map': 'Ascent', 'Agent': 'Unknown Agent'}, {'Tournament Name': '112729035485517625', 'Attacking Kills': 0, 'Defending Kills': 0, 'Attacking Deaths': 0, 'Defending Deaths': 0, 'Assists (attacking/defending)': 0, 'Map': 'Ascent', 'Agent': 'Unknown Agent'}, {'Tournament Name': '112729035485517625', 'Attacking Kills': 0, 'Defending Kills': 0, 'Attacking Deaths': 0, 'Defending Deaths': 0, 'Assists (attacking/defending)': 0, 'Map': 'Ascent', 'Agent': 'Unknown Agent'}, {'Tournament Name': '112729035485517625', 'Attacking Kills': 0, 'Defending Kills': 0, 'Attacking Deaths': 0, 'Defending Deaths': 0, 'Assists (attacking/defending)': 0, 'Map': 'Ascent', 'Agent': 'Unknown Agent'}]}, '108748099637064824': {'ID': 'e2ebad04-7f2c-56b7-b570-cd6fb12deadf', 'handle': 'e2ebad04-7f2c-56b7-b570-cd6fb12deadf', 'name': 'ZETA suzu2', 'team': 'Blue', 'Games': [{'Tournament Name': '112729035485517625', 'Attacking Kills': 0, 'Defending Kills': 0, 'Attacking Deaths': 0, 'Defending Deaths': 0, 'Assists (attacking/defending)': 0, 'Map': 'Ascent', 'Agent': 'Unknown Agent'}, {'Tournament Name': '112729035485517625', 'Attacking Kills': 0, 'Defending Kills': 0, 'Attacking Deaths': 0, 'Defending Deaths': 0, 'Assists (attacking/defending)': 0, 'Map': 'Ascent', 'Agent': 'Unknown Agent'}, {'Tournament Name': '112729035485517625', 'Attacking Kills': 0, 'Defending Kills': 0, 'Attacking Deaths': 0, 'Defending Deaths': 0, 'Assists (attacking/defending)': 0, 'Map': 'Ascent', 'Agent': 'Unknown Agent'}, {'Tournament Name': '112729035485517625', 'Attacking Kills': 0, 'Defending Kills': 0, 'Attacking Deaths': 0, 'Defending Deaths': 0, 'Assists (attacking/defending)': 0, 'Map': 'Ascent', 'Agent': 'Unknown Agent'}, {'Tournament Name': '112729035485517625', 'Attacking Kills': 0, 'Defending Kills': 0, 'Attacking Deaths': 0, 'Defending Deaths': 0, 'Assists (attacking/defending)': 0, 'Map': 'Ascent', 'Agent': 'Unknown Agent'}, {'Tournament Name': '112729035485517625', 'Attacking Kills': 0, 'Defending Kills': 0, 'Attacking Deaths': 0, 'Defending Deaths': 0, 'Assists (attacking/defending)': 0, 'Map': 'Ascent', 'Agent': 'Unknown Agent'}, {'Tournament Name': '112729035485517625', 'Attacking Kills': 0, 'Defending Kills': 0, 'Attacking Deaths': 0, 'Defending Deaths': 0, 'Assists (attacking/defending)': 0, 'Map': 'Ascent', 'Agent': 'Unknown Agent'}, {'Tournament Name': '112729035485517625', 'Attacking Kills': 0, 'Defending Kills': 0, 'Attacking Deaths': 0, 'Defending Deaths': 0, 'Assists (attacking/defending)': 0, 'Map': 'Ascent', 'Agent': 'Unknown Agent'}, {'Tournament Name': '112729035485517625', 'Attacking Kills': 0, 'Defending Kills': 0, 'Attacking Deaths': 0, 'Defending Deaths': 0, 'Assists (attacking/defending)': 0, 'Map': 'Ascent', 'Agent': 'Unknown Agent'}, {'Tournament Name': '112729035485517625', 'Attacking Kills': 0, 'Defending Kills': 0, 'Attacking Deaths': 0, 'Defending Deaths': 0, 'Assists (attacking/defending)': 0, 'Map': 'Ascent', 'Agent': 'Unknown Agent'}, {'Tournament Name': '112729035485517625', 'Attacking Kills': 0, 'Defending Kills': 0, 'Attacking Deaths': 0, 'Defending Deaths': 0, 'Assists (attacking/defending)': 0, 'Map': 'Ascent', 'Agent': 'Unknown Agent'}, {'Tournament Name': '112729035485517625', 'Attacking Kills': 0, 'Defending Kills': 0, 'Attacking Deaths': 0, 'Defending Deaths': 0, 'Assists (attacking/defending)': 0, 'Map': 'Ascent', 'Agent': 'Unknown Agent'}, {'Tournament Name': '112729035485517625', 'Attacking Kills': 0, 'Defending Kills': 0, 'Attacking Deaths': 0, 'Defending Deaths': 0, 'Assists (attacking/defending)': 0, 'Map': 'Ascent', 'Agent': 'Unknown Agent'}, {'Tournament Name': '112729035485517625', 'Attacking Kills': 0, 'Defending Kills': 0, 'Attacking Deaths': 0, 'Defending Deaths': 0, 'Assists (attacking/defending)': 0, 'Map': 'Ascent', 'Agent': 'Unknown Agent'}, {'Tournament Name': '112729035485517625', 'Attacking Kills': 0, 'Defending Kills': 0, 'Attacking Deaths': 0, 'Defending Deaths': 0, 'Assists (attacking/defending)': 0, 'Map': 'Ascent', 'Agent': 'Unknown Agent'}, {'Tournament Name': '112729035485517625', 'Attacking Kills': 0, 'Defending Kills': 0, 'Attacking Deaths': 0, 'Defending Deaths': 0, 'Assists (attacking/defending)': 0, 'Map': 'Ascent', 'Agent': 'Unknown Agent'}, {'Tournament Name': '112729035485517625', 'Attacking Kills': 0, 'Defending Kills': 0, 'Attacking Deaths': 0, 'Defending Deaths': 0, 'Assists (attacking/defending)': 0, 'Map': 'Ascent', 'Agent': 'Unknown Agent'}, {'Tournament Name': '112729035485517625', 'Attacking Kills': 0, 'Defending Kills': 0, 'Attacking Deaths': 0, 'Defending Deaths': 0, 'Assists (attacking/defending)': 0, 'Map': 'Ascent', 'Agent': 'Unknown Agent'}, {'Tournament Name': '112729035485517625', 'Attacking Kills': 0, 'Defending Kills': 0, 'Attacking Deaths': 0, 'Defending Deaths': 0, 'Assists (attacking/defending)': 0, 'Map': 'Ascent', 'Agent': 'Unknown Agent'}, {'Tournament Name': '112729035485517625', 'Attacking Kills': 0, 'Defending Kills': 0, 'Attacking Deaths': 0, 'Defending Deaths': 0, 'Assists (attacking/defending)': 0, 'Map': 'Ascent', 'Agent': 'Unknown Agent'}]}, '111057371424123924': {'ID': '91b6c606-cbf6-58f7-a360-f1baeebfe571', 'handle': '91b6c606-cbf6-58f7-a360-f1baeebfe571', 'name': 'ZETA UR', 'team': 'Blue', 'Games': [{'Tournament Name': '112729035485517625', 'Attacking Kills': 0, 'Defending Kills': 0, 'Attacking Deaths': 0, 'Defending Deaths': 0, 'Assists (attacking/defending)': 0, 'Map': 'Ascent', 'Agent': 'Unknown Agent'}, {'Tournament Name': '112729035485517625', 'Attacking Kills': 0, 'Defending Kills': 0, 'Attacking Deaths': 0, 'Defending Deaths': 0, 'Assists (attacking/defending)': 0, 'Map': 'Ascent', 'Agent': 'Unknown Agent'}, {'Tournament Name': '112729035485517625', 'Attacking Kills': 0, 'Defending Kills': 0, 'Attacking Deaths': 0, 'Defending Deaths': 0, 'Assists (attacking/defending)': 0, 'Map': 'Ascent', 'Agent': 'Unknown Agent'}, {'Tournament Name': '112729035485517625', 'Attacking Kills': 0, 'Defending Kills': 0, 'Attacking Deaths': 0, 'Defending Deaths': 0, 'Assists (attacking/defending)': 0, 'Map': 'Ascent', 'Agent': 'Unknown Agent'}, {'Tournament Name': '112729035485517625', 'Attacking Kills': 0, 'Defending Kills': 0, 'Attacking Deaths': 0, 'Defending Deaths': 0, 'Assists (attacking/defending)': 0, 'Map': 'Ascent', 'Agent': 'Unknown Agent'}, {'Tournament Name': '112729035485517625', 'Attacking Kills': 0, 'Defending Kills': 0, 'Attacking Deaths': 0, 'Defending Deaths': 0, 'Assists (attacking/defending)': 0, 'Map': 'Ascent', 'Agent': 'Unknown Agent'}, {'Tournament Name': '112729035485517625', 'Attacking Kills': 0, 'Defending Kills': 0, 'Attacking Deaths': 0, 'Defending Deaths': 0, 'Assists (attacking/defending)': 0, 'Map': 'Ascent', 'Agent': 'Unknown Agent'}, {'Tournament Name': '112729035485517625', 'Attacking Kills': 0, 'Defending Kills': 0, 'Attacking Deaths': 0, 'Defending Deaths': 0, 'Assists (attacking/defending)': 0, 'Map': 'Ascent', 'Agent': 'Unknown Agent'}, {'Tournament Name': '112729035485517625', 'Attacking Kills': 0, 'Defending Kills': 0, 'Attacking Deaths': 0, 'Defending Deaths': 0, 'Assists (attacking/defending)': 0, 'Map': 'Ascent', 'Agent': 'Unknown Agent'}, {'Tournament Name': '112729035485517625', 'Attacking Kills': 0, 'Defending Kills': 0, 'Attacking Deaths': 0, 'Defending Deaths': 0, 'Assists (attacking/defending)': 0, 'Map': 'Ascent', 'Agent': 'Unknown Agent'}, {'Tournament Name': '112729035485517625', 'Attacking Kills': 0, 'Defending Kills': 0, 'Attacking Deaths': 0, 'Defending Deaths': 0, 'Assists (attacking/defending)': 0, 'Map': 'Ascent', 'Agent': 'Unknown Agent'}, {'Tournament Name': '112729035485517625', 'Attacking Kills': 0, 'Defending Kills': 0, 'Attacking Deaths': 0, 'Defending Deaths': 0, 'Assists (attacking/defending)': 0, 'Map': 'Ascent', 'Agent': 'Unknown Agent'}, {'Tournament Name': '112729035485517625', 'Attacking Kills': 0, 'Defending Kills': 0, 'Attacking Deaths': 0, 'Defending Deaths': 0, 'Assists (attacking/defending)': 0, 'Map': 'Ascent', 'Agent': 'Unknown Agent'}, {'Tournament Name': '112729035485517625', 'Attacking Kills': 0, 'Defending Kills': 0, 'Attacking Deaths': 0, 'Defending Deaths': 0, 'Assists (attacking/defending)': 0, 'Map': 'Ascent', 'Agent': 'Unknown Agent'}, {'Tournament Name': '112729035485517625', 'Attacking Kills': 0, 'Defending Kills': 0, 'Attacking Deaths': 0, 'Defending Deaths': 0, 'Assists (attacking/defending)': 0, 'Map': 'Ascent', 'Agent': 'Unknown Agent'}, {'Tournament Name': '112729035485517625', 'Attacking Kills': 0, 'Defending Kills': 0, 'Attacking Deaths': 0, 'Defending Deaths': 0, 'Assists (attacking/defending)': 0, 'Map': 'Ascent', 'Agent': 'Unknown Agent'}, {'Tournament Name': '112729035485517625', 'Attacking Kills': 0, 'Defending Kills': 0, 'Attacking Deaths': 0, 'Defending Deaths': 0, 'Assists (attacking/defending)': 0, 'Map': 'Ascent', 'Agent': 'Unknown Agent'}, {'Tournament Name': '112729035485517625', 'Attacking Kills': 0, 'Defending Kills': 0, 'Attacking Deaths': 0, 'Defending Deaths': 0, 'Assists (attacking/defending)': 0, 'Map': 'Ascent', 'Agent': 'Unknown Agent'}, {'Tournament Name': '112729035485517625', 'Attacking Kills': 0, 'Defending Kills': 0, 'Attacking Deaths': 0, 'Defending Deaths': 0, 'Assists (attacking/defending)': 0, 'Map': 'Ascent', 'Agent': 'Unknown Agent'}, {'Tournament Name': '112729035485517625', 'Attacking Kills': 0, 'Defending Kills': 0, 'Attacking Deaths': 0, 'Defending Deaths': 0, 'Assists (attacking/defending)': 0, 'Map': 'Ascent', 'Agent': 'Unknown Agent'}]}, '108748093144321973': {'ID': '4fc17458-a499-5d1f-b491-acca82987d0f', 'handle': '4fc17458-a499-5d1f-b491-acca82987d0f', 'name': 'ZETA aco', 'team': 'Blue', 'Games': [{'Tournament Name': '112729035485517625', 'Attacking Kills': 0, 'Defending Kills': 0, 'Attacking Deaths': 0, 'Defending Deaths': 0, 'Assists (attacking/defending)': 0, 'Map': 'Ascent', 'Agent': 'Unknown Agent'}, {'Tournament Name': '112729035485517625', 'Attacking Kills': 0, 'Defending Kills': 0, 'Attacking Deaths': 0, 'Defending Deaths': 0, 'Assists (attacking/defending)': 0, 'Map': 'Ascent', 'Agent': 'Unknown Agent'}, {'Tournament Name': '112729035485517625', 'Attacking Kills': 0, 'Defending Kills': 0, 'Attacking Deaths': 0, 'Defending Deaths': 0, 'Assists (attacking/defending)': 0, 'Map': 'Ascent', 'Agent': 'Unknown Agent'}, {'Tournament Name': '112729035485517625', 'Attacking Kills': 0, 'Defending Kills': 0, 'Attacking Deaths': 0, 'Defending Deaths': 0, 'Assists (attacking/defending)': 0, 'Map': 'Ascent', 'Agent': 'Unknown Agent'}, {'Tournament Name': '112729035485517625', 'Attacking Kills': 0, 'Defending Kills': 0, 'Attacking Deaths': 0, 'Defending Deaths': 0, 'Assists (attacking/defending)': 0, 'Map': 'Ascent', 'Agent': 'Unknown Agent'}, {'Tournament Name': '112729035485517625', 'Attacking Kills': 0, 'Defending Kills': 0, 'Attacking Deaths': 0, 'Defending Deaths': 0, 'Assists (attacking/defending)': 0, 'Map': 'Ascent', 'Agent': 'Unknown Agent'}, {'Tournament Name': '112729035485517625', 'Attacking Kills': 0, 'Defending Kills': 0, 'Attacking Deaths': 0, 'Defending Deaths': 0, 'Assists (attacking/defending)': 0, 'Map': 'Ascent', 'Agent': 'Unknown Agent'}, {'Tournament Name': '112729035485517625', 'Attacking Kills': 0, 'Defending Kills': 0, 'Attacking Deaths': 0, 'Defending Deaths': 0, 'Assists (attacking/defending)': 0, 'Map': 'Ascent', 'Agent': 'Unknown Agent'}, {'Tournament Name': '112729035485517625', 'Attacking Kills': 0, 'Defending Kills': 0, 'Attacking Deaths': 0, 'Defending Deaths': 0, 'Assists (attacking/defending)': 0, 'Map': 'Ascent', 'Agent': 'Unknown Agent'}, {'Tournament Name': '112729035485517625', 'Attacking Kills': 0, 'Defending Kills': 0, 'Attacking Deaths': 0, 'Defending Deaths': 0, 'Assists (attacking/defending)': 0, 'Map': 'Ascent', 'Agent': 'Unknown Agent'}, {'Tournament Name': '112729035485517625', 'Attacking Kills': 0, 'Defending Kills': 0, 'Attacking Deaths': 0, 'Defending Deaths': 0, 'Assists (attacking/defending)': 0, 'Map': 'Ascent', 'Agent': 'Unknown Agent'}, {'Tournament Name': '112729035485517625', 'Attacking Kills': 0, 'Defending Kills': 0, 'Attacking Deaths': 0, 'Defending Deaths': 0, 'Assists (attacking/defending)': 0, 'Map': 'Ascent', 'Agent': 'Unknown Agent'}, {'Tournament Name': '112729035485517625', 'Attacking Kills': 0, 'Defending Kills': 0, 'Attacking Deaths': 0, 'Defending Deaths': 0, 'Assists (attacking/defending)': 0, 'Map': 'Ascent', 'Agent': 'Unknown Agent'}, {'Tournament Name': '112729035485517625', 'Attacking Kills': 0, 'Defending Kills': 0, 'Attacking Deaths': 0, 'Defending Deaths': 0, 'Assists (attacking/defending)': 0, 'Map': 'Ascent', 'Agent': 'Unknown Agent'}, {'Tournament Name': '112729035485517625', 'Attacking Kills': 0, 'Defending Kills': 0, 'Attacking Deaths': 0, 'Defending Deaths': 0, 'Assists (attacking/defending)': 0, 'Map': 'Ascent', 'Agent': 'Unknown Agent'}, {'Tournament Name': '112729035485517625', 'Attacking Kills': 0, 'Defending Kills': 0, 'Attacking Deaths': 0, 'Defending Deaths': 0, 'Assists (attacking/defending)': 0, 'Map': 'Ascent', 'Agent': 'Unknown Agent'}, {'Tournament Name': '112729035485517625', 'Attacking Kills': 0, 'Defending Kills': 0, 'Attacking Deaths': 0, 'Defending Deaths': 0, 'Assists (attacking/defending)': 0, 'Map': 'Ascent', 'Agent': 'Unknown Agent'}, {'Tournament Name': '112729035485517625', 'Attacking Kills': 0, 'Defending Kills': 0, 'Attacking Deaths': 0, 'Defending Deaths': 0, 'Assists (attacking/defending)': 0, 'Map': 'Ascent', 'Agent': 'Unknown Agent'}, {'Tournament Name': '112729035485517625', 'Attacking Kills': 0, 'Defending Kills': 0, 'Attacking Deaths': 0, 'Defending Deaths': 0, 'Assists (attacking/defending)': 0, 'Map': 'Ascent', 'Agent': 'Unknown Agent'}, {'Tournament Name': '112729035485517625', 'Attacking Kills': 0, 'Defending Kills': 0, 'Attacking Deaths': 0, 'Defending Deaths': 0, 'Assists (attacking/defending)': 0, 'Map': 'Ascent', 'Agent': 'Unknown Agent'}]}, '108748093245509945': {'ID': 'd4f8eafa-5b9a-59bc-bfb7-df3142a16f7e', 'handle': 'd4f8eafa-5b9a-59bc-bfb7-df3142a16f7e', 'name': 'ZETA Moco', 'team': 'Blue', 'Games': [{'Tournament Name': '112729035485517625', 'Attacking Kills': 0, 'Defending Kills': 0, 'Attacking Deaths': 0, 'Defending Deaths': 0, 'Assists (attacking/defending)': 0, 'Map': 'Ascent', 'Agent': 'Unknown Agent'}, {'Tournament Name': '112729035485517625', 'Attacking Kills': 0, 'Defending Kills': 0, 'Attacking Deaths': 0, 'Defending Deaths': 0, 'Assists (attacking/defending)': 0, 'Map': 'Ascent', 'Agent': 'Unknown Agent'}, {'Tournament Name': '112729035485517625', 'Attacking Kills': 0, 'Defending Kills': 0, 'Attacking Deaths': 0, 'Defending Deaths': 0, 'Assists (attacking/defending)': 0, 'Map': 'Ascent', 'Agent': 'Unknown Agent'}, {'Tournament Name': '112729035485517625', 'Attacking Kills': 0, 'Defending Kills': 0, 'Attacking Deaths': 0, 'Defending Deaths': 0, 'Assists (attacking/defending)': 0, 'Map': 'Ascent', 'Agent': 'Unknown Agent'}, {'Tournament Name': '112729035485517625', 'Attacking Kills': 0, 'Defending Kills': 0, 'Attacking Deaths': 0, 'Defending Deaths': 0, 'Assists (attacking/defending)': 0, 'Map': 'Ascent', 'Agent': 'Unknown Agent'}, {'Tournament Name': '112729035485517625', 'Attacking Kills': 0, 'Defending Kills': 0, 'Attacking Deaths': 0, 'Defending Deaths': 0, 'Assists (attacking/defending)': 0, 'Map': 'Ascent', 'Agent': 'Unknown Agent'}, {'Tournament Name': '112729035485517625', 'Attacking Kills': 0, 'Defending Kills': 0, 'Attacking Deaths': 0, 'Defending Deaths': 0, 'Assists (attacking/defending)': 0, 'Map': 'Ascent', 'Agent': 'Unknown Agent'}, {'Tournament Name': '112729035485517625', 'Attacking Kills': 0, 'Defending Kills': 0, 'Attacking Deaths': 0, 'Defending Deaths': 0, 'Assists (attacking/defending)': 0, 'Map': 'Ascent', 'Agent': 'Unknown Agent'}, {'Tournament Name': '112729035485517625', 'Attacking Kills': 0, 'Defending Kills': 0, 'Attacking Deaths': 0, 'Defending Deaths': 0, 'Assists (attacking/defending)': 0, 'Map': 'Ascent', 'Agent': 'Unknown Agent'}, {'Tournament Name': '112729035485517625', 'Attacking Kills': 0, 'Defending Kills': 0, 'Attacking Deaths': 0, 'Defending Deaths': 0, 'Assists (attacking/defending)': 0, 'Map': 'Ascent', 'Agent': 'Unknown Agent'}, {'Tournament Name': '112729035485517625', 'Attacking Kills': 0, 'Defending Kills': 0, 'Attacking Deaths': 0, 'Defending Deaths': 0, 'Assists (attacking/defending)': 0, 'Map': 'Ascent', 'Agent': 'Unknown Agent'}, {'Tournament Name': '112729035485517625', 'Attacking Kills': 0, 'Defending Kills': 0, 'Attacking Deaths': 0, 'Defending Deaths': 0, 'Assists (attacking/defending)': 0, 'Map': 'Ascent', 'Agent': 'Unknown Agent'}, {'Tournament Name': '112729035485517625', 'Attacking Kills': 0, 'Defending Kills': 0, 'Attacking Deaths': 0, 'Defending Deaths': 0, 'Assists (attacking/defending)': 0, 'Map': 'Ascent', 'Agent': 'Unknown Agent'}, {'Tournament Name': '112729035485517625', 'Attacking Kills': 0, 'Defending Kills': 0, 'Attacking Deaths': 0, 'Defending Deaths': 0, 'Assists (attacking/defending)': 0, 'Map': 'Ascent', 'Agent': 'Unknown Agent'}, {'Tournament Name': '112729035485517625', 'Attacking Kills': 0, 'Defending Kills': 0, 'Attacking Deaths': 0, 'Defending Deaths': 0, 'Assists (attacking/defending)': 0, 'Map': 'Ascent', 'Agent': 'Unknown Agent'}, {'Tournament Name': '112729035485517625', 'Attacking Kills': 0, 'Defending Kills': 0, 'Attacking Deaths': 0, 'Defending Deaths': 0, 'Assists (attacking/defending)': 0, 'Map': 'Ascent', 'Agent': 'Unknown Agent'}, {'Tournament Name': '112729035485517625', 'Attacking Kills': 0, 'Defending Kills': 0, 'Attacking Deaths': 0, 'Defending Deaths': 0, 'Assists (attacking/defending)': 0, 'Map': 'Ascent', 'Agent': 'Unknown Agent'}, {'Tournament Name': '112729035485517625', 'Attacking Kills': 0, 'Defending Kills': 0, 'Attacking Deaths': 0, 'Defending Deaths': 0, 'Assists (attacking/defending)': 0, 'Map': 'Ascent', 'Agent': 'Unknown Agent'}, {'Tournament Name': '112729035485517625', 'Attacking Kills': 0, 'Defending Kills': 0, 'Attacking Deaths': 0, 'Defending Deaths': 0, 'Assists (attacking/defending)': 0, 'Map': 'Ascent', 'Agent': 'Unknown Agent'}, {'Tournament Name': '112729035485517625', 'Attacking Kills': 0, 'Defending Kills': 0, 'Attacking Deaths': 0, 'Defending Deaths': 0, 'Assists (attacking/defending)': 0, 'Map': 'Ascent', 'Agent': 'Unknown Agent'}]}}\n",
      "1498\n"
     ]
    }
   ],
   "source": [
    "parse_game_data(gameData, players, mappingData)\n",
    "print(len(players))"
   ]
  },
  {
   "cell_type": "markdown",
   "id": "b316093eb6a9b022",
   "metadata": {
    "collapsed": false
   },
   "source": [
    "TODO -> agent not getting assigned properly \n",
    "TODO -> function to parse per game file in order to update players dictionary\n",
    "TODO -> call to invoke function for each file in a certain year"
   ]
  },
  {
   "cell_type": "code",
   "execution_count": null,
   "id": "8a37ec3e614766e1",
   "metadata": {
    "collapsed": false
   },
   "outputs": [],
   "source": []
  }
 ],
 "metadata": {
  "kernelspec": {
   "display_name": "Python 3",
   "language": "python",
   "name": "python3"
  },
  "language_info": {
   "codemirror_mode": {
    "name": "ipython",
    "version": 3
   },
   "file_extension": ".py",
   "mimetype": "text/x-python",
   "name": "python",
   "nbconvert_exporter": "python",
   "pygments_lexer": "ipython3",
   "version": "3.11.9"
  }
 },
 "nbformat": 4,
 "nbformat_minor": 5
}
