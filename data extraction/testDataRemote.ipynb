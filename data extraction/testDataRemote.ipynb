{
 "cells": [
  {
   "cell_type": "code",
   "execution_count": 18,
   "id": "initial_id",
   "metadata": {
    "collapsed": true,
    "ExecuteTime": {
     "end_time": "2024-09-25T22:56:27.787373Z",
     "start_time": "2024-09-25T22:56:27.763321Z"
    }
   },
   "outputs": [],
   "source": [
    "import boto3\n",
    "from botocore.exceptions import NoCredentialsError, PartialCredentialsError\n",
    "import gzip\n",
    "import io\n",
    "import json\n",
    "\n",
    "# Initialize the S3 client\n",
    "s3 = boto3.client('s3')\n",
    "\n",
    "# Specify the bucket name and object key\n",
    "bucket_name = 'vcthackathonbucket1'\n",
    "object_key = 'game-changers/games/2022/val:0429689c-85fa-4448-bbfb-10a099864809.json.gz'"
   ]
  },
  {
   "cell_type": "code",
   "outputs": [],
   "source": [
    "def getUnzippedData(bucket_name, object_key):\n",
    "    try:\n",
    "        # Retrieve the object\n",
    "        response = s3.get_object(Bucket=bucket_name, Key=object_key)\n",
    "    \n",
    "        # Read the object's content into memory\n",
    "        data = response['Body'].read()\n",
    "    \n",
    "        # Unzip the gzipped content\n",
    "        with gzip.GzipFile(fileobj=io.BytesIO(data)) as gz:\n",
    "            unzipped_data = (gz.read())\n",
    "    \n",
    "        return json.loads(unzipped_data)\n",
    "    \n",
    "    except NoCredentialsError:\n",
    "        print(\"Credentials not available.\")\n",
    "    except PartialCredentialsError:\n",
    "        print(\"Incomplete credentials provided.\")\n",
    "    except Exception as e:\n",
    "        print(f\"An error occurred: {e}\")"
   ],
   "metadata": {
    "collapsed": false,
    "ExecuteTime": {
     "end_time": "2024-09-25T22:56:35.488204Z",
     "start_time": "2024-09-25T22:56:35.484408Z"
    }
   },
   "id": "406b6f84cea17ffb",
   "execution_count": 19
  },
  {
   "cell_type": "code",
   "outputs": [],
   "source": [
    "# A cohesive dictionary which will contain all the information we want to feed into the LLM \n",
    "players = {}"
   ],
   "metadata": {
    "collapsed": false,
    "ExecuteTime": {
     "end_time": "2024-09-25T22:56:39.023371Z",
     "start_time": "2024-09-25T22:56:39.016503Z"
    }
   },
   "id": "5813bf2bb3b1369a",
   "execution_count": 20
  },
  {
   "cell_type": "markdown",
   "source": [
    "PARSE LEAGUES"
   ],
   "metadata": {
    "collapsed": false
   },
   "id": "c76c9c2347f07b0c"
  },
  {
   "cell_type": "code",
   "outputs": [],
   "source": [
    "# Specify the bucket name and object key\n",
    "bucket_name = 'vcthackathon-data'\n",
    "object_key = 'game-changers/esports-data/leagues.json.gz'\n",
    "\n",
    "leagues = {}\n",
    "leaguesJSON = getUnzippedData(bucket_name, object_key)"
   ],
   "metadata": {
    "collapsed": false,
    "ExecuteTime": {
     "end_time": "2024-09-25T22:57:13.416163Z",
     "start_time": "2024-09-25T22:57:13.141037Z"
    }
   },
   "id": "6765605626d69e76",
   "execution_count": 22
  },
  {
   "cell_type": "code",
   "outputs": [
    {
     "name": "stdout",
     "output_type": "stream",
     "text": [
      "11\n"
     ]
    }
   ],
   "source": [
    "league = {}\n",
    "#print(leaguesJSON[:2])\n",
    "for league in leaguesJSON:\n",
    "    leagues[league['league_id']] = {'name': league['name'], 'region': league['region']}\n",
    "\n",
    "print(len(leagues))"
   ],
   "metadata": {
    "collapsed": false,
    "ExecuteTime": {
     "end_time": "2024-09-25T23:04:26.467555Z",
     "start_time": "2024-09-25T23:04:26.459717Z"
    }
   },
   "id": "b57c300f25ee5d4",
   "execution_count": 25
  },
  {
   "cell_type": "markdown",
   "source": [
    "PARSE TEAMS"
   ],
   "metadata": {
    "collapsed": false
   },
   "id": "ec91c9fc37db40cd"
  },
  {
   "cell_type": "code",
   "outputs": [
    {
     "name": "stdout",
     "output_type": "stream",
     "text": [
      "283\n"
     ]
    }
   ],
   "source": [
    "# Specify the bucket name and object key\n",
    "bucket_name = 'vcthackathon-data'\n",
    "object_key = 'game-changers/esports-data/teams.json.gz'\n",
    "\n",
    "teams = {}\n",
    "teamsJSON = getUnzippedData(bucket_name, object_key)\n",
    "for team in teamsJSON:\n",
    "        teams[team['id']] = {'name': team['name'], 'acronym': team['acronym'], 'home_league_id': team['home_league_id']}\n",
    "print(len(teams))"
   ],
   "metadata": {
    "collapsed": false,
    "ExecuteTime": {
     "end_time": "2024-09-25T23:07:34.892825Z",
     "start_time": "2024-09-25T23:07:34.531034Z"
    }
   },
   "id": "a3581053559dc044",
   "execution_count": 26
  },
  {
   "cell_type": "markdown",
   "source": [
    "PARSE TOURNAMENTS"
   ],
   "metadata": {
    "collapsed": false
   },
   "id": "681eebb6da010678"
  },
  {
   "cell_type": "code",
   "outputs": [
    {
     "name": "stdout",
     "output_type": "stream",
     "text": [
      "57\n"
     ]
    }
   ],
   "source": [
    "# Specify the bucket name and object key\n",
    "bucket_name = 'vcthackathon-data'\n",
    "object_key = 'game-changers/esports-data/tournaments.json.gz'\n",
    "\n",
    "tournaments = {}\n",
    "tournamentsJSON = getUnzippedData(bucket_name, object_key)\n",
    "for tournament in tournamentsJSON:\n",
    "    tournaments[tournament['id']] = {'league_id': tournament['league_id'], 'name': tournament['name']}\n",
    "\n",
    "print(len(tournaments))"
   ],
   "metadata": {
    "collapsed": false,
    "ExecuteTime": {
     "end_time": "2024-09-25T23:10:34.124901Z",
     "start_time": "2024-09-25T23:10:33.856190Z"
    }
   },
   "id": "1bff1c5c236aa6a3",
   "execution_count": 27
  },
  {
   "cell_type": "markdown",
   "source": [
    "PARSE PLAYERS"
   ],
   "metadata": {
    "collapsed": false
   },
   "id": "35d44b89903c6954"
  },
  {
   "cell_type": "code",
   "outputs": [
    {
     "name": "stdout",
     "output_type": "stream",
     "text": [
      "# of players in JSON: 2999\n",
      "1498\n"
     ]
    }
   ],
   "source": [
    "from datetime import datetime\n",
    "\n",
    "bucket_name = 'vcthackathon-data'\n",
    "object_key = 'game-changers/esports-data/players.json.gz'\n",
    "\n",
    "players = {}\n",
    "playersJSON = getUnzippedData(bucket_name, object_key)\n",
    "\n",
    "date_object = datetime.strptime(playersJSON[0]['updated_at'], \"%Y-%m-%dT%H:%M:%SZ\")\n",
    "# print(f'# of players in JSON: {len(playersJSON)}')\n",
    "for player in playersJSON:\n",
    "    currentDate = datetime.strptime(player['updated_at'], \"%Y-%m-%dT%H:%M:%SZ\")\n",
    "    if player['id'] in players:\n",
    "\n",
    "        #if a duplicate entry, keep the most recent update\n",
    "        if currentDate > players[player['id']]['updated_at']:\n",
    "            \n",
    "            # if most recent is archived, remove them\n",
    "            if player['status']==\"archived\":\n",
    "                # if most recent status of a player is archived\n",
    "                del players[player['id']]\n",
    "                \n",
    "            #otherwise, update them\n",
    "            else:\n",
    "                players[player['id']]['handle'] = player['handle']\n",
    "                players[player['id']]['updated_at'] = currentDate\n",
    "                players[player['id']]['first_name'] = player['first_name']\n",
    "                players[player['id']]['last_name'] = player['last_name']\n",
    "                players[player['id']]['home_team_id'] = player['home_team_id']\n",
    "                \n",
    "    else:\n",
    "        if player['status'] == 'archived':\n",
    "            continue\n",
    "        players[player['id']] = {}\n",
    "        players[player['id']]['handle'] = player['handle']\n",
    "        players[player['id']]['updated_at'] = currentDate\n",
    "        players[player['id']]['first_name'] = player['first_name']\n",
    "        players[player['id']]['last_name'] = player['last_name']\n",
    "        players[player['id']]['home_team_id'] = player['home_team_id']\n",
    "\n",
    "print(len(players))"
   ],
   "metadata": {
    "collapsed": false,
    "ExecuteTime": {
     "end_time": "2024-09-25T23:39:12.704713Z",
     "start_time": "2024-09-25T23:39:12.173509Z"
    }
   },
   "id": "79cb725c2ed42c15",
   "execution_count": 29
  },
  {
   "cell_type": "markdown",
   "source": [
    "PARSE MAPPING DATA\n",
    "* note that mapping data is per game *"
   ],
   "metadata": {
    "collapsed": false
   },
   "id": "f650eee5be1a2d30"
  },
  {
   "cell_type": "code",
   "outputs": [
    {
     "name": "stdout",
     "output_type": "stream",
     "text": [
      "1140\n"
     ]
    }
   ],
   "source": [
    "mappingData = {}\n",
    "\n",
    "bucket_name = 'vcthackathon-data'\n",
    "object_key = 'game-changers/esports-data/mapping_data_v2.json.gz'\n",
    "\n",
    "mappingDataJSON = getUnzippedData(bucket_name, object_key)\n",
    "for map in mappingDataJSON:\n",
    "    mappingData[map['platformGameId']] = {\n",
    "        'esportsGameId': map['esportsGameId'],\n",
    "        #'matchId': map['matchId'],\n",
    "        'tournamentId': map['tournamentId'],\n",
    "        'teamMapping': map['teamMapping'],\n",
    "        'participantMapping': map['participantMapping']\n",
    "    }\n",
    "    \n",
    "print(len(mappingData))"
   ],
   "metadata": {
    "collapsed": false,
    "ExecuteTime": {
     "end_time": "2024-09-26T00:04:51.661408Z",
     "start_time": "2024-09-26T00:04:50.846749Z"
    }
   },
   "id": "6a233d46b10836c7",
   "execution_count": 30
  },
  {
   "cell_type": "markdown",
   "source": [
    "TODO -> function to parse per game file in order to update players dictionary\n",
    "TODO -> call to invoke function for each file in a certain year"
   ],
   "metadata": {
    "collapsed": false
   },
   "id": "7fbd7f6d6c38636f"
  },
  {
   "cell_type": "code",
   "outputs": [],
   "source": [
    "# TODO: Change this to be all game files instead of just one\n",
    "bucket_name = 'vcthackathon-data'\n",
    "object_key = 'game-changers/games/2024/val:001949ff-e8a0-40fb-8ba5-65e123df8e1d.json.gz'\n",
    "\n",
    "gameData = getUnzippedData(bucket_name, object_key)"
   ],
   "metadata": {
    "collapsed": false
   },
   "id": "81e088148e0bb4df"
  },
  {
   "cell_type": "code",
   "outputs": [],
   "source": [
    "def config_event(event, mappingData, temp_players):\n",
    "    # Link to mapping data using platformGameId\n",
    "    platform_game_id = event['platformGameId']\n",
    "    \n",
    "    if platform_game_id not in mappingData:\n",
    "        print(f\"Platform game ID {platform_game_id} not found in mapping data\")\n",
    "        return temp_players, None  # Return if no matching platformGameId in mapping data\n",
    "    \n",
    "    mapping_info = mappingData[platform_game_id]\n",
    "    \n",
    "    # Extract map info\n",
    "    map_info = event['configuration']['selectedMap']['fallback']['displayName']\n",
    "    \n",
    "    # Extract team and player information\n",
    "    for team in event['configuration']['teams']:\n",
    "        team_id = team['teamId']['value']\n",
    "        team_name = team['name']\n",
    "        \n",
    "        for player in team['playersInTeam']:\n",
    "            player_id = player['value']\n",
    "            \n",
    "            # Get player-specific data from the 'players' field in the config event\n",
    "            player_info = next((p for p in event['configuration']['players'] if p['playerId']['value'] == player_id), None)\n",
    "            if not player_info:\n",
    "                continue  # Skip if player info not found\n",
    "            \n",
    "            # Extract relevant player information\n",
    "            player_handle = player_info['accountId']['value']\n",
    "            player_name = player_info['displayName']\n",
    "            player_tag = player_info['tagLine']\n",
    "            selected_agent = player_info['selectedAgent']['fallback']['guid']  # GUID of the agent\n",
    "            \n",
    "            # Get global player ID from the participantMapping\n",
    "            global_player_id = mapping_info['participantMapping'].get(str(player_id))\n",
    "            if not global_player_id:\n",
    "                continue  # Skip if no global player ID is found\n",
    "            \n",
    "            # Initialize the player entry if it doesn't exist in temp_players\n",
    "            if global_player_id not in temp_players:\n",
    "                temp_players[global_player_id] = {\n",
    "                    'ID': player_handle,\n",
    "                    'handle': player_handle,\n",
    "                    'name': player_name,\n",
    "                    'team': team_name,\n",
    "                    'region': None,  # Can be filled in later\n",
    "                    'league_name': None,  # Can be filled in later\n",
    "                    'Games': []  # List of games\n",
    "                }\n",
    "            \n",
    "            # Add game-specific info\n",
    "            game_info = {\n",
    "                'Year': None,  # Year can be filled in from other events\n",
    "                'Tournament Name': mapping_info['tournamentId'],  # From mapping data\n",
    "                'Attacking Kills': 0,  # Initialize to 0, update later\n",
    "                'Defending Kills': 0,  # Initialize to 0, update later\n",
    "                'Attacking Deaths': 0,  # Initialize to 0, update later\n",
    "                'Defending Deaths': 0,  # Initialize to 0, update later\n",
    "                'Attacking Revives': 0,  # Initialize to 0, update later\n",
    "                'Defending Revives': 0,  # Initialize to 0, update later\n",
    "                'Assists (attacking/defending)': 0,  # Initialize to 0, update later\n",
    "                'Map': map_info,\n",
    "                'Agent': selected_agent\n",
    "            }\n",
    "            \n",
    "            temp_players[global_player_id]['Games'].append(game_info)\n",
    "    \n",
    "    # Initialize attack/defend info\n",
    "    attack_defend_info = {\n",
    "        \"attackingTeam\": event['configuration']['spikeMode']['attackingTeam']['value'],\n",
    "        \"defendingTeam\": event['configuration']['spikeMode']['defendingTeam']['value'],\n",
    "    }\n",
    "    \n",
    "    return temp_players, attack_defend_info"
   ],
   "metadata": {
    "collapsed": false
   },
   "id": "b9d1d61738128271"
  },
  {
   "cell_type": "code",
   "outputs": [],
   "source": [
    "def player_died_event(event, attack_defend_info, temp_players, mappingData):\n",
    "    platform_game_id = event['platformGameId']\n",
    "    \n",
    "    if platform_game_id not in mappingData:\n",
    "        print(f\"Platform game ID {platform_game_id} not found in mapping data\")\n",
    "        return temp_players\n",
    "    \n",
    "    # Extract player IDs\n",
    "    deceased_id = event['playerDied']['deceasedId']['value']\n",
    "    killer_id = event['playerDied']['killerId']['value']\n",
    "    \n",
    "    # Use participantMapping to map to global player ID\n",
    "    global_deceased_id = mappingData[platform_game_id]['participantMapping'].get(str(deceased_id))\n",
    "    global_killer_id = mappingData[platform_game_id]['participantMapping'].get(str(killer_id))\n",
    "    \n",
    "    # If no valid mappings are found, return\n",
    "    if not global_deceased_id or not global_killer_id:\n",
    "        return temp_players\n",
    "    \n",
    "    # Determine if the players are on the attacking or defending team\n",
    "    attacking_team = attack_defend_info['attackingTeam']\n",
    "    defending_team = attack_defend_info['defendingTeam']\n",
    "    \n",
    "    deceased_team = next((team_id for team_id, mapping in mappingData[platform_game_id]['participantMapping'].items() if mapping == global_deceased_id), None)\n",
    "    killer_team = next((team_id for team_id, mapping in mappingData[platform_game_id]['participantMapping'].items() if mapping == global_killer_id), None)\n",
    "    \n",
    "    if deceased_team == attacking_team:\n",
    "        temp_players[global_deceased_id]['Games'][-1]['Attacking Deaths'] += 1\n",
    "    else:\n",
    "        temp_players[global_deceased_id]['Games'][-1]['Defending Deaths'] += 1\n",
    "    \n",
    "    if killer_team == attacking_team:\n",
    "        temp_players[global_killer_id]['Games'][-1]['Attacking Kills'] += 1\n",
    "    else:\n",
    "        temp_players[global_killer_id]['Games'][-1]['Defending Kills'] += 1\n",
    "    \n",
    "    # Update assistant data if there are any\n",
    "    for assistant in event['playerDied'].get('assistants', []):\n",
    "        assistant_id = assistant['assistantId']['value']\n",
    "        global_assistant_id = mappingData[platform_game_id]['participantMapping'].get(str(assistant_id))\n",
    "        \n",
    "        if not global_assistant_id:\n",
    "            continue\n",
    "        \n",
    "        assistant_team = next((team_id for team_id, mapping in mappingData[platform_game_id]['participantMapping'].items() if mapping == global_assistant_id), None)\n",
    "        \n",
    "        if assistant_team == attacking_team:\n",
    "            temp_players[global_assistant_id]['Games'][-1]['Assists (attacking/defending)'] += 1\n",
    "        else:\n",
    "            temp_players[global_assistant_id]['Games'][-1]['Assists (attacking/defending)'] += 1\n",
    "    \n",
    "    return temp_players"
   ],
   "metadata": {
    "collapsed": false
   },
   "id": "cbf2088176e2e72a"
  },
  {
   "cell_type": "code",
   "outputs": [],
   "source": [
    "# this function takes in a game data file, and parses through it, returning only what we want\n",
    "# @returns updated players dictionary \n",
    "def parse_game_data(gameData, players, mappingData):\n",
    "    temp_players = {}\n",
    "\n",
    "    for event in gameData:\n",
    "        if 'configuration' in event:\n",
    "            config_event(event, temp_players, mappingData)\n",
    "        elif 'playerDied' in event:\n",
    "            player_died_event(event, temp_players, mappingData)\n",
    "    \n",
    "    # Merge temp_players into the main players dictionary\n",
    "    for player_id, player_data in temp_players.items():\n",
    "        if player_id in players:\n",
    "            # Merge game information if player already exists in the players dictionary\n",
    "            players[player_id]['Games'].extend(player_data['Games'])\n",
    "        else:\n",
    "            # Add new player entry if not in players dictionary\n",
    "            players[player_id] = player_data\n",
    "\n",
    "    return players\n",
    "\n",
    "    "
   ],
   "metadata": {
    "collapsed": false,
    "ExecuteTime": {
     "end_time": "2024-09-25T20:46:58.286730Z",
     "start_time": "2024-09-25T20:46:58.286434Z"
    }
   },
   "id": "535df2748fd4c4e0",
   "execution_count": 14
  },
  {
   "cell_type": "code",
   "outputs": [],
   "source": [
    "parse_game_data(gameData, players)\n",
    "print(len(players))"
   ],
   "metadata": {
    "collapsed": false
   },
   "id": "2be6c48cb0a74818"
  }
 ],
 "metadata": {
  "kernelspec": {
   "display_name": "Python 3",
   "language": "python",
   "name": "python3"
  },
  "language_info": {
   "codemirror_mode": {
    "name": "ipython",
    "version": 2
   },
   "file_extension": ".py",
   "mimetype": "text/x-python",
   "name": "python",
   "nbconvert_exporter": "python",
   "pygments_lexer": "ipython2",
   "version": "2.7.6"
  }
 },
 "nbformat": 4,
 "nbformat_minor": 5
}
