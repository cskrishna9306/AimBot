{
 "cells": [
  {
   "cell_type": "code",
   "execution_count": 1,
   "metadata": {},
   "outputs": [],
   "source": [
    "import json\n",
    "import os\n",
    "import sys\n",
    "\n",
    "import boto3\n",
    "\n",
    "boto3_bedrock = boto3.client('bedrock')"
   ]
  },
  {
   "cell_type": "code",
   "execution_count": 2,
   "metadata": {},
   "outputs": [
    {
     "data": {
      "text/plain": [
       "['Titan Text Large',\n",
       " 'Titan Image Generator G1',\n",
       " 'Titan Image Generator G1',\n",
       " 'Titan Image Generator G1 v2',\n",
       " 'Titan Text G1 - Premier',\n",
       " 'Titan Text Embeddings v2',\n",
       " 'Titan Text G1 - Lite',\n",
       " 'Titan Text G1 - Lite',\n",
       " 'Titan Text G1 - Express',\n",
       " 'Titan Text G1 - Express',\n",
       " 'Titan Embeddings G1 - Text',\n",
       " 'Titan Embeddings G1 - Text',\n",
       " 'Titan Text Embeddings V2',\n",
       " 'Titan Text Embeddings V2',\n",
       " 'Titan Multimodal Embeddings G1',\n",
       " 'Titan Multimodal Embeddings G1',\n",
       " 'SDXL 1.0',\n",
       " 'SDXL 1.0',\n",
       " 'J2 Grande Instruct',\n",
       " 'J2 Jumbo Instruct',\n",
       " 'Jurassic-2 Mid',\n",
       " 'Jurassic-2 Mid',\n",
       " 'Jurassic-2 Ultra',\n",
       " 'Jurassic-2 Ultra',\n",
       " 'Jurassic-2 Ultra',\n",
       " 'Jamba-Instruct',\n",
       " 'Jamba 1.5 Large',\n",
       " 'Jamba 1.5 Mini',\n",
       " 'Claude Instant',\n",
       " 'Claude Instant',\n",
       " 'Claude',\n",
       " 'Claude',\n",
       " 'Claude',\n",
       " 'Claude',\n",
       " 'Claude',\n",
       " 'Claude',\n",
       " 'Claude 3 Sonnet',\n",
       " 'Claude 3 Sonnet',\n",
       " 'Claude 3 Sonnet',\n",
       " 'Claude 3 Haiku',\n",
       " 'Claude 3 Haiku',\n",
       " 'Claude 3 Haiku',\n",
       " 'Claude 3 Opus',\n",
       " 'Claude 3 Opus',\n",
       " 'Claude 3 Opus',\n",
       " 'Claude 3 Opus',\n",
       " 'Claude 3.5 Sonnet',\n",
       " 'Command',\n",
       " 'Command',\n",
       " 'Command R',\n",
       " 'Command R+',\n",
       " 'Command Light',\n",
       " 'Command Light',\n",
       " 'Embed English',\n",
       " 'Embed English',\n",
       " 'Embed Multilingual',\n",
       " 'Embed Multilingual',\n",
       " 'Llama 2 Chat 13B',\n",
       " 'Llama 2 Chat 13B',\n",
       " 'Llama 2 Chat 70B',\n",
       " 'Llama 2 Chat 70B',\n",
       " 'Llama 2 13B',\n",
       " 'Llama 2 13B',\n",
       " 'Llama 2 70B',\n",
       " 'Llama 2 70B',\n",
       " 'Llama 3 8B Instruct',\n",
       " 'Llama 3 70B Instruct',\n",
       " 'Mistral 7B Instruct',\n",
       " 'Mixtral 8x7B Instruct',\n",
       " 'Mistral Large (2402)',\n",
       " 'Mistral Small']"
      ]
     },
     "execution_count": 2,
     "metadata": {},
     "output_type": "execute_result"
    }
   ],
   "source": [
    "[models['modelName'] for models in boto3_bedrock.list_foundation_models()['modelSummaries']]"
   ]
  },
  {
   "cell_type": "code",
   "execution_count": 3,
   "metadata": {},
   "outputs": [],
   "source": [
    "import boto3\n",
    "import botocore\n",
    "import json \n",
    "\n",
    "bedrock_runtime = boto3.client('bedrock-runtime')"
   ]
  },
  {
   "cell_type": "code",
   "execution_count": 6,
   "metadata": {},
   "outputs": [],
   "source": [
    "# If you'd like to try your own prompt, edit this parameter!\n",
    "prompt_data = \"\"\"Command: Give me a team of 5 valorant players.\n",
    "\n",
    "Blog:\n",
    "\"\"\""
   ]
  },
  {
   "cell_type": "code",
   "execution_count": 7,
   "metadata": {},
   "outputs": [
    {
     "name": "stdout",
     "output_type": "stream",
     "text": [
      "This model is unable to provide a team of 5 Valorant players. However, it can provide some tips on how to find a team:\n",
      "\n",
      "1. Use online platforms: There are many online platforms and communities dedicated to finding teammates for Valorant. You can join these platforms, browse through the profiles of other players, and send them friend requests or messages to see if they're interested in playing together.\n",
      "\n",
      "2. Attend local gaming events: Local gaming events are a great way to meet other Valorant players and find potential teammates. You can check online for upcoming events in your area and attend them to meet new people and play\n"
     ]
    }
   ],
   "source": [
    "try:\n",
    "\n",
    "    body = json.dumps({\"inputText\": prompt_data, \"textGenerationConfig\" : {\"topP\":0.95, \"temperature\":0.2}})\n",
    "    modelId = \"amazon.titan-tg1-large\" # \n",
    "    accept = \"application/json\"\n",
    "    contentType = \"application/json\"\n",
    "\n",
    "    response = bedrock_runtime.invoke_model(\n",
    "        body=body, modelId=modelId, accept=accept, contentType=contentType\n",
    "    )\n",
    "    response_body = json.loads(response.get(\"body\").read())\n",
    "\n",
    "    print(response_body.get(\"results\")[0].get(\"outputText\"))\n",
    "\n",
    "except botocore.exceptions.ClientError as error:\n",
    "\n",
    "    if error.response['Error']['Code'] == 'AccessDeniedException':\n",
    "           print(f\"\\x1b[41m{error.response['Error']['Message']}\\\n",
    "                \\nTo troubeshoot this issue please refer to the following resources.\\\n",
    "                 \\nhttps://docs.aws.amazon.com/IAM/latest/UserGuide/troubleshoot_access-denied.html\\\n",
    "                 \\nhttps://docs.aws.amazon.com/bedrock/latest/userguide/security-iam.html\\x1b[0m\\n\")\n",
    "\n",
    "    else:\n",
    "        raise error"
   ]
  }
 ],
 "metadata": {
  "kernelspec": {
   "display_name": ".venv",
   "language": "python",
   "name": "python3"
  },
  "language_info": {
   "codemirror_mode": {
    "name": "ipython",
    "version": 3
   },
   "file_extension": ".py",
   "mimetype": "text/x-python",
   "name": "python",
   "nbconvert_exporter": "python",
   "pygments_lexer": "ipython3",
   "version": "3.11.9"
  }
 },
 "nbformat": 4,
 "nbformat_minor": 2
}
