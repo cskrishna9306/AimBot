{
 "cells": [
  {
   "cell_type": "code",
   "execution_count": 1,
   "id": "initial_id",
   "metadata": {
    "collapsed": true,
    "ExecuteTime": {
     "end_time": "2024-10-24T04:50:51.165343Z",
     "start_time": "2024-10-24T04:50:51.151344Z"
    }
   },
   "outputs": [],
   "source": [
    "# open up game changers, oct and vct\n",
    "import json"
   ]
  },
  {
   "cell_type": "code",
   "outputs": [],
   "source": [
    "# Open and load the JSON file\n",
    "with open('vct-challengers.json', 'r') as file:\n",
    "    gameChangers = json.load(file)"
   ],
   "metadata": {
    "collapsed": false,
    "ExecuteTime": {
     "end_time": "2024-10-24T04:50:52.851579Z",
     "start_time": "2024-10-24T04:50:52.813819Z"
    }
   },
   "id": "dc2816bf1cd9f4b9",
   "execution_count": 2
  },
  {
   "cell_type": "code",
   "outputs": [
    {
     "name": "stdout",
     "output_type": "stream",
     "text": [
      "{'handle': 'ezznap', 'date': '2024-05-10T08:57:14', 'status': 'active', 'first_name': 'Faber', 'last_name': 'Murillo', 'home_team_name': 'Ryze Gaming', 'home_team_acronym': 'RYZ', 'home_league_name': 'challengers_latam_n', 'region': 'LAN', 'tournament': 'vct-challengers', 'career_statistics': {'total_rounds_played': 695, 'attack_kda': 1.39, 'defense_kda': 1.31, 'avg_kills_per_round': 0.6, 'avg_assists_per_round': 0.42, 'avg_combat_score_per_round': 176.79, 'avg_revives_per_round': 0.0, 'avg_damage_dealt_per_round': 92.16, 'avg_first_bloods_per_round': 0.07, 'avg_first_deaths_per_round': 0.09}, 'player_statistics_per_agent': {'Controller': {'Astra': {'total_rounds_played': 163, 'attack_kda': 1.75, 'defense_kda': 1.14, 'avg_kills_per_round': 0.6, 'avg_assists_per_round': 0.45, 'avg_combat_score_per_round': 173.19, 'avg_revives_per_round': 0.0, 'avg_damage_dealt_per_round': 90.72, 'avg_first_bloods_per_round': 0.04, 'avg_first_deaths_per_round': 0.07}, 'Omen': {'total_rounds_played': 257, 'attack_kda': 1.23, 'defense_kda': 1.48, 'avg_kills_per_round': 0.6, 'avg_assists_per_round': 0.42, 'avg_combat_score_per_round': 176.25, 'avg_revives_per_round': 0.0, 'avg_damage_dealt_per_round': 92.27, 'avg_first_bloods_per_round': 0.08, 'avg_first_deaths_per_round': 0.09}, 'Brimstone': {'total_rounds_played': 144, 'attack_kda': 1.4, 'defense_kda': 1.37, 'avg_kills_per_round': 0.65, 'avg_assists_per_round': 0.4, 'avg_combat_score_per_round': 182.31, 'avg_revives_per_round': 0.0, 'avg_damage_dealt_per_round': 93.12, 'avg_first_bloods_per_round': 0.08, 'avg_first_deaths_per_round': 0.12}, 'Viper': {'total_rounds_played': 96, 'attack_kda': 1.14, 'defense_kda': 0.98, 'avg_kills_per_round': 0.54, 'avg_assists_per_round': 0.3, 'avg_combat_score_per_round': 167.81, 'avg_revives_per_round': 0.0, 'avg_damage_dealt_per_round': 91.37, 'avg_first_bloods_per_round': 0.02, 'avg_first_deaths_per_round': 0.08}, 'Harbor': {'total_rounds_played': 19, 'attack_kda': 1.17, 'defense_kda': 1.22, 'avg_kills_per_round': 0.53, 'avg_assists_per_round': 0.42, 'avg_combat_score_per_round': 167.05, 'avg_revives_per_round': 0.0, 'avg_damage_dealt_per_round': 85.41, 'avg_first_bloods_per_round': 0.16, 'avg_first_deaths_per_round': 0.05}}, 'Initiator': {'Breach': {'total_rounds_played': 16, 'attack_kda': 4.0, 'defense_kda': 2.1, 'avg_kills_per_round': 0.81, 'avg_assists_per_round': 1.0, 'avg_combat_score_per_round': 237.69, 'avg_revives_per_round': 0.0, 'avg_damage_dealt_per_round': 108.97, 'avg_first_bloods_per_round': 0.19, 'avg_first_deaths_per_round': 0.0}}}}\n"
     ]
    }
   ],
   "source": [
    "# 'data' now contains the contents of the JSON file as a dictionary\n",
    "# Get the first key-value pair from the dictionary\n",
    "print(gameChangers[1])"
   ],
   "metadata": {
    "collapsed": false,
    "ExecuteTime": {
     "end_time": "2024-10-24T04:53:43.976626Z",
     "start_time": "2024-10-24T04:53:43.972017Z"
    }
   },
   "id": "262a0b1184d03099",
   "execution_count": 5
  },
  {
   "cell_type": "code",
   "outputs": [
    {
     "name": "stdout",
     "output_type": "stream",
     "text": [
      "2837\n"
     ]
    }
   ],
   "source": [
    "print(len(gameChangers))"
   ],
   "metadata": {
    "collapsed": false,
    "ExecuteTime": {
     "end_time": "2024-10-24T04:51:24.174495Z",
     "start_time": "2024-10-24T04:51:24.156235Z"
    }
   },
   "id": "b54c20d0bbe5cdae",
   "execution_count": 4
  },
  {
   "cell_type": "code",
   "outputs": [
    {
     "data": {
      "text/plain": "0"
     },
     "execution_count": 7,
     "metadata": {},
     "output_type": "execute_result"
    }
   ],
   "source": [
    "len(gameChangers[0]['career_statistics'])"
   ],
   "metadata": {
    "collapsed": false,
    "ExecuteTime": {
     "end_time": "2024-10-24T04:55:10.599113Z",
     "start_time": "2024-10-24T04:55:10.591118Z"
    }
   },
   "id": "862cc804db67c919",
   "execution_count": 7
  },
  {
   "cell_type": "code",
   "outputs": [
    {
     "name": "stdout",
     "output_type": "stream",
     "text": [
      "1359\n"
     ]
    }
   ],
   "source": [
    "# get rid of everyone who has blank career stats \n",
    "\n",
    "# Remove players with blank career stats\n",
    "gameChangers = [player for player in gameChangers if len(player['career_statistics']) > 0]\n",
    "\n",
    "print(len(gameChangers))    "
   ],
   "metadata": {
    "collapsed": false,
    "ExecuteTime": {
     "end_time": "2024-10-24T04:56:34.001316Z",
     "start_time": "2024-10-24T04:56:33.995836Z"
    }
   },
   "id": "b59c3fe73cb34ee3",
   "execution_count": 8
  },
  {
   "cell_type": "code",
   "outputs": [],
   "source": [
    "# Function to sort by a field and add unique players to the final dict\n",
    "def add_top_players(gameChangers, field, num_players, selected_players):\n",
    "    # Sort the players by the given field in descending order\n",
    "    sorted_players = sorted(gameChangers, key=lambda x: x['career_statistics'][field], reverse=True)\n",
    "    \n",
    "    added_count = 0\n",
    "    for player in sorted_players:\n",
    "        # Check if the player is already added (use 'id' to track uniqueness)\n",
    "        if player['handle'] not in selected_players:\n",
    "            selected_players[player['handle']] = player  # Add player to final dict\n",
    "            added_count += 1\n",
    "        # Stop once we've added the required number of players\n",
    "        if added_count == num_players:\n",
    "            break\n",
    "\n",
    "# Dictionary to store the final selected players (no duplicates)\n",
    "selected_players = {}\n",
    "\n",
    "# Add top 30 from 'avg_combat_score_per_round'\n",
    "add_top_players(gameChangers, 'avg_combat_score_per_round', 30, selected_players)\n",
    "\n",
    "# Add top 30 from 'attack_kda'\n",
    "add_top_players(gameChangers, 'attack_kda', 30, selected_players)\n",
    "\n",
    "# Add top 30 from 'defense_kda'\n",
    "add_top_players(gameChangers, 'defense_kda', 30, selected_players)\n",
    "\n",
    "# Add top 10 from 'avg_damage_dealt_per_round'\n",
    "add_top_players(gameChangers, 'avg_damage_dealt_per_round', 10, selected_players)\n",
    "\n",
    "# Final selected players (now guaranteed to have 100 unique players)\n",
    "final_top_players = list(selected_players.values())\n"
   ],
   "metadata": {
    "collapsed": false,
    "ExecuteTime": {
     "end_time": "2024-10-24T05:12:00.426681Z",
     "start_time": "2024-10-24T05:12:00.415982Z"
    }
   },
   "id": "c66b7a368bc7b53c",
   "execution_count": 15
  },
  {
   "cell_type": "code",
   "outputs": [
    {
     "data": {
      "text/plain": "100"
     },
     "execution_count": 16,
     "metadata": {},
     "output_type": "execute_result"
    }
   ],
   "source": [
    "len(final_top_players)"
   ],
   "metadata": {
    "collapsed": false,
    "ExecuteTime": {
     "end_time": "2024-10-24T05:12:02.720870Z",
     "start_time": "2024-10-24T05:12:02.717025Z"
    }
   },
   "id": "db6653f3f7952679",
   "execution_count": 16
  },
  {
   "cell_type": "code",
   "outputs": [],
   "source": [
    "# put modified file into a new file\n",
    "with open('game_changers_100.json', 'w') as file:\n",
    "    json.dump(gameChangers[:100], file, indent=4)"
   ],
   "metadata": {
    "collapsed": false,
    "ExecuteTime": {
     "end_time": "2024-10-24T05:12:21.742397Z",
     "start_time": "2024-10-24T05:12:21.723188Z"
    }
   },
   "id": "58caf38ffe3f4a81",
   "execution_count": 17
  },
  {
   "cell_type": "code",
   "outputs": [],
   "source": [],
   "metadata": {
    "collapsed": false
   },
   "id": "f05dc9b022c6d203"
  }
 ],
 "metadata": {
  "kernelspec": {
   "display_name": "Python 3",
   "language": "python",
   "name": "python3"
  },
  "language_info": {
   "codemirror_mode": {
    "name": "ipython",
    "version": 2
   },
   "file_extension": ".py",
   "mimetype": "text/x-python",
   "name": "python",
   "nbconvert_exporter": "python",
   "pygments_lexer": "ipython2",
   "version": "2.7.6"
  }
 },
 "nbformat": 4,
 "nbformat_minor": 5
}
